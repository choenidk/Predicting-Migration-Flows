{
 "cells": [
  {
   "cell_type": "code",
   "execution_count": 1,
   "metadata": {},
   "outputs": [
    {
     "name": "stderr",
     "output_type": "stream",
     "text": [
      "C:\\Users\\Carlos\\Anaconda3\\lib\\site-packages\\sklearn\\ensemble\\weight_boosting.py:29: DeprecationWarning: numpy.core.umath_tests is an internal NumPy module and should not be imported. It will be removed in a future NumPy release.\n",
      "  from numpy.core.umath_tests import inner1d\n"
     ]
    }
   ],
   "source": [
    "#general libraries\n",
    "import pandas as pd \n",
    "import numpy as np\n",
    "import matplotlib.pyplot as plt\n",
    "import seaborn as sns\n",
    "#preprocessing\n",
    "from sklearn.preprocessing import StandardScaler,MinMaxScaler\n",
    "from sklearn.model_selection import train_test_split\n",
    "#machine learning algorithms\n",
    "from sklearn.linear_model import Lasso\n",
    "from lightgbm import LGBMRegressor\n",
    "from sklearn.ensemble import RandomForestRegressor,GradientBoostingRegressor,AdaBoostRegressor\n",
    "from xgboost import XGBRegressor\n",
    "from sklearn.model_selection import RandomizedSearchCV\n",
    "#metrics\n",
    "from sklearn.metrics import mean_squared_error,mean_squared_log_error,explained_variance_score,r2_score"
   ]
  },
  {
   "cell_type": "code",
   "execution_count": 2,
   "metadata": {},
   "outputs": [],
   "source": [
    "pd.set_option('display.max_columns', 100)\n",
    "pd.set_option('display.max_rows', 300)"
   ]
  },
  {
   "cell_type": "markdown",
   "metadata": {},
   "source": [
    "\n",
    "<h3><center>Project Summary</center></h3>    "
   ]
  },
  {
   "cell_type": "markdown",
   "metadata": {},
   "source": [
    "In the last couple of years migrant and refugee numbers have been rising. Each year millions leave their countries in hope of a better future and hundreds of thousands cross the meditarenean to find a better life. Unfortunately the reality for most of them will not resemble their dreams. \n",
    "\n",
    "The migrant crisis of 2015 came as big surprise for european the the european population and policymakers. So the question is: \"Is it possible to predict the number of migrants\" based on socioeconomic features. Can a machine learning algorithm solve the question? \n",
    "\n"
   ]
  },
  {
   "cell_type": "markdown",
   "metadata": {},
   "source": [
    "<h3><center>Caveats</center></h3>\n",
    "\n",
    "Lack of data:\n",
    "There are a couple of problems that need to be mentioned. The biggest is to get the precise numbers of migrants that leave a given country for a given period. Most developing countries don't record data on a regular basis or for longer periods. There is also the problem that migration flows not only occur  between developing countries and developed countries but also between developing countries.\n",
    "\n",
    "Migration versus refugee:\n",
    "For this project I will only focus on migrants i.e. persons that are moving to another to improve their economic situation. In theory there is a clear distinction between between migrants and refugees i.e. persons that left their country to escape war, persecution, or natural disaster.\n",
    "\n",
    "Hidden migration:\n",
    "Due to the difficulty of getting a residence/work permit there is an unknown quantity of foreign nationals living in developing countries that is not counted in the statistics.\n"
   ]
  },
  {
   "cell_type": "markdown",
   "metadata": {},
   "source": [
    "Note: The project is ongoing so there will be lots of changes in the future."
   ]
  },
  {
   "cell_type": "markdown",
   "metadata": {},
   "source": [
    "<center><h3>1. Loading and manipulating the data files</h3></center>"
   ]
  },
  {
   "cell_type": "markdown",
   "metadata": {},
   "source": [
    "The datafiles come from three sources. \n",
    "<br>World Bank:<br>\n",
    "https://data.worldbank.org/\n",
    "<br>United Nations: <br>\n",
    "http://hdr.undp.org/en/data\n",
    "<br>OECD:<br>\n",
    "http://www.oecd.org/migration/mig/oecdmigrationdatabases.htm"
   ]
  },
  {
   "cell_type": "markdown",
   "metadata": {},
   "source": [
    "<h3>Datafiles from The World Bank</h3>"
   ]
  },
  {
   "cell_type": "code",
   "execution_count": 3,
   "metadata": {},
   "outputs": [],
   "source": [
    "gdp =  pd.read_csv('data/datafiles/GDP.csv')\n",
    "inflation = pd.read_csv('data/datafiles/inflation.csv')\n",
    "population_growth = pd.read_csv('data/datafiles/population_growth.csv')\n",
    "unemployment = pd.read_csv('data/datafiles/unemployment.csv')\n",
    "rural_population = pd.read_csv('data/datafiles/rural_population.csv')"
   ]
  },
  {
   "cell_type": "markdown",
   "metadata": {},
   "source": [
    "<h5>Countries of origin</h5>"
   ]
  },
  {
   "cell_type": "code",
   "execution_count": 4,
   "metadata": {},
   "outputs": [],
   "source": [
    "countries = ('Angola','Algeria', 'Burundi', 'Benin', 'Burkina Faso', 'Botswana',\n",
    "       'Central African Republic', 'Cote d Ivoire',\n",
    "       'Democratic Republic of the Congo', 'Djibouti', 'Egypt', 'Eritrea',\n",
    "       'Ethiopia', 'Gabon', 'Ghana', 'Guinea', 'Gambia', 'Guinea-Bissau',\n",
    "       'Equatorial Guinea', 'Kenya', 'Liberia', 'Libya', 'Lesotho',\n",
    "       'Morocco', 'Madagascar', 'Mali', 'Mozambique', 'Mauritania',\n",
    "       'Mauritius', 'Malawi', 'Namibia', 'Niger', 'Nigeria', 'Rwanda',\n",
    "       'Sierra Leone', 'Swaziland', 'Togo', 'Tunisia', 'Tanzania',\n",
    "       'Uganda', 'South Africa', 'Zambia', 'Zimbabwe')"
   ]
  },
  {
   "cell_type": "code",
   "execution_count": 5,
   "metadata": {},
   "outputs": [],
   "source": [
    "dflist = (gdp,inflation,population_growth,unemployment, rural_population)"
   ]
  },
  {
   "cell_type": "code",
   "execution_count": 6,
   "metadata": {},
   "outputs": [
    {
     "name": "stdout",
     "output_type": "stream",
     "text": [
      "(264, 64)\n",
      "(264, 64)\n",
      "(264, 64)\n",
      "(264, 64)\n",
      "(264, 64)\n"
     ]
    }
   ],
   "source": [
    "for df in dflist:\n",
    "    print(df.shape)\n"
   ]
  },
  {
   "cell_type": "code",
   "execution_count": 7,
   "metadata": {},
   "outputs": [],
   "source": [
    "for df in dflist:\n",
    "    df.drop(list(df)[3:44], axis=1,inplace=True)"
   ]
  },
  {
   "cell_type": "code",
   "execution_count": 8,
   "metadata": {},
   "outputs": [],
   "source": [
    "for df in dflist:\n",
    "    df.drop(list(df)[20:23], axis=1,inplace=True)"
   ]
  },
  {
   "cell_type": "code",
   "execution_count": 9,
   "metadata": {},
   "outputs": [],
   "source": [
    "#period of interest for unpivot\n",
    "period = ['2000','2001','2002','2003','2004','2005','2006','2007','2008','2009','2010','2011','2012','2013','2014','2015','2016',]"
   ]
  },
  {
   "cell_type": "code",
   "execution_count": 10,
   "metadata": {},
   "outputs": [],
   "source": [
    "#Columns  to use as identifier variables\n",
    "columns = ['Country Name','Country Code']"
   ]
  },
  {
   "cell_type": "code",
   "execution_count": 11,
   "metadata": {},
   "outputs": [],
   "source": [
    "def pivot_frame(df):\n",
    "    df = df.melt(id_vars=columns, value_vars=period)\n",
    "    return df\n",
    "    "
   ]
  },
  {
   "cell_type": "markdown",
   "metadata": {},
   "source": [
    "<h4>Gdp</h4>"
   ]
  },
  {
   "cell_type": "code",
   "execution_count": 12,
   "metadata": {},
   "outputs": [],
   "source": [
    "gdp = pivot_frame(gdp)"
   ]
  },
  {
   "cell_type": "code",
   "execution_count": 13,
   "metadata": {},
   "outputs": [
    {
     "data": {
      "text/html": [
       "<div>\n",
       "<style scoped>\n",
       "    .dataframe tbody tr th:only-of-type {\n",
       "        vertical-align: middle;\n",
       "    }\n",
       "\n",
       "    .dataframe tbody tr th {\n",
       "        vertical-align: top;\n",
       "    }\n",
       "\n",
       "    .dataframe thead th {\n",
       "        text-align: right;\n",
       "    }\n",
       "</style>\n",
       "<table border=\"1\" class=\"dataframe\">\n",
       "  <thead>\n",
       "    <tr style=\"text-align: right;\">\n",
       "      <th></th>\n",
       "      <th>Country Name</th>\n",
       "      <th>Country Code</th>\n",
       "      <th>variable</th>\n",
       "      <th>value</th>\n",
       "    </tr>\n",
       "  </thead>\n",
       "  <tbody>\n",
       "    <tr>\n",
       "      <th>0</th>\n",
       "      <td>Aruba</td>\n",
       "      <td>ABW</td>\n",
       "      <td>2000</td>\n",
       "      <td>20620.700626</td>\n",
       "    </tr>\n",
       "    <tr>\n",
       "      <th>1</th>\n",
       "      <td>Afghanistan</td>\n",
       "      <td>AFG</td>\n",
       "      <td>2000</td>\n",
       "      <td>NaN</td>\n",
       "    </tr>\n",
       "  </tbody>\n",
       "</table>\n",
       "</div>"
      ],
      "text/plain": [
       "  Country Name Country Code variable         value\n",
       "0        Aruba          ABW     2000  20620.700626\n",
       "1  Afghanistan          AFG     2000           NaN"
      ]
     },
     "execution_count": 13,
     "metadata": {},
     "output_type": "execute_result"
    }
   ],
   "source": [
    "gdp.head(2)\n",
    "    "
   ]
  },
  {
   "cell_type": "code",
   "execution_count": 14,
   "metadata": {},
   "outputs": [],
   "source": [
    "gdp.rename({'variable': 'Year','value':'Gdp_capita'},axis=1,inplace=True)"
   ]
  },
  {
   "cell_type": "markdown",
   "metadata": {},
   "source": [
    "<h4>Inflation</h4>"
   ]
  },
  {
   "cell_type": "code",
   "execution_count": 15,
   "metadata": {},
   "outputs": [],
   "source": [
    "inflation = pivot_frame(inflation)"
   ]
  },
  {
   "cell_type": "code",
   "execution_count": 16,
   "metadata": {},
   "outputs": [],
   "source": [
    "inflation.rename({'variable': 'Year','value':'Inflation'},axis=1,inplace=True)"
   ]
  },
  {
   "cell_type": "code",
   "execution_count": 17,
   "metadata": {},
   "outputs": [
    {
     "data": {
      "text/html": [
       "<div>\n",
       "<style scoped>\n",
       "    .dataframe tbody tr th:only-of-type {\n",
       "        vertical-align: middle;\n",
       "    }\n",
       "\n",
       "    .dataframe tbody tr th {\n",
       "        vertical-align: top;\n",
       "    }\n",
       "\n",
       "    .dataframe thead th {\n",
       "        text-align: right;\n",
       "    }\n",
       "</style>\n",
       "<table border=\"1\" class=\"dataframe\">\n",
       "  <thead>\n",
       "    <tr style=\"text-align: right;\">\n",
       "      <th></th>\n",
       "      <th>Country Name</th>\n",
       "      <th>Country Code</th>\n",
       "      <th>Year</th>\n",
       "      <th>Inflation</th>\n",
       "    </tr>\n",
       "  </thead>\n",
       "  <tbody>\n",
       "    <tr>\n",
       "      <th>0</th>\n",
       "      <td>Aruba</td>\n",
       "      <td>ABW</td>\n",
       "      <td>2000</td>\n",
       "      <td>1.04827</td>\n",
       "    </tr>\n",
       "    <tr>\n",
       "      <th>1</th>\n",
       "      <td>Afghanistan</td>\n",
       "      <td>AFG</td>\n",
       "      <td>2000</td>\n",
       "      <td>NaN</td>\n",
       "    </tr>\n",
       "  </tbody>\n",
       "</table>\n",
       "</div>"
      ],
      "text/plain": [
       "  Country Name Country Code  Year  Inflation\n",
       "0        Aruba          ABW  2000    1.04827\n",
       "1  Afghanistan          AFG  2000        NaN"
      ]
     },
     "execution_count": 17,
     "metadata": {},
     "output_type": "execute_result"
    }
   ],
   "source": [
    "inflation.head(2)"
   ]
  },
  {
   "cell_type": "markdown",
   "metadata": {},
   "source": [
    "<h3>Population Growth</h3>"
   ]
  },
  {
   "cell_type": "code",
   "execution_count": 18,
   "metadata": {},
   "outputs": [],
   "source": [
    "population_growth = pivot_frame(population_growth)"
   ]
  },
  {
   "cell_type": "code",
   "execution_count": 19,
   "metadata": {},
   "outputs": [],
   "source": [
    "population_growth.rename({'variable': 'Year','value':'Population_growth'},axis=1,inplace=True)"
   ]
  },
  {
   "cell_type": "code",
   "execution_count": 20,
   "metadata": {},
   "outputs": [
    {
     "data": {
      "text/html": [
       "<div>\n",
       "<style scoped>\n",
       "    .dataframe tbody tr th:only-of-type {\n",
       "        vertical-align: middle;\n",
       "    }\n",
       "\n",
       "    .dataframe tbody tr th {\n",
       "        vertical-align: top;\n",
       "    }\n",
       "\n",
       "    .dataframe thead th {\n",
       "        text-align: right;\n",
       "    }\n",
       "</style>\n",
       "<table border=\"1\" class=\"dataframe\">\n",
       "  <thead>\n",
       "    <tr style=\"text-align: right;\">\n",
       "      <th></th>\n",
       "      <th>Country Name</th>\n",
       "      <th>Country Code</th>\n",
       "      <th>Year</th>\n",
       "      <th>Population_growth</th>\n",
       "    </tr>\n",
       "  </thead>\n",
       "  <tbody>\n",
       "    <tr>\n",
       "      <th>0</th>\n",
       "      <td>Aruba</td>\n",
       "      <td>ABW</td>\n",
       "      <td>2000</td>\n",
       "      <td>2.055027</td>\n",
       "    </tr>\n",
       "    <tr>\n",
       "      <th>1</th>\n",
       "      <td>Afghanistan</td>\n",
       "      <td>AFG</td>\n",
       "      <td>2000</td>\n",
       "      <td>2.975053</td>\n",
       "    </tr>\n",
       "  </tbody>\n",
       "</table>\n",
       "</div>"
      ],
      "text/plain": [
       "  Country Name Country Code  Year  Population_growth\n",
       "0        Aruba          ABW  2000           2.055027\n",
       "1  Afghanistan          AFG  2000           2.975053"
      ]
     },
     "execution_count": 20,
     "metadata": {},
     "output_type": "execute_result"
    }
   ],
   "source": [
    "population_growth.head(2)"
   ]
  },
  {
   "cell_type": "markdown",
   "metadata": {},
   "source": [
    "<h3>Unemployment</h3>"
   ]
  },
  {
   "cell_type": "code",
   "execution_count": 21,
   "metadata": {},
   "outputs": [],
   "source": [
    "unemployment = pivot_frame(unemployment)"
   ]
  },
  {
   "cell_type": "code",
   "execution_count": 22,
   "metadata": {},
   "outputs": [],
   "source": [
    "unemployment.rename({'variable': 'Year','value':'Unemployment'},axis=1,inplace=True)"
   ]
  },
  {
   "cell_type": "code",
   "execution_count": 23,
   "metadata": {},
   "outputs": [
    {
     "data": {
      "text/html": [
       "<div>\n",
       "<style scoped>\n",
       "    .dataframe tbody tr th:only-of-type {\n",
       "        vertical-align: middle;\n",
       "    }\n",
       "\n",
       "    .dataframe tbody tr th {\n",
       "        vertical-align: top;\n",
       "    }\n",
       "\n",
       "    .dataframe thead th {\n",
       "        text-align: right;\n",
       "    }\n",
       "</style>\n",
       "<table border=\"1\" class=\"dataframe\">\n",
       "  <thead>\n",
       "    <tr style=\"text-align: right;\">\n",
       "      <th></th>\n",
       "      <th>Country Name</th>\n",
       "      <th>Country Code</th>\n",
       "      <th>Year</th>\n",
       "      <th>Unemployment</th>\n",
       "    </tr>\n",
       "  </thead>\n",
       "  <tbody>\n",
       "    <tr>\n",
       "      <th>0</th>\n",
       "      <td>Aruba</td>\n",
       "      <td>ABW</td>\n",
       "      <td>2000</td>\n",
       "      <td>NaN</td>\n",
       "    </tr>\n",
       "    <tr>\n",
       "      <th>1</th>\n",
       "      <td>Afghanistan</td>\n",
       "      <td>AFG</td>\n",
       "      <td>2000</td>\n",
       "      <td>3.517</td>\n",
       "    </tr>\n",
       "  </tbody>\n",
       "</table>\n",
       "</div>"
      ],
      "text/plain": [
       "  Country Name Country Code  Year  Unemployment\n",
       "0        Aruba          ABW  2000           NaN\n",
       "1  Afghanistan          AFG  2000         3.517"
      ]
     },
     "execution_count": 23,
     "metadata": {},
     "output_type": "execute_result"
    }
   ],
   "source": [
    "unemployment.head(2)"
   ]
  },
  {
   "cell_type": "markdown",
   "metadata": {},
   "source": [
    "<h3>Rural Population</h3>"
   ]
  },
  {
   "cell_type": "code",
   "execution_count": 24,
   "metadata": {},
   "outputs": [],
   "source": [
    "rural_population = pivot_frame(rural_population)"
   ]
  },
  {
   "cell_type": "code",
   "execution_count": 25,
   "metadata": {},
   "outputs": [],
   "source": [
    "rural_population.rename({'variable': 'Year','value':'Rural_population'},axis=1,inplace=True)"
   ]
  },
  {
   "cell_type": "code",
   "execution_count": 26,
   "metadata": {},
   "outputs": [
    {
     "data": {
      "text/html": [
       "<div>\n",
       "<style scoped>\n",
       "    .dataframe tbody tr th:only-of-type {\n",
       "        vertical-align: middle;\n",
       "    }\n",
       "\n",
       "    .dataframe tbody tr th {\n",
       "        vertical-align: top;\n",
       "    }\n",
       "\n",
       "    .dataframe thead th {\n",
       "        text-align: right;\n",
       "    }\n",
       "</style>\n",
       "<table border=\"1\" class=\"dataframe\">\n",
       "  <thead>\n",
       "    <tr style=\"text-align: right;\">\n",
       "      <th></th>\n",
       "      <th>Country Name</th>\n",
       "      <th>Country Code</th>\n",
       "      <th>Year</th>\n",
       "      <th>Rural_population</th>\n",
       "    </tr>\n",
       "  </thead>\n",
       "  <tbody>\n",
       "    <tr>\n",
       "      <th>0</th>\n",
       "      <td>Aruba</td>\n",
       "      <td>ABW</td>\n",
       "      <td>2000</td>\n",
       "      <td>53.283</td>\n",
       "    </tr>\n",
       "    <tr>\n",
       "      <th>1</th>\n",
       "      <td>Afghanistan</td>\n",
       "      <td>AFG</td>\n",
       "      <td>2000</td>\n",
       "      <td>77.922</td>\n",
       "    </tr>\n",
       "  </tbody>\n",
       "</table>\n",
       "</div>"
      ],
      "text/plain": [
       "  Country Name Country Code  Year  Rural_population\n",
       "0        Aruba          ABW  2000            53.283\n",
       "1  Afghanistan          AFG  2000            77.922"
      ]
     },
     "execution_count": 26,
     "metadata": {},
     "output_type": "execute_result"
    }
   ],
   "source": [
    "rural_population.head(2)"
   ]
  },
  {
   "cell_type": "markdown",
   "metadata": {},
   "source": [
    "<h3>Merge all 5 datafiles into one</h3>"
   ]
  },
  {
   "cell_type": "code",
   "execution_count": 27,
   "metadata": {},
   "outputs": [],
   "source": [
    "all_data = gdp.merge(inflation,on=['Country Name','Year','Country Code']).merge(rural_population,on=['Country Name','Year','Country Code'],how='left').merge(unemployment,on=['Country Name','Year','Country Code'],how='left').merge(population_growth,on=['Country Name','Year','Country Code'],how='left')\n"
   ]
  },
  {
   "cell_type": "code",
   "execution_count": 28,
   "metadata": {},
   "outputs": [
    {
     "data": {
      "text/html": [
       "<div>\n",
       "<style scoped>\n",
       "    .dataframe tbody tr th:only-of-type {\n",
       "        vertical-align: middle;\n",
       "    }\n",
       "\n",
       "    .dataframe tbody tr th {\n",
       "        vertical-align: top;\n",
       "    }\n",
       "\n",
       "    .dataframe thead th {\n",
       "        text-align: right;\n",
       "    }\n",
       "</style>\n",
       "<table border=\"1\" class=\"dataframe\">\n",
       "  <thead>\n",
       "    <tr style=\"text-align: right;\">\n",
       "      <th></th>\n",
       "      <th>Country Name</th>\n",
       "      <th>Country Code</th>\n",
       "      <th>Year</th>\n",
       "      <th>Gdp_capita</th>\n",
       "      <th>Inflation</th>\n",
       "      <th>Rural_population</th>\n",
       "      <th>Unemployment</th>\n",
       "      <th>Population_growth</th>\n",
       "    </tr>\n",
       "  </thead>\n",
       "  <tbody>\n",
       "    <tr>\n",
       "      <th>0</th>\n",
       "      <td>Aruba</td>\n",
       "      <td>ABW</td>\n",
       "      <td>2000</td>\n",
       "      <td>20620.700626</td>\n",
       "      <td>1.04827</td>\n",
       "      <td>53.283</td>\n",
       "      <td>NaN</td>\n",
       "      <td>2.055027</td>\n",
       "    </tr>\n",
       "    <tr>\n",
       "      <th>1</th>\n",
       "      <td>Afghanistan</td>\n",
       "      <td>AFG</td>\n",
       "      <td>2000</td>\n",
       "      <td>NaN</td>\n",
       "      <td>NaN</td>\n",
       "      <td>77.922</td>\n",
       "      <td>3.517</td>\n",
       "      <td>2.975053</td>\n",
       "    </tr>\n",
       "  </tbody>\n",
       "</table>\n",
       "</div>"
      ],
      "text/plain": [
       "  Country Name Country Code  Year    Gdp_capita  Inflation  Rural_population  \\\n",
       "0        Aruba          ABW  2000  20620.700626    1.04827            53.283   \n",
       "1  Afghanistan          AFG  2000           NaN        NaN            77.922   \n",
       "\n",
       "   Unemployment  Population_growth  \n",
       "0           NaN           2.055027  \n",
       "1         3.517           2.975053  "
      ]
     },
     "execution_count": 28,
     "metadata": {},
     "output_type": "execute_result"
    }
   ],
   "source": [
    "all_data.head(2)"
   ]
  },
  {
   "cell_type": "code",
   "execution_count": 29,
   "metadata": {},
   "outputs": [],
   "source": [
    "all_data = all_data[all_data['Country Name'].isin(countries)]"
   ]
  },
  {
   "cell_type": "code",
   "execution_count": 30,
   "metadata": {},
   "outputs": [],
   "source": [
    "all_data = all_data.sort_values(by=['Country Name', 'Country Code','Year']).reset_index(drop=True)"
   ]
  },
  {
   "cell_type": "code",
   "execution_count": 31,
   "metadata": {},
   "outputs": [
    {
     "data": {
      "text/html": [
       "<div>\n",
       "<style scoped>\n",
       "    .dataframe tbody tr th:only-of-type {\n",
       "        vertical-align: middle;\n",
       "    }\n",
       "\n",
       "    .dataframe tbody tr th {\n",
       "        vertical-align: top;\n",
       "    }\n",
       "\n",
       "    .dataframe thead th {\n",
       "        text-align: right;\n",
       "    }\n",
       "</style>\n",
       "<table border=\"1\" class=\"dataframe\">\n",
       "  <thead>\n",
       "    <tr style=\"text-align: right;\">\n",
       "      <th></th>\n",
       "      <th>Country Name</th>\n",
       "      <th>Country Code</th>\n",
       "      <th>Year</th>\n",
       "      <th>Gdp_capita</th>\n",
       "      <th>Inflation</th>\n",
       "      <th>Rural_population</th>\n",
       "      <th>Unemployment</th>\n",
       "      <th>Population_growth</th>\n",
       "    </tr>\n",
       "  </thead>\n",
       "  <tbody>\n",
       "    <tr>\n",
       "      <th>0</th>\n",
       "      <td>Algeria</td>\n",
       "      <td>DZA</td>\n",
       "      <td>2000</td>\n",
       "      <td>1765.022577</td>\n",
       "      <td>22.654767</td>\n",
       "      <td>40.081</td>\n",
       "      <td>29.770000</td>\n",
       "      <td>1.358408</td>\n",
       "    </tr>\n",
       "    <tr>\n",
       "      <th>1</th>\n",
       "      <td>Algeria</td>\n",
       "      <td>DZA</td>\n",
       "      <td>2001</td>\n",
       "      <td>1740.606649</td>\n",
       "      <td>-0.481508</td>\n",
       "      <td>39.288</td>\n",
       "      <td>27.299999</td>\n",
       "      <td>1.309843</td>\n",
       "    </tr>\n",
       "    <tr>\n",
       "      <th>2</th>\n",
       "      <td>Algeria</td>\n",
       "      <td>DZA</td>\n",
       "      <td>2002</td>\n",
       "      <td>1781.826864</td>\n",
       "      <td>1.311488</td>\n",
       "      <td>38.499</td>\n",
       "      <td>25.900000</td>\n",
       "      <td>1.275066</td>\n",
       "    </tr>\n",
       "    <tr>\n",
       "      <th>3</th>\n",
       "      <td>Algeria</td>\n",
       "      <td>DZA</td>\n",
       "      <td>2003</td>\n",
       "      <td>2103.381467</td>\n",
       "      <td>8.328836</td>\n",
       "      <td>37.716</td>\n",
       "      <td>23.719999</td>\n",
       "      <td>1.275915</td>\n",
       "    </tr>\n",
       "    <tr>\n",
       "      <th>4</th>\n",
       "      <td>Algeria</td>\n",
       "      <td>DZA</td>\n",
       "      <td>2004</td>\n",
       "      <td>2609.952692</td>\n",
       "      <td>12.245876</td>\n",
       "      <td>36.939</td>\n",
       "      <td>17.650000</td>\n",
       "      <td>1.317846</td>\n",
       "    </tr>\n",
       "  </tbody>\n",
       "</table>\n",
       "</div>"
      ],
      "text/plain": [
       "  Country Name Country Code  Year   Gdp_capita  Inflation  Rural_population  \\\n",
       "0      Algeria          DZA  2000  1765.022577  22.654767            40.081   \n",
       "1      Algeria          DZA  2001  1740.606649  -0.481508            39.288   \n",
       "2      Algeria          DZA  2002  1781.826864   1.311488            38.499   \n",
       "3      Algeria          DZA  2003  2103.381467   8.328836            37.716   \n",
       "4      Algeria          DZA  2004  2609.952692  12.245876            36.939   \n",
       "\n",
       "   Unemployment  Population_growth  \n",
       "0     29.770000           1.358408  \n",
       "1     27.299999           1.309843  \n",
       "2     25.900000           1.275066  \n",
       "3     23.719999           1.275915  \n",
       "4     17.650000           1.317846  "
      ]
     },
     "execution_count": 31,
     "metadata": {},
     "output_type": "execute_result"
    }
   ],
   "source": [
    "all_data.head(5)"
   ]
  },
  {
   "cell_type": "markdown",
   "metadata": {},
   "source": [
    "<h3>Nans from the first five  datafiles</h3>"
   ]
  },
  {
   "cell_type": "code",
   "execution_count": 32,
   "metadata": {},
   "outputs": [
    {
     "data": {
      "text/plain": [
       "Country Name          0\n",
       "Country Code          0\n",
       "Year                  0\n",
       "Gdp_capita            5\n",
       "Inflation            20\n",
       "Rural_population      5\n",
       "Unemployment          0\n",
       "Population_growth     5\n",
       "dtype: int64"
      ]
     },
     "execution_count": 32,
     "metadata": {},
     "output_type": "execute_result"
    }
   ],
   "source": [
    "all_data.isna().sum()"
   ]
  },
  {
   "cell_type": "markdown",
   "metadata": {},
   "source": [
    "<h3>Dealing with Nans</h3>"
   ]
  },
  {
   "cell_type": "markdown",
   "metadata": {},
   "source": [
    "<h4>Population_growth:</h4>"
   ]
  },
  {
   "cell_type": "code",
   "execution_count": 33,
   "metadata": {},
   "outputs": [
    {
     "data": {
      "text/html": [
       "<div>\n",
       "<style scoped>\n",
       "    .dataframe tbody tr th:only-of-type {\n",
       "        vertical-align: middle;\n",
       "    }\n",
       "\n",
       "    .dataframe tbody tr th {\n",
       "        vertical-align: top;\n",
       "    }\n",
       "\n",
       "    .dataframe thead th {\n",
       "        text-align: right;\n",
       "    }\n",
       "</style>\n",
       "<table border=\"1\" class=\"dataframe\">\n",
       "  <thead>\n",
       "    <tr style=\"text-align: right;\">\n",
       "      <th></th>\n",
       "      <th>Country Name</th>\n",
       "      <th>Country Code</th>\n",
       "      <th>Year</th>\n",
       "      <th>Gdp_capita</th>\n",
       "      <th>Inflation</th>\n",
       "      <th>Rural_population</th>\n",
       "      <th>Unemployment</th>\n",
       "      <th>Population_growth</th>\n",
       "    </tr>\n",
       "  </thead>\n",
       "  <tbody>\n",
       "    <tr>\n",
       "      <th>216</th>\n",
       "      <td>Eritrea</td>\n",
       "      <td>ERI</td>\n",
       "      <td>2012</td>\n",
       "      <td>NaN</td>\n",
       "      <td>NaN</td>\n",
       "      <td>NaN</td>\n",
       "      <td>6.926</td>\n",
       "      <td>NaN</td>\n",
       "    </tr>\n",
       "    <tr>\n",
       "      <th>217</th>\n",
       "      <td>Eritrea</td>\n",
       "      <td>ERI</td>\n",
       "      <td>2013</td>\n",
       "      <td>NaN</td>\n",
       "      <td>NaN</td>\n",
       "      <td>NaN</td>\n",
       "      <td>6.955</td>\n",
       "      <td>NaN</td>\n",
       "    </tr>\n",
       "    <tr>\n",
       "      <th>218</th>\n",
       "      <td>Eritrea</td>\n",
       "      <td>ERI</td>\n",
       "      <td>2014</td>\n",
       "      <td>NaN</td>\n",
       "      <td>NaN</td>\n",
       "      <td>NaN</td>\n",
       "      <td>6.867</td>\n",
       "      <td>NaN</td>\n",
       "    </tr>\n",
       "    <tr>\n",
       "      <th>219</th>\n",
       "      <td>Eritrea</td>\n",
       "      <td>ERI</td>\n",
       "      <td>2015</td>\n",
       "      <td>NaN</td>\n",
       "      <td>NaN</td>\n",
       "      <td>NaN</td>\n",
       "      <td>6.807</td>\n",
       "      <td>NaN</td>\n",
       "    </tr>\n",
       "    <tr>\n",
       "      <th>220</th>\n",
       "      <td>Eritrea</td>\n",
       "      <td>ERI</td>\n",
       "      <td>2016</td>\n",
       "      <td>NaN</td>\n",
       "      <td>NaN</td>\n",
       "      <td>NaN</td>\n",
       "      <td>6.684</td>\n",
       "      <td>NaN</td>\n",
       "    </tr>\n",
       "  </tbody>\n",
       "</table>\n",
       "</div>"
      ],
      "text/plain": [
       "    Country Name Country Code  Year  Gdp_capita  Inflation  Rural_population  \\\n",
       "216      Eritrea          ERI  2012         NaN        NaN               NaN   \n",
       "217      Eritrea          ERI  2013         NaN        NaN               NaN   \n",
       "218      Eritrea          ERI  2014         NaN        NaN               NaN   \n",
       "219      Eritrea          ERI  2015         NaN        NaN               NaN   \n",
       "220      Eritrea          ERI  2016         NaN        NaN               NaN   \n",
       "\n",
       "     Unemployment  Population_growth  \n",
       "216         6.926                NaN  \n",
       "217         6.955                NaN  \n",
       "218         6.867                NaN  \n",
       "219         6.807                NaN  \n",
       "220         6.684                NaN  "
      ]
     },
     "execution_count": 33,
     "metadata": {},
     "output_type": "execute_result"
    }
   ],
   "source": [
    "all_data[all_data.Population_growth.isna()]"
   ]
  },
  {
   "cell_type": "code",
   "execution_count": 34,
   "metadata": {},
   "outputs": [
    {
     "data": {
      "text/html": [
       "<div>\n",
       "<style scoped>\n",
       "    .dataframe tbody tr th:only-of-type {\n",
       "        vertical-align: middle;\n",
       "    }\n",
       "\n",
       "    .dataframe tbody tr th {\n",
       "        vertical-align: top;\n",
       "    }\n",
       "\n",
       "    .dataframe thead th {\n",
       "        text-align: right;\n",
       "    }\n",
       "</style>\n",
       "<table border=\"1\" class=\"dataframe\">\n",
       "  <thead>\n",
       "    <tr style=\"text-align: right;\">\n",
       "      <th></th>\n",
       "      <th>Country Name</th>\n",
       "      <th>Country Code</th>\n",
       "      <th>Year</th>\n",
       "      <th>Gdp_capita</th>\n",
       "      <th>Inflation</th>\n",
       "      <th>Rural_population</th>\n",
       "      <th>Unemployment</th>\n",
       "      <th>Population_growth</th>\n",
       "    </tr>\n",
       "  </thead>\n",
       "  <tbody>\n",
       "    <tr>\n",
       "      <th>204</th>\n",
       "      <td>Eritrea</td>\n",
       "      <td>ERI</td>\n",
       "      <td>2000</td>\n",
       "      <td>308.133784</td>\n",
       "      <td>24.977595</td>\n",
       "      <td>73.413</td>\n",
       "      <td>6.861</td>\n",
       "      <td>2.428957</td>\n",
       "    </tr>\n",
       "    <tr>\n",
       "      <th>205</th>\n",
       "      <td>Eritrea</td>\n",
       "      <td>ERI</td>\n",
       "      <td>2001</td>\n",
       "      <td>316.823820</td>\n",
       "      <td>15.077270</td>\n",
       "      <td>72.545</td>\n",
       "      <td>6.446</td>\n",
       "      <td>3.527409</td>\n",
       "    </tr>\n",
       "    <tr>\n",
       "      <th>206</th>\n",
       "      <td>Eritrea</td>\n",
       "      <td>ERI</td>\n",
       "      <td>2002</td>\n",
       "      <td>293.955791</td>\n",
       "      <td>16.148667</td>\n",
       "      <td>71.659</td>\n",
       "      <td>6.864</td>\n",
       "      <td>4.380470</td>\n",
       "    </tr>\n",
       "    <tr>\n",
       "      <th>207</th>\n",
       "      <td>Eritrea</td>\n",
       "      <td>ERI</td>\n",
       "      <td>2003</td>\n",
       "      <td>334.585443</td>\n",
       "      <td>21.872842</td>\n",
       "      <td>70.756</td>\n",
       "      <td>6.817</td>\n",
       "      <td>4.720052</td>\n",
       "    </tr>\n",
       "    <tr>\n",
       "      <th>208</th>\n",
       "      <td>Eritrea</td>\n",
       "      <td>ERI</td>\n",
       "      <td>2004</td>\n",
       "      <td>407.769977</td>\n",
       "      <td>24.799286</td>\n",
       "      <td>69.836</td>\n",
       "      <td>6.857</td>\n",
       "      <td>4.467385</td>\n",
       "    </tr>\n",
       "    <tr>\n",
       "      <th>209</th>\n",
       "      <td>Eritrea</td>\n",
       "      <td>ERI</td>\n",
       "      <td>2005</td>\n",
       "      <td>388.595123</td>\n",
       "      <td>7.623689</td>\n",
       "      <td>68.901</td>\n",
       "      <td>6.716</td>\n",
       "      <td>3.853600</td>\n",
       "    </tr>\n",
       "    <tr>\n",
       "      <th>210</th>\n",
       "      <td>Eritrea</td>\n",
       "      <td>ERI</td>\n",
       "      <td>2006</td>\n",
       "      <td>415.036599</td>\n",
       "      <td>11.394004</td>\n",
       "      <td>67.949</td>\n",
       "      <td>6.629</td>\n",
       "      <td>3.187325</td>\n",
       "    </tr>\n",
       "    <tr>\n",
       "      <th>211</th>\n",
       "      <td>Eritrea</td>\n",
       "      <td>ERI</td>\n",
       "      <td>2007</td>\n",
       "      <td>439.832690</td>\n",
       "      <td>7.288208</td>\n",
       "      <td>66.983</td>\n",
       "      <td>6.360</td>\n",
       "      <td>2.648825</td>\n",
       "    </tr>\n",
       "    <tr>\n",
       "      <th>212</th>\n",
       "      <td>Eritrea</td>\n",
       "      <td>ERI</td>\n",
       "      <td>2008</td>\n",
       "      <td>450.632840</td>\n",
       "      <td>16.076220</td>\n",
       "      <td>66.000</td>\n",
       "      <td>6.107</td>\n",
       "      <td>2.186572</td>\n",
       "    </tr>\n",
       "    <tr>\n",
       "      <th>213</th>\n",
       "      <td>Eritrea</td>\n",
       "      <td>ERI</td>\n",
       "      <td>2009</td>\n",
       "      <td>595.109987</td>\n",
       "      <td>29.504507</td>\n",
       "      <td>65.415</td>\n",
       "      <td>6.832</td>\n",
       "      <td>1.848469</td>\n",
       "    </tr>\n",
       "    <tr>\n",
       "      <th>214</th>\n",
       "      <td>Eritrea</td>\n",
       "      <td>ERI</td>\n",
       "      <td>2010</td>\n",
       "      <td>667.744178</td>\n",
       "      <td>11.573757</td>\n",
       "      <td>64.825</td>\n",
       "      <td>6.899</td>\n",
       "      <td>1.606144</td>\n",
       "    </tr>\n",
       "    <tr>\n",
       "      <th>215</th>\n",
       "      <td>Eritrea</td>\n",
       "      <td>ERI</td>\n",
       "      <td>2011</td>\n",
       "      <td>811.376029</td>\n",
       "      <td>13.340851</td>\n",
       "      <td>64.229</td>\n",
       "      <td>6.907</td>\n",
       "      <td>1.363875</td>\n",
       "    </tr>\n",
       "    <tr>\n",
       "      <th>216</th>\n",
       "      <td>Eritrea</td>\n",
       "      <td>ERI</td>\n",
       "      <td>2012</td>\n",
       "      <td>NaN</td>\n",
       "      <td>NaN</td>\n",
       "      <td>NaN</td>\n",
       "      <td>6.926</td>\n",
       "      <td>NaN</td>\n",
       "    </tr>\n",
       "    <tr>\n",
       "      <th>217</th>\n",
       "      <td>Eritrea</td>\n",
       "      <td>ERI</td>\n",
       "      <td>2013</td>\n",
       "      <td>NaN</td>\n",
       "      <td>NaN</td>\n",
       "      <td>NaN</td>\n",
       "      <td>6.955</td>\n",
       "      <td>NaN</td>\n",
       "    </tr>\n",
       "    <tr>\n",
       "      <th>218</th>\n",
       "      <td>Eritrea</td>\n",
       "      <td>ERI</td>\n",
       "      <td>2014</td>\n",
       "      <td>NaN</td>\n",
       "      <td>NaN</td>\n",
       "      <td>NaN</td>\n",
       "      <td>6.867</td>\n",
       "      <td>NaN</td>\n",
       "    </tr>\n",
       "    <tr>\n",
       "      <th>219</th>\n",
       "      <td>Eritrea</td>\n",
       "      <td>ERI</td>\n",
       "      <td>2015</td>\n",
       "      <td>NaN</td>\n",
       "      <td>NaN</td>\n",
       "      <td>NaN</td>\n",
       "      <td>6.807</td>\n",
       "      <td>NaN</td>\n",
       "    </tr>\n",
       "    <tr>\n",
       "      <th>220</th>\n",
       "      <td>Eritrea</td>\n",
       "      <td>ERI</td>\n",
       "      <td>2016</td>\n",
       "      <td>NaN</td>\n",
       "      <td>NaN</td>\n",
       "      <td>NaN</td>\n",
       "      <td>6.684</td>\n",
       "      <td>NaN</td>\n",
       "    </tr>\n",
       "  </tbody>\n",
       "</table>\n",
       "</div>"
      ],
      "text/plain": [
       "    Country Name Country Code  Year  Gdp_capita  Inflation  Rural_population  \\\n",
       "204      Eritrea          ERI  2000  308.133784  24.977595            73.413   \n",
       "205      Eritrea          ERI  2001  316.823820  15.077270            72.545   \n",
       "206      Eritrea          ERI  2002  293.955791  16.148667            71.659   \n",
       "207      Eritrea          ERI  2003  334.585443  21.872842            70.756   \n",
       "208      Eritrea          ERI  2004  407.769977  24.799286            69.836   \n",
       "209      Eritrea          ERI  2005  388.595123   7.623689            68.901   \n",
       "210      Eritrea          ERI  2006  415.036599  11.394004            67.949   \n",
       "211      Eritrea          ERI  2007  439.832690   7.288208            66.983   \n",
       "212      Eritrea          ERI  2008  450.632840  16.076220            66.000   \n",
       "213      Eritrea          ERI  2009  595.109987  29.504507            65.415   \n",
       "214      Eritrea          ERI  2010  667.744178  11.573757            64.825   \n",
       "215      Eritrea          ERI  2011  811.376029  13.340851            64.229   \n",
       "216      Eritrea          ERI  2012         NaN        NaN               NaN   \n",
       "217      Eritrea          ERI  2013         NaN        NaN               NaN   \n",
       "218      Eritrea          ERI  2014         NaN        NaN               NaN   \n",
       "219      Eritrea          ERI  2015         NaN        NaN               NaN   \n",
       "220      Eritrea          ERI  2016         NaN        NaN               NaN   \n",
       "\n",
       "     Unemployment  Population_growth  \n",
       "204         6.861           2.428957  \n",
       "205         6.446           3.527409  \n",
       "206         6.864           4.380470  \n",
       "207         6.817           4.720052  \n",
       "208         6.857           4.467385  \n",
       "209         6.716           3.853600  \n",
       "210         6.629           3.187325  \n",
       "211         6.360           2.648825  \n",
       "212         6.107           2.186572  \n",
       "213         6.832           1.848469  \n",
       "214         6.899           1.606144  \n",
       "215         6.907           1.363875  \n",
       "216         6.926                NaN  \n",
       "217         6.955                NaN  \n",
       "218         6.867                NaN  \n",
       "219         6.807                NaN  \n",
       "220         6.684                NaN  "
      ]
     },
     "execution_count": 34,
     "metadata": {},
     "output_type": "execute_result"
    }
   ],
   "source": [
    "all_data[all_data['Country Name']=='Eritrea']"
   ]
  },
  {
   "cell_type": "code",
   "execution_count": 35,
   "metadata": {},
   "outputs": [],
   "source": [
    "all_data['Population_growth'].fillna(1.363875,inplace=True)"
   ]
  },
  {
   "cell_type": "code",
   "execution_count": 36,
   "metadata": {},
   "outputs": [],
   "source": [
    "all_data['Rural_population'].fillna(64.229,inplace=True)"
   ]
  },
  {
   "cell_type": "code",
   "execution_count": 37,
   "metadata": {},
   "outputs": [],
   "source": [
    "all_data['Gdp_capita'].fillna(811.376029,inplace=True)"
   ]
  },
  {
   "cell_type": "markdown",
   "metadata": {},
   "source": [
    "<h4>Inflation:</h4> "
   ]
  },
  {
   "cell_type": "markdown",
   "metadata": {},
   "source": [
    "Eritrea: Add manually the missing data from: <br>\n",
    "Cia Worldfactbook 2016 --> 9% <br>\n",
    "Trading Economics (2015 --> 12.5, 2014 --> 11.4, 2013 --> 12.27, 2012 --> 12.25"
   ]
  },
  {
   "cell_type": "code",
   "execution_count": 38,
   "metadata": {},
   "outputs": [],
   "source": [
    "all_data.loc[(all_data['Country Name']=='Eritrea')\n",
    "         &(all_data['Year']=='2016'), 'Inflation']= 9.00\n",
    "all_data.loc[(all_data['Country Name']=='Eritrea')\n",
    "         &(all_data['Year']=='2015'), 'Inflation']= 12.50\n",
    "all_data.loc[(all_data['Country Name']=='Eritrea')\n",
    "         &(all_data['Year']=='2014'), 'Inflation']= 11.40\n",
    "all_data.loc[(all_data['Country Name']=='Eritrea')\n",
    "         &(all_data['Year']=='2013'), 'Inflation']= 12.27\n",
    "all_data.loc[(all_data['Country Name']=='Eritrea')\n",
    "         &(all_data['Year']=='2012'), 'Inflation']= 12.25"
   ]
  },
  {
   "cell_type": "code",
   "execution_count": 39,
   "metadata": {},
   "outputs": [
    {
     "data": {
      "text/html": [
       "<div>\n",
       "<style scoped>\n",
       "    .dataframe tbody tr th:only-of-type {\n",
       "        vertical-align: middle;\n",
       "    }\n",
       "\n",
       "    .dataframe tbody tr th {\n",
       "        vertical-align: top;\n",
       "    }\n",
       "\n",
       "    .dataframe thead th {\n",
       "        text-align: right;\n",
       "    }\n",
       "</style>\n",
       "<table border=\"1\" class=\"dataframe\">\n",
       "  <thead>\n",
       "    <tr style=\"text-align: right;\">\n",
       "      <th></th>\n",
       "      <th>Country Name</th>\n",
       "      <th>Country Code</th>\n",
       "      <th>Year</th>\n",
       "      <th>Gdp_capita</th>\n",
       "      <th>Inflation</th>\n",
       "      <th>Rural_population</th>\n",
       "      <th>Unemployment</th>\n",
       "      <th>Population_growth</th>\n",
       "    </tr>\n",
       "  </thead>\n",
       "  <tbody>\n",
       "    <tr>\n",
       "      <th>153</th>\n",
       "      <td>Djibouti</td>\n",
       "      <td>DJI</td>\n",
       "      <td>2000</td>\n",
       "      <td>768.176077</td>\n",
       "      <td>NaN</td>\n",
       "      <td>23.468</td>\n",
       "      <td>13.636</td>\n",
       "      <td>2.484539</td>\n",
       "    </tr>\n",
       "    <tr>\n",
       "      <th>154</th>\n",
       "      <td>Djibouti</td>\n",
       "      <td>DJI</td>\n",
       "      <td>2001</td>\n",
       "      <td>780.908223</td>\n",
       "      <td>NaN</td>\n",
       "      <td>23.422</td>\n",
       "      <td>13.613</td>\n",
       "      <td>2.127615</td>\n",
       "    </tr>\n",
       "    <tr>\n",
       "      <th>155</th>\n",
       "      <td>Djibouti</td>\n",
       "      <td>DJI</td>\n",
       "      <td>2002</td>\n",
       "      <td>791.389478</td>\n",
       "      <td>NaN</td>\n",
       "      <td>23.376</td>\n",
       "      <td>13.608</td>\n",
       "      <td>1.882137</td>\n",
       "    </tr>\n",
       "    <tr>\n",
       "      <th>156</th>\n",
       "      <td>Djibouti</td>\n",
       "      <td>DJI</td>\n",
       "      <td>2003</td>\n",
       "      <td>818.866630</td>\n",
       "      <td>NaN</td>\n",
       "      <td>23.330</td>\n",
       "      <td>13.294</td>\n",
       "      <td>1.685842</td>\n",
       "    </tr>\n",
       "    <tr>\n",
       "      <th>157</th>\n",
       "      <td>Djibouti</td>\n",
       "      <td>DJI</td>\n",
       "      <td>2004</td>\n",
       "      <td>863.231612</td>\n",
       "      <td>NaN</td>\n",
       "      <td>23.284</td>\n",
       "      <td>13.002</td>\n",
       "      <td>1.562422</td>\n",
       "    </tr>\n",
       "    <tr>\n",
       "      <th>158</th>\n",
       "      <td>Djibouti</td>\n",
       "      <td>DJI</td>\n",
       "      <td>2005</td>\n",
       "      <td>904.729749</td>\n",
       "      <td>NaN</td>\n",
       "      <td>23.239</td>\n",
       "      <td>12.697</td>\n",
       "      <td>1.498687</td>\n",
       "    </tr>\n",
       "    <tr>\n",
       "      <th>159</th>\n",
       "      <td>Djibouti</td>\n",
       "      <td>DJI</td>\n",
       "      <td>2006</td>\n",
       "      <td>967.668623</td>\n",
       "      <td>NaN</td>\n",
       "      <td>23.193</td>\n",
       "      <td>11.784</td>\n",
       "      <td>1.433524</td>\n",
       "    </tr>\n",
       "    <tr>\n",
       "      <th>160</th>\n",
       "      <td>Djibouti</td>\n",
       "      <td>DJI</td>\n",
       "      <td>2007</td>\n",
       "      <td>1052.725652</td>\n",
       "      <td>NaN</td>\n",
       "      <td>23.147</td>\n",
       "      <td>11.029</td>\n",
       "      <td>1.361009</td>\n",
       "    </tr>\n",
       "    <tr>\n",
       "      <th>161</th>\n",
       "      <td>Djibouti</td>\n",
       "      <td>DJI</td>\n",
       "      <td>2008</td>\n",
       "      <td>1223.856861</td>\n",
       "      <td>NaN</td>\n",
       "      <td>23.101</td>\n",
       "      <td>10.779</td>\n",
       "      <td>1.345062</td>\n",
       "    </tr>\n",
       "    <tr>\n",
       "      <th>162</th>\n",
       "      <td>Djibouti</td>\n",
       "      <td>DJI</td>\n",
       "      <td>2009</td>\n",
       "      <td>1267.312801</td>\n",
       "      <td>NaN</td>\n",
       "      <td>23.056</td>\n",
       "      <td>11.717</td>\n",
       "      <td>1.394638</td>\n",
       "    </tr>\n",
       "    <tr>\n",
       "      <th>163</th>\n",
       "      <td>Djibouti</td>\n",
       "      <td>DJI</td>\n",
       "      <td>2010</td>\n",
       "      <td>1343.268730</td>\n",
       "      <td>NaN</td>\n",
       "      <td>23.001</td>\n",
       "      <td>12.477</td>\n",
       "      <td>1.483821</td>\n",
       "    </tr>\n",
       "    <tr>\n",
       "      <th>164</th>\n",
       "      <td>Djibouti</td>\n",
       "      <td>DJI</td>\n",
       "      <td>2011</td>\n",
       "      <td>1451.542980</td>\n",
       "      <td>NaN</td>\n",
       "      <td>22.936</td>\n",
       "      <td>12.418</td>\n",
       "      <td>1.591181</td>\n",
       "    </tr>\n",
       "    <tr>\n",
       "      <th>165</th>\n",
       "      <td>Djibouti</td>\n",
       "      <td>DJI</td>\n",
       "      <td>2012</td>\n",
       "      <td>1559.240651</td>\n",
       "      <td>NaN</td>\n",
       "      <td>22.862</td>\n",
       "      <td>12.289</td>\n",
       "      <td>1.679900</td>\n",
       "    </tr>\n",
       "    <tr>\n",
       "      <th>166</th>\n",
       "      <td>Djibouti</td>\n",
       "      <td>DJI</td>\n",
       "      <td>2013</td>\n",
       "      <td>1499.767022</td>\n",
       "      <td>NaN</td>\n",
       "      <td>22.778</td>\n",
       "      <td>11.726</td>\n",
       "      <td>1.730858</td>\n",
       "    </tr>\n",
       "    <tr>\n",
       "      <th>357</th>\n",
       "      <td>Liberia</td>\n",
       "      <td>LBR</td>\n",
       "      <td>2000</td>\n",
       "      <td>306.832895</td>\n",
       "      <td>NaN</td>\n",
       "      <td>55.669</td>\n",
       "      <td>2.772</td>\n",
       "      <td>5.363199</td>\n",
       "    </tr>\n",
       "  </tbody>\n",
       "</table>\n",
       "</div>"
      ],
      "text/plain": [
       "    Country Name Country Code  Year   Gdp_capita  Inflation  Rural_population  \\\n",
       "153     Djibouti          DJI  2000   768.176077        NaN            23.468   \n",
       "154     Djibouti          DJI  2001   780.908223        NaN            23.422   \n",
       "155     Djibouti          DJI  2002   791.389478        NaN            23.376   \n",
       "156     Djibouti          DJI  2003   818.866630        NaN            23.330   \n",
       "157     Djibouti          DJI  2004   863.231612        NaN            23.284   \n",
       "158     Djibouti          DJI  2005   904.729749        NaN            23.239   \n",
       "159     Djibouti          DJI  2006   967.668623        NaN            23.193   \n",
       "160     Djibouti          DJI  2007  1052.725652        NaN            23.147   \n",
       "161     Djibouti          DJI  2008  1223.856861        NaN            23.101   \n",
       "162     Djibouti          DJI  2009  1267.312801        NaN            23.056   \n",
       "163     Djibouti          DJI  2010  1343.268730        NaN            23.001   \n",
       "164     Djibouti          DJI  2011  1451.542980        NaN            22.936   \n",
       "165     Djibouti          DJI  2012  1559.240651        NaN            22.862   \n",
       "166     Djibouti          DJI  2013  1499.767022        NaN            22.778   \n",
       "357      Liberia          LBR  2000   306.832895        NaN            55.669   \n",
       "\n",
       "     Unemployment  Population_growth  \n",
       "153        13.636           2.484539  \n",
       "154        13.613           2.127615  \n",
       "155        13.608           1.882137  \n",
       "156        13.294           1.685842  \n",
       "157        13.002           1.562422  \n",
       "158        12.697           1.498687  \n",
       "159        11.784           1.433524  \n",
       "160        11.029           1.361009  \n",
       "161        10.779           1.345062  \n",
       "162        11.717           1.394638  \n",
       "163        12.477           1.483821  \n",
       "164        12.418           1.591181  \n",
       "165        12.289           1.679900  \n",
       "166        11.726           1.730858  \n",
       "357         2.772           5.363199  "
      ]
     },
     "execution_count": 39,
     "metadata": {},
     "output_type": "execute_result"
    }
   ],
   "source": [
    "all_data[all_data['Inflation'].isna()]"
   ]
  },
  {
   "cell_type": "code",
   "execution_count": 40,
   "metadata": {},
   "outputs": [],
   "source": [
    "all_data.loc[(all_data['Country Name']=='Liberia')\n",
    "         &(all_data['Year']=='2000'), 'Inflation']= 5.00"
   ]
  },
  {
   "cell_type": "markdown",
   "metadata": {},
   "source": [
    "The inflation data that the Worldbank datafiles use is the GDP Price Deflator. Unfortunately Djibouti has no data for most years. As aproximation I will use the Consumer Price Index (CPI). <br>\n",
    "\n",
    "The GDP Deflator measures the change in prices of all goods and services while the CPI is a only looks at goods bought by consumers. \n"
   ]
  },
  {
   "cell_type": "code",
   "execution_count": 41,
   "metadata": {},
   "outputs": [],
   "source": [
    "Djibouti_Cpi = pd.read_csv('data/datafiles/djibouti_cpi.csv')"
   ]
  },
  {
   "cell_type": "code",
   "execution_count": 42,
   "metadata": {},
   "outputs": [],
   "source": [
    "Djibouti_Cpi.drop(list(Djibouti_Cpi)[2:44], axis=1,inplace=True)"
   ]
  },
  {
   "cell_type": "code",
   "execution_count": 43,
   "metadata": {},
   "outputs": [],
   "source": [
    "Djibouti_Cpi.drop(list(Djibouti_Cpi)[19:23], axis=1,inplace=True)"
   ]
  },
  {
   "cell_type": "code",
   "execution_count": 44,
   "metadata": {},
   "outputs": [],
   "source": [
    "Djibouti_Cpi = pivot_frame(Djibouti_Cpi)"
   ]
  },
  {
   "cell_type": "code",
   "execution_count": 45,
   "metadata": {},
   "outputs": [],
   "source": [
    "Djibouti_Cpi.rename({'value':'cpi'},axis=1 ,inplace=True)"
   ]
  },
  {
   "cell_type": "code",
   "execution_count": 46,
   "metadata": {},
   "outputs": [
    {
     "data": {
      "text/html": [
       "<div>\n",
       "<style scoped>\n",
       "    .dataframe tbody tr th:only-of-type {\n",
       "        vertical-align: middle;\n",
       "    }\n",
       "\n",
       "    .dataframe tbody tr th {\n",
       "        vertical-align: top;\n",
       "    }\n",
       "\n",
       "    .dataframe thead th {\n",
       "        text-align: right;\n",
       "    }\n",
       "</style>\n",
       "<table border=\"1\" class=\"dataframe\">\n",
       "  <thead>\n",
       "    <tr style=\"text-align: right;\">\n",
       "      <th></th>\n",
       "      <th>Country Name</th>\n",
       "      <th>Country Code</th>\n",
       "      <th>variable</th>\n",
       "      <th>cpi</th>\n",
       "    </tr>\n",
       "  </thead>\n",
       "  <tbody>\n",
       "    <tr>\n",
       "      <th>0</th>\n",
       "      <td>Djibouti</td>\n",
       "      <td>DJI</td>\n",
       "      <td>2000</td>\n",
       "      <td>1.746652</td>\n",
       "    </tr>\n",
       "    <tr>\n",
       "      <th>1</th>\n",
       "      <td>Djibouti</td>\n",
       "      <td>DJI</td>\n",
       "      <td>2001</td>\n",
       "      <td>1.746652</td>\n",
       "    </tr>\n",
       "  </tbody>\n",
       "</table>\n",
       "</div>"
      ],
      "text/plain": [
       "  Country Name Country Code variable       cpi\n",
       "0     Djibouti          DJI     2000  1.746652\n",
       "1     Djibouti          DJI     2001  1.746652"
      ]
     },
     "execution_count": 46,
     "metadata": {},
     "output_type": "execute_result"
    }
   ],
   "source": [
    "Djibouti_Cpi.head(2)"
   ]
  },
  {
   "cell_type": "code",
   "execution_count": 47,
   "metadata": {},
   "outputs": [
    {
     "data": {
      "text/plain": [
       "array([ 1.74665225,  1.74665225,  0.63761955,  1.98196735,  3.12226205,\n",
       "        3.1049664 ,  3.483407  ,  4.96597655, 11.95862069,  1.67549587,\n",
       "        3.95007876,  5.06871395,  3.73120951,  2.70603243,  1.34186494,\n",
       "       -0.84738973,  2.73841209])"
      ]
     },
     "execution_count": 47,
     "metadata": {},
     "output_type": "execute_result"
    }
   ],
   "source": [
    "Djibouti_Cpi['cpi'].values"
   ]
  },
  {
   "cell_type": "code",
   "execution_count": 48,
   "metadata": {},
   "outputs": [],
   "source": [
    "all_data['Inflation'].fillna(Djibouti_Cpi['cpi'].values[0],inplace=True)\n"
   ]
  },
  {
   "cell_type": "code",
   "execution_count": 49,
   "metadata": {},
   "outputs": [
    {
     "data": {
      "text/plain": [
       "Country Name         0\n",
       "Country Code         0\n",
       "Year                 0\n",
       "Gdp_capita           0\n",
       "Inflation            0\n",
       "Rural_population     0\n",
       "Unemployment         0\n",
       "Population_growth    0\n",
       "dtype: int64"
      ]
     },
     "execution_count": 49,
     "metadata": {},
     "output_type": "execute_result"
    }
   ],
   "source": [
    "all_data.isna().sum()"
   ]
  },
  {
   "cell_type": "code",
   "execution_count": 50,
   "metadata": {},
   "outputs": [
    {
     "data": {
      "text/html": [
       "<div>\n",
       "<style scoped>\n",
       "    .dataframe tbody tr th:only-of-type {\n",
       "        vertical-align: middle;\n",
       "    }\n",
       "\n",
       "    .dataframe tbody tr th {\n",
       "        vertical-align: top;\n",
       "    }\n",
       "\n",
       "    .dataframe thead th {\n",
       "        text-align: right;\n",
       "    }\n",
       "</style>\n",
       "<table border=\"1\" class=\"dataframe\">\n",
       "  <thead>\n",
       "    <tr style=\"text-align: right;\">\n",
       "      <th></th>\n",
       "      <th>Country Name</th>\n",
       "      <th>Country Code</th>\n",
       "      <th>Year</th>\n",
       "      <th>Gdp_capita</th>\n",
       "      <th>Inflation</th>\n",
       "      <th>Rural_population</th>\n",
       "      <th>Unemployment</th>\n",
       "      <th>Population_growth</th>\n",
       "    </tr>\n",
       "  </thead>\n",
       "  <tbody>\n",
       "  </tbody>\n",
       "</table>\n",
       "</div>"
      ],
      "text/plain": [
       "Empty DataFrame\n",
       "Columns: [Country Name, Country Code, Year, Gdp_capita, Inflation, Rural_population, Unemployment, Population_growth]\n",
       "Index: []"
      ]
     },
     "execution_count": 50,
     "metadata": {},
     "output_type": "execute_result"
    }
   ],
   "source": [
    "all_data[all_data.Population_growth.isna()]"
   ]
  },
  {
   "cell_type": "code",
   "execution_count": 51,
   "metadata": {},
   "outputs": [
    {
     "data": {
      "text/html": [
       "<div>\n",
       "<style scoped>\n",
       "    .dataframe tbody tr th:only-of-type {\n",
       "        vertical-align: middle;\n",
       "    }\n",
       "\n",
       "    .dataframe tbody tr th {\n",
       "        vertical-align: top;\n",
       "    }\n",
       "\n",
       "    .dataframe thead th {\n",
       "        text-align: right;\n",
       "    }\n",
       "</style>\n",
       "<table border=\"1\" class=\"dataframe\">\n",
       "  <thead>\n",
       "    <tr style=\"text-align: right;\">\n",
       "      <th></th>\n",
       "      <th>Country Name</th>\n",
       "      <th>Country Code</th>\n",
       "      <th>Year</th>\n",
       "      <th>Gdp_capita</th>\n",
       "      <th>Inflation</th>\n",
       "      <th>Rural_population</th>\n",
       "      <th>Unemployment</th>\n",
       "      <th>Population_growth</th>\n",
       "    </tr>\n",
       "  </thead>\n",
       "  <tbody>\n",
       "    <tr>\n",
       "      <th>204</th>\n",
       "      <td>Eritrea</td>\n",
       "      <td>ERI</td>\n",
       "      <td>2000</td>\n",
       "      <td>308.133784</td>\n",
       "      <td>24.977595</td>\n",
       "      <td>73.413</td>\n",
       "      <td>6.861</td>\n",
       "      <td>2.428957</td>\n",
       "    </tr>\n",
       "    <tr>\n",
       "      <th>205</th>\n",
       "      <td>Eritrea</td>\n",
       "      <td>ERI</td>\n",
       "      <td>2001</td>\n",
       "      <td>316.823820</td>\n",
       "      <td>15.077270</td>\n",
       "      <td>72.545</td>\n",
       "      <td>6.446</td>\n",
       "      <td>3.527409</td>\n",
       "    </tr>\n",
       "    <tr>\n",
       "      <th>206</th>\n",
       "      <td>Eritrea</td>\n",
       "      <td>ERI</td>\n",
       "      <td>2002</td>\n",
       "      <td>293.955791</td>\n",
       "      <td>16.148667</td>\n",
       "      <td>71.659</td>\n",
       "      <td>6.864</td>\n",
       "      <td>4.380470</td>\n",
       "    </tr>\n",
       "    <tr>\n",
       "      <th>207</th>\n",
       "      <td>Eritrea</td>\n",
       "      <td>ERI</td>\n",
       "      <td>2003</td>\n",
       "      <td>334.585443</td>\n",
       "      <td>21.872842</td>\n",
       "      <td>70.756</td>\n",
       "      <td>6.817</td>\n",
       "      <td>4.720052</td>\n",
       "    </tr>\n",
       "    <tr>\n",
       "      <th>208</th>\n",
       "      <td>Eritrea</td>\n",
       "      <td>ERI</td>\n",
       "      <td>2004</td>\n",
       "      <td>407.769977</td>\n",
       "      <td>24.799286</td>\n",
       "      <td>69.836</td>\n",
       "      <td>6.857</td>\n",
       "      <td>4.467385</td>\n",
       "    </tr>\n",
       "    <tr>\n",
       "      <th>209</th>\n",
       "      <td>Eritrea</td>\n",
       "      <td>ERI</td>\n",
       "      <td>2005</td>\n",
       "      <td>388.595123</td>\n",
       "      <td>7.623689</td>\n",
       "      <td>68.901</td>\n",
       "      <td>6.716</td>\n",
       "      <td>3.853600</td>\n",
       "    </tr>\n",
       "    <tr>\n",
       "      <th>210</th>\n",
       "      <td>Eritrea</td>\n",
       "      <td>ERI</td>\n",
       "      <td>2006</td>\n",
       "      <td>415.036599</td>\n",
       "      <td>11.394004</td>\n",
       "      <td>67.949</td>\n",
       "      <td>6.629</td>\n",
       "      <td>3.187325</td>\n",
       "    </tr>\n",
       "    <tr>\n",
       "      <th>211</th>\n",
       "      <td>Eritrea</td>\n",
       "      <td>ERI</td>\n",
       "      <td>2007</td>\n",
       "      <td>439.832690</td>\n",
       "      <td>7.288208</td>\n",
       "      <td>66.983</td>\n",
       "      <td>6.360</td>\n",
       "      <td>2.648825</td>\n",
       "    </tr>\n",
       "    <tr>\n",
       "      <th>212</th>\n",
       "      <td>Eritrea</td>\n",
       "      <td>ERI</td>\n",
       "      <td>2008</td>\n",
       "      <td>450.632840</td>\n",
       "      <td>16.076220</td>\n",
       "      <td>66.000</td>\n",
       "      <td>6.107</td>\n",
       "      <td>2.186572</td>\n",
       "    </tr>\n",
       "    <tr>\n",
       "      <th>213</th>\n",
       "      <td>Eritrea</td>\n",
       "      <td>ERI</td>\n",
       "      <td>2009</td>\n",
       "      <td>595.109987</td>\n",
       "      <td>29.504507</td>\n",
       "      <td>65.415</td>\n",
       "      <td>6.832</td>\n",
       "      <td>1.848469</td>\n",
       "    </tr>\n",
       "    <tr>\n",
       "      <th>214</th>\n",
       "      <td>Eritrea</td>\n",
       "      <td>ERI</td>\n",
       "      <td>2010</td>\n",
       "      <td>667.744178</td>\n",
       "      <td>11.573757</td>\n",
       "      <td>64.825</td>\n",
       "      <td>6.899</td>\n",
       "      <td>1.606144</td>\n",
       "    </tr>\n",
       "    <tr>\n",
       "      <th>215</th>\n",
       "      <td>Eritrea</td>\n",
       "      <td>ERI</td>\n",
       "      <td>2011</td>\n",
       "      <td>811.376029</td>\n",
       "      <td>13.340851</td>\n",
       "      <td>64.229</td>\n",
       "      <td>6.907</td>\n",
       "      <td>1.363875</td>\n",
       "    </tr>\n",
       "    <tr>\n",
       "      <th>216</th>\n",
       "      <td>Eritrea</td>\n",
       "      <td>ERI</td>\n",
       "      <td>2012</td>\n",
       "      <td>811.376029</td>\n",
       "      <td>12.250000</td>\n",
       "      <td>64.229</td>\n",
       "      <td>6.926</td>\n",
       "      <td>1.363875</td>\n",
       "    </tr>\n",
       "    <tr>\n",
       "      <th>217</th>\n",
       "      <td>Eritrea</td>\n",
       "      <td>ERI</td>\n",
       "      <td>2013</td>\n",
       "      <td>811.376029</td>\n",
       "      <td>12.270000</td>\n",
       "      <td>64.229</td>\n",
       "      <td>6.955</td>\n",
       "      <td>1.363875</td>\n",
       "    </tr>\n",
       "    <tr>\n",
       "      <th>218</th>\n",
       "      <td>Eritrea</td>\n",
       "      <td>ERI</td>\n",
       "      <td>2014</td>\n",
       "      <td>811.376029</td>\n",
       "      <td>11.400000</td>\n",
       "      <td>64.229</td>\n",
       "      <td>6.867</td>\n",
       "      <td>1.363875</td>\n",
       "    </tr>\n",
       "    <tr>\n",
       "      <th>219</th>\n",
       "      <td>Eritrea</td>\n",
       "      <td>ERI</td>\n",
       "      <td>2015</td>\n",
       "      <td>811.376029</td>\n",
       "      <td>12.500000</td>\n",
       "      <td>64.229</td>\n",
       "      <td>6.807</td>\n",
       "      <td>1.363875</td>\n",
       "    </tr>\n",
       "    <tr>\n",
       "      <th>220</th>\n",
       "      <td>Eritrea</td>\n",
       "      <td>ERI</td>\n",
       "      <td>2016</td>\n",
       "      <td>811.376029</td>\n",
       "      <td>9.000000</td>\n",
       "      <td>64.229</td>\n",
       "      <td>6.684</td>\n",
       "      <td>1.363875</td>\n",
       "    </tr>\n",
       "  </tbody>\n",
       "</table>\n",
       "</div>"
      ],
      "text/plain": [
       "    Country Name Country Code  Year  Gdp_capita  Inflation  Rural_population  \\\n",
       "204      Eritrea          ERI  2000  308.133784  24.977595            73.413   \n",
       "205      Eritrea          ERI  2001  316.823820  15.077270            72.545   \n",
       "206      Eritrea          ERI  2002  293.955791  16.148667            71.659   \n",
       "207      Eritrea          ERI  2003  334.585443  21.872842            70.756   \n",
       "208      Eritrea          ERI  2004  407.769977  24.799286            69.836   \n",
       "209      Eritrea          ERI  2005  388.595123   7.623689            68.901   \n",
       "210      Eritrea          ERI  2006  415.036599  11.394004            67.949   \n",
       "211      Eritrea          ERI  2007  439.832690   7.288208            66.983   \n",
       "212      Eritrea          ERI  2008  450.632840  16.076220            66.000   \n",
       "213      Eritrea          ERI  2009  595.109987  29.504507            65.415   \n",
       "214      Eritrea          ERI  2010  667.744178  11.573757            64.825   \n",
       "215      Eritrea          ERI  2011  811.376029  13.340851            64.229   \n",
       "216      Eritrea          ERI  2012  811.376029  12.250000            64.229   \n",
       "217      Eritrea          ERI  2013  811.376029  12.270000            64.229   \n",
       "218      Eritrea          ERI  2014  811.376029  11.400000            64.229   \n",
       "219      Eritrea          ERI  2015  811.376029  12.500000            64.229   \n",
       "220      Eritrea          ERI  2016  811.376029   9.000000            64.229   \n",
       "\n",
       "     Unemployment  Population_growth  \n",
       "204         6.861           2.428957  \n",
       "205         6.446           3.527409  \n",
       "206         6.864           4.380470  \n",
       "207         6.817           4.720052  \n",
       "208         6.857           4.467385  \n",
       "209         6.716           3.853600  \n",
       "210         6.629           3.187325  \n",
       "211         6.360           2.648825  \n",
       "212         6.107           2.186572  \n",
       "213         6.832           1.848469  \n",
       "214         6.899           1.606144  \n",
       "215         6.907           1.363875  \n",
       "216         6.926           1.363875  \n",
       "217         6.955           1.363875  \n",
       "218         6.867           1.363875  \n",
       "219         6.807           1.363875  \n",
       "220         6.684           1.363875  "
      ]
     },
     "execution_count": 51,
     "metadata": {},
     "output_type": "execute_result"
    }
   ],
   "source": [
    "all_data[all_data['Country Name']=='Eritrea']"
   ]
  },
  {
   "cell_type": "markdown",
   "metadata": {},
   "source": []
  },
  {
   "cell_type": "code",
   "execution_count": 52,
   "metadata": {},
   "outputs": [
    {
     "data": {
      "text/plain": [
       "Country Name         0\n",
       "Country Code         0\n",
       "Year                 0\n",
       "Gdp_capita           0\n",
       "Inflation            0\n",
       "Rural_population     0\n",
       "Unemployment         0\n",
       "Population_growth    0\n",
       "dtype: int64"
      ]
     },
     "execution_count": 52,
     "metadata": {},
     "output_type": "execute_result"
    }
   ],
   "source": [
    "all_data.isna().sum()"
   ]
  },
  {
   "cell_type": "markdown",
   "metadata": {},
   "source": [
    "<h2><center>Data from UN / Human Development Data</center></h2>"
   ]
  },
  {
   "cell_type": "markdown",
   "metadata": {},
   "source": [
    "<h3>Human Development Index / HDI</h3>"
   ]
  },
  {
   "cell_type": "code",
   "execution_count": 53,
   "metadata": {},
   "outputs": [],
   "source": [
    "hdi = pd.read_csv('data/datafiles/HDI.csv')\n",
    "education = pd.read_csv('data/datafiles/Education_Index.csv',sep=';')\n",
    "Foreign_investment = pd.read_csv('data/datafiles/Foreign_investment.csv',delimiter=';')\n",
    "Unemployment_youth = pd.read_csv('data/datafiles/Unemployment_Youth.csv',delimiter=';')\n",
    "Mean_years_school = pd.read_csv('data/datafiles/Mean years of schooling.csv',delimiter=';')\n"
   ]
  },
  {
   "cell_type": "markdown",
   "metadata": {},
   "source": [
    "<h3>Youth Unemployment</h3>"
   ]
  },
  {
   "cell_type": "code",
   "execution_count": 54,
   "metadata": {},
   "outputs": [],
   "source": [
    "Unemployment_youth.drop(['HDI Rank (2017)','1991','1995'],axis=1,inplace=True)"
   ]
  },
  {
   "cell_type": "code",
   "execution_count": 55,
   "metadata": {},
   "outputs": [
    {
     "data": {
      "text/html": [
       "<div>\n",
       "<style scoped>\n",
       "    .dataframe tbody tr th:only-of-type {\n",
       "        vertical-align: middle;\n",
       "    }\n",
       "\n",
       "    .dataframe tbody tr th {\n",
       "        vertical-align: top;\n",
       "    }\n",
       "\n",
       "    .dataframe thead th {\n",
       "        text-align: right;\n",
       "    }\n",
       "</style>\n",
       "<table border=\"1\" class=\"dataframe\">\n",
       "  <thead>\n",
       "    <tr style=\"text-align: right;\">\n",
       "      <th></th>\n",
       "      <th>Country</th>\n",
       "      <th>2000</th>\n",
       "      <th>2005</th>\n",
       "      <th>2010</th>\n",
       "      <th>2011</th>\n",
       "      <th>2012</th>\n",
       "      <th>2013</th>\n",
       "      <th>2014</th>\n",
       "      <th>2015</th>\n",
       "      <th>2016</th>\n",
       "      <th>2017</th>\n",
       "    </tr>\n",
       "  </thead>\n",
       "  <tbody>\n",
       "    <tr>\n",
       "      <th>0</th>\n",
       "      <td>Afghanistan</td>\n",
       "      <td>23.6</td>\n",
       "      <td>17.3</td>\n",
       "      <td>16.5</td>\n",
       "      <td>17.3</td>\n",
       "      <td>16.6</td>\n",
       "      <td>17.5</td>\n",
       "      <td>17.9</td>\n",
       "      <td>18.1</td>\n",
       "      <td>17.9</td>\n",
       "      <td>17.7</td>\n",
       "    </tr>\n",
       "    <tr>\n",
       "      <th>1</th>\n",
       "      <td>Albania</td>\n",
       "      <td>35.6</td>\n",
       "      <td>31.1</td>\n",
       "      <td>29.2</td>\n",
       "      <td>28.8</td>\n",
       "      <td>27.7</td>\n",
       "      <td>30.5</td>\n",
       "      <td>39.4</td>\n",
       "      <td>40.1</td>\n",
       "      <td>32.7</td>\n",
       "      <td>30.0</td>\n",
       "    </tr>\n",
       "  </tbody>\n",
       "</table>\n",
       "</div>"
      ],
      "text/plain": [
       "       Country  2000  2005  2010  2011  2012  2013  2014  2015  2016  2017\n",
       "0  Afghanistan  23.6  17.3  16.5  17.3  16.6  17.5  17.9  18.1  17.9  17.7\n",
       "1      Albania  35.6  31.1  29.2  28.8  27.7  30.5  39.4  40.1  32.7  30.0"
      ]
     },
     "execution_count": 55,
     "metadata": {},
     "output_type": "execute_result"
    }
   ],
   "source": [
    "Unemployment_youth.head(2)"
   ]
  },
  {
   "cell_type": "markdown",
   "metadata": {},
   "source": [
    "Fill the values and the missing Years between 2000 and 2010"
   ]
  },
  {
   "cell_type": "code",
   "execution_count": 56,
   "metadata": {},
   "outputs": [],
   "source": [
    "Unemployment_youth['2001']= Unemployment_youth['2000']+ ((Unemployment_youth['2005']-Unemployment_youth['2000'])*0.20)\n",
    "Unemployment_youth['2002']= Unemployment_youth['2000']+ ((Unemployment_youth['2005']-Unemployment_youth['2000'])*0.40)\n",
    "Unemployment_youth['2003']= Unemployment_youth['2000']+ ((Unemployment_youth['2005']-Unemployment_youth['2000'])*0.60)\n",
    "Unemployment_youth['2004']= Unemployment_youth['2000']+ ((Unemployment_youth['2005']-Unemployment_youth['2000'])*0.80)\n",
    "Unemployment_youth['2006']= Unemployment_youth['2005']+ ((Unemployment_youth['2010']-Unemployment_youth['2005'])*0.20)\n",
    "Unemployment_youth['2007']= Unemployment_youth['2005']+ ((Unemployment_youth['2010']-Unemployment_youth['2005'])*0.40)\n",
    "Unemployment_youth['2008']= Unemployment_youth['2005']+ ((Unemployment_youth['2010']-Unemployment_youth['2005'])*0.60)\n",
    "Unemployment_youth['2009']= Unemployment_youth['2005']+ ((Unemployment_youth['2010']-Unemployment_youth['2005'])*0.80)\n"
   ]
  },
  {
   "cell_type": "markdown",
   "metadata": {},
   "source": [
    "Reorder the columns "
   ]
  },
  {
   "cell_type": "code",
   "execution_count": 57,
   "metadata": {},
   "outputs": [],
   "source": [
    "Unemployment_youth = Unemployment_youth[['Country', '2000', '2001', '2002', '2003','2004','2005','2006',\n",
    "                            \n",
    "                            '2007','2008','2009','2010','2011','2012','2013','2014','2015','2016']]"
   ]
  },
  {
   "cell_type": "code",
   "execution_count": 58,
   "metadata": {},
   "outputs": [],
   "source": [
    "columns = ['Country']"
   ]
  },
  {
   "cell_type": "code",
   "execution_count": 59,
   "metadata": {},
   "outputs": [],
   "source": [
    "Unemployment_youth = pivot_frame(Unemployment_youth)"
   ]
  },
  {
   "cell_type": "code",
   "execution_count": 60,
   "metadata": {},
   "outputs": [
    {
     "data": {
      "text/html": [
       "<div>\n",
       "<style scoped>\n",
       "    .dataframe tbody tr th:only-of-type {\n",
       "        vertical-align: middle;\n",
       "    }\n",
       "\n",
       "    .dataframe tbody tr th {\n",
       "        vertical-align: top;\n",
       "    }\n",
       "\n",
       "    .dataframe thead th {\n",
       "        text-align: right;\n",
       "    }\n",
       "</style>\n",
       "<table border=\"1\" class=\"dataframe\">\n",
       "  <thead>\n",
       "    <tr style=\"text-align: right;\">\n",
       "      <th></th>\n",
       "      <th>Country</th>\n",
       "      <th>variable</th>\n",
       "      <th>value</th>\n",
       "    </tr>\n",
       "  </thead>\n",
       "  <tbody>\n",
       "    <tr>\n",
       "      <th>0</th>\n",
       "      <td>Afghanistan</td>\n",
       "      <td>2000</td>\n",
       "      <td>23.6</td>\n",
       "    </tr>\n",
       "    <tr>\n",
       "      <th>1</th>\n",
       "      <td>Albania</td>\n",
       "      <td>2000</td>\n",
       "      <td>35.6</td>\n",
       "    </tr>\n",
       "  </tbody>\n",
       "</table>\n",
       "</div>"
      ],
      "text/plain": [
       "       Country variable  value\n",
       "0  Afghanistan     2000   23.6\n",
       "1      Albania     2000   35.6"
      ]
     },
     "execution_count": 60,
     "metadata": {},
     "output_type": "execute_result"
    }
   ],
   "source": [
    "Unemployment_youth.head(2)"
   ]
  },
  {
   "cell_type": "code",
   "execution_count": 61,
   "metadata": {},
   "outputs": [],
   "source": [
    "Unemployment_youth = Unemployment_youth[Unemployment_youth['Country'].isin(countries)]"
   ]
  },
  {
   "cell_type": "code",
   "execution_count": 62,
   "metadata": {},
   "outputs": [],
   "source": [
    "Unemployment_youth.rename({'variable':'Year','value':'Unemployment_youth','Country':'Country Name'},axis = 1,inplace=True)\n"
   ]
  },
  {
   "cell_type": "code",
   "execution_count": 63,
   "metadata": {},
   "outputs": [],
   "source": [
    "Unemployment_youth=Unemployment_youth.sort_values(by=['Country Name','Year'])"
   ]
  },
  {
   "cell_type": "code",
   "execution_count": 64,
   "metadata": {},
   "outputs": [],
   "source": [
    "all_data = all_data.merge(Unemployment_youth,on=['Country Name','Year'],how='left')"
   ]
  },
  {
   "cell_type": "code",
   "execution_count": 65,
   "metadata": {},
   "outputs": [
    {
     "data": {
      "text/html": [
       "<div>\n",
       "<style scoped>\n",
       "    .dataframe tbody tr th:only-of-type {\n",
       "        vertical-align: middle;\n",
       "    }\n",
       "\n",
       "    .dataframe tbody tr th {\n",
       "        vertical-align: top;\n",
       "    }\n",
       "\n",
       "    .dataframe thead th {\n",
       "        text-align: right;\n",
       "    }\n",
       "</style>\n",
       "<table border=\"1\" class=\"dataframe\">\n",
       "  <thead>\n",
       "    <tr style=\"text-align: right;\">\n",
       "      <th></th>\n",
       "      <th>Country Name</th>\n",
       "      <th>Country Code</th>\n",
       "      <th>Year</th>\n",
       "      <th>Gdp_capita</th>\n",
       "      <th>Inflation</th>\n",
       "      <th>Rural_population</th>\n",
       "      <th>Unemployment</th>\n",
       "      <th>Population_growth</th>\n",
       "      <th>Unemployment_youth</th>\n",
       "    </tr>\n",
       "  </thead>\n",
       "  <tbody>\n",
       "    <tr>\n",
       "      <th>0</th>\n",
       "      <td>Algeria</td>\n",
       "      <td>DZA</td>\n",
       "      <td>2000</td>\n",
       "      <td>1765.022577</td>\n",
       "      <td>22.654767</td>\n",
       "      <td>40.081</td>\n",
       "      <td>29.770000</td>\n",
       "      <td>1.358408</td>\n",
       "      <td>52.00</td>\n",
       "    </tr>\n",
       "    <tr>\n",
       "      <th>1</th>\n",
       "      <td>Algeria</td>\n",
       "      <td>DZA</td>\n",
       "      <td>2001</td>\n",
       "      <td>1740.606649</td>\n",
       "      <td>-0.481508</td>\n",
       "      <td>39.288</td>\n",
       "      <td>27.299999</td>\n",
       "      <td>1.309843</td>\n",
       "      <td>47.74</td>\n",
       "    </tr>\n",
       "    <tr>\n",
       "      <th>2</th>\n",
       "      <td>Algeria</td>\n",
       "      <td>DZA</td>\n",
       "      <td>2002</td>\n",
       "      <td>1781.826864</td>\n",
       "      <td>1.311488</td>\n",
       "      <td>38.499</td>\n",
       "      <td>25.900000</td>\n",
       "      <td>1.275066</td>\n",
       "      <td>43.48</td>\n",
       "    </tr>\n",
       "    <tr>\n",
       "      <th>3</th>\n",
       "      <td>Algeria</td>\n",
       "      <td>DZA</td>\n",
       "      <td>2003</td>\n",
       "      <td>2103.381467</td>\n",
       "      <td>8.328836</td>\n",
       "      <td>37.716</td>\n",
       "      <td>23.719999</td>\n",
       "      <td>1.275915</td>\n",
       "      <td>39.22</td>\n",
       "    </tr>\n",
       "    <tr>\n",
       "      <th>4</th>\n",
       "      <td>Algeria</td>\n",
       "      <td>DZA</td>\n",
       "      <td>2004</td>\n",
       "      <td>2609.952692</td>\n",
       "      <td>12.245876</td>\n",
       "      <td>36.939</td>\n",
       "      <td>17.650000</td>\n",
       "      <td>1.317846</td>\n",
       "      <td>34.96</td>\n",
       "    </tr>\n",
       "  </tbody>\n",
       "</table>\n",
       "</div>"
      ],
      "text/plain": [
       "  Country Name Country Code  Year   Gdp_capita  Inflation  Rural_population  \\\n",
       "0      Algeria          DZA  2000  1765.022577  22.654767            40.081   \n",
       "1      Algeria          DZA  2001  1740.606649  -0.481508            39.288   \n",
       "2      Algeria          DZA  2002  1781.826864   1.311488            38.499   \n",
       "3      Algeria          DZA  2003  2103.381467   8.328836            37.716   \n",
       "4      Algeria          DZA  2004  2609.952692  12.245876            36.939   \n",
       "\n",
       "   Unemployment  Population_growth  Unemployment_youth  \n",
       "0     29.770000           1.358408               52.00  \n",
       "1     27.299999           1.309843               47.74  \n",
       "2     25.900000           1.275066               43.48  \n",
       "3     23.719999           1.275915               39.22  \n",
       "4     17.650000           1.317846               34.96  "
      ]
     },
     "execution_count": 65,
     "metadata": {},
     "output_type": "execute_result"
    }
   ],
   "source": [
    "all_data.head()"
   ]
  },
  {
   "cell_type": "markdown",
   "metadata": {},
   "source": [
    "<h3>Education Index</h3>"
   ]
  },
  {
   "cell_type": "code",
   "execution_count": 66,
   "metadata": {},
   "outputs": [
    {
     "data": {
      "text/html": [
       "<div>\n",
       "<style scoped>\n",
       "    .dataframe tbody tr th:only-of-type {\n",
       "        vertical-align: middle;\n",
       "    }\n",
       "\n",
       "    .dataframe tbody tr th {\n",
       "        vertical-align: top;\n",
       "    }\n",
       "\n",
       "    .dataframe thead th {\n",
       "        text-align: right;\n",
       "    }\n",
       "</style>\n",
       "<table border=\"1\" class=\"dataframe\">\n",
       "  <thead>\n",
       "    <tr style=\"text-align: right;\">\n",
       "      <th></th>\n",
       "      <th>HDI Rank (2017)</th>\n",
       "      <th>Country</th>\n",
       "      <th>2000</th>\n",
       "      <th>2001</th>\n",
       "      <th>2002</th>\n",
       "      <th>2003</th>\n",
       "      <th>2004</th>\n",
       "      <th>2005</th>\n",
       "      <th>2006</th>\n",
       "      <th>2007</th>\n",
       "      <th>2008</th>\n",
       "      <th>2009</th>\n",
       "      <th>2010</th>\n",
       "      <th>2011</th>\n",
       "      <th>2012</th>\n",
       "      <th>2013</th>\n",
       "      <th>2014</th>\n",
       "      <th>2015</th>\n",
       "      <th>2016</th>\n",
       "      <th>2017</th>\n",
       "    </tr>\n",
       "  </thead>\n",
       "  <tbody>\n",
       "    <tr>\n",
       "      <th>0</th>\n",
       "      <td>168</td>\n",
       "      <td>Afghanistan</td>\n",
       "      <td>235.0</td>\n",
       "      <td>247.0</td>\n",
       "      <td>259.0</td>\n",
       "      <td>271.0</td>\n",
       "      <td>302.0</td>\n",
       "      <td>312.0</td>\n",
       "      <td>324.0</td>\n",
       "      <td>336.0</td>\n",
       "      <td>347.0</td>\n",
       "      <td>359.0</td>\n",
       "      <td>371.0</td>\n",
       "      <td>382.0</td>\n",
       "      <td>390.0</td>\n",
       "      <td>398.0</td>\n",
       "      <td>406.0</td>\n",
       "      <td>410.0</td>\n",
       "      <td>410.0</td>\n",
       "      <td>415</td>\n",
       "    </tr>\n",
       "    <tr>\n",
       "      <th>1</th>\n",
       "      <td>68</td>\n",
       "      <td>Albania</td>\n",
       "      <td>588.0</td>\n",
       "      <td>589.0</td>\n",
       "      <td>598.0</td>\n",
       "      <td>605.0</td>\n",
       "      <td>606.0</td>\n",
       "      <td>623.0</td>\n",
       "      <td>629.0</td>\n",
       "      <td>642.0</td>\n",
       "      <td>646.0</td>\n",
       "      <td>652.0</td>\n",
       "      <td>673.0</td>\n",
       "      <td>693.0</td>\n",
       "      <td>730.0</td>\n",
       "      <td>732.0</td>\n",
       "      <td>733.0</td>\n",
       "      <td>733.0</td>\n",
       "      <td>742.0</td>\n",
       "      <td>745</td>\n",
       "    </tr>\n",
       "  </tbody>\n",
       "</table>\n",
       "</div>"
      ],
      "text/plain": [
       "   HDI Rank (2017)      Country   2000   2001   2002   2003   2004   2005  \\\n",
       "0              168  Afghanistan  235.0  247.0  259.0  271.0  302.0  312.0   \n",
       "1               68      Albania  588.0  589.0  598.0  605.0  606.0  623.0   \n",
       "\n",
       "    2006   2007   2008   2009   2010   2011   2012   2013   2014   2015  \\\n",
       "0  324.0  336.0  347.0  359.0  371.0  382.0  390.0  398.0  406.0  410.0   \n",
       "1  629.0  642.0  646.0  652.0  673.0  693.0  730.0  732.0  733.0  733.0   \n",
       "\n",
       "    2016  2017  \n",
       "0  410.0   415  \n",
       "1  742.0   745  "
      ]
     },
     "execution_count": 66,
     "metadata": {},
     "output_type": "execute_result"
    }
   ],
   "source": [
    "education.head(2)"
   ]
  },
  {
   "cell_type": "code",
   "execution_count": 67,
   "metadata": {},
   "outputs": [],
   "source": [
    "education = pivot_frame(education)"
   ]
  },
  {
   "cell_type": "code",
   "execution_count": 68,
   "metadata": {},
   "outputs": [],
   "source": [
    "education = education[education.Country.isin(countries)]"
   ]
  },
  {
   "cell_type": "code",
   "execution_count": 69,
   "metadata": {},
   "outputs": [],
   "source": [
    "education.rename({'variable':'Year','value':'Education','Country':'Country Name'},axis = 1,inplace=True)"
   ]
  },
  {
   "cell_type": "code",
   "execution_count": 70,
   "metadata": {},
   "outputs": [],
   "source": [
    "education.sort_values(by=['Country Name','Year'])\n",
    "education['Year']=education['Year'].astype(str)"
   ]
  },
  {
   "cell_type": "code",
   "execution_count": 71,
   "metadata": {},
   "outputs": [],
   "source": [
    "#africa_data = pd.merge(education_melted, africa_data, on=['Country Name','Year'])\n",
    "all_data = all_data.merge(education,on=['Country Name','Year'],how='left')"
   ]
  },
  {
   "cell_type": "code",
   "execution_count": 72,
   "metadata": {},
   "outputs": [
    {
     "data": {
      "text/html": [
       "<div>\n",
       "<style scoped>\n",
       "    .dataframe tbody tr th:only-of-type {\n",
       "        vertical-align: middle;\n",
       "    }\n",
       "\n",
       "    .dataframe tbody tr th {\n",
       "        vertical-align: top;\n",
       "    }\n",
       "\n",
       "    .dataframe thead th {\n",
       "        text-align: right;\n",
       "    }\n",
       "</style>\n",
       "<table border=\"1\" class=\"dataframe\">\n",
       "  <thead>\n",
       "    <tr style=\"text-align: right;\">\n",
       "      <th></th>\n",
       "      <th>Country Name</th>\n",
       "      <th>Country Code</th>\n",
       "      <th>Year</th>\n",
       "      <th>Gdp_capita</th>\n",
       "      <th>Inflation</th>\n",
       "      <th>Rural_population</th>\n",
       "      <th>Unemployment</th>\n",
       "      <th>Population_growth</th>\n",
       "      <th>Unemployment_youth</th>\n",
       "      <th>Education</th>\n",
       "    </tr>\n",
       "  </thead>\n",
       "  <tbody>\n",
       "    <tr>\n",
       "      <th>0</th>\n",
       "      <td>Algeria</td>\n",
       "      <td>DZA</td>\n",
       "      <td>2000</td>\n",
       "      <td>1765.022577</td>\n",
       "      <td>22.654767</td>\n",
       "      <td>40.081</td>\n",
       "      <td>29.770000</td>\n",
       "      <td>1.358408</td>\n",
       "      <td>52.00</td>\n",
       "      <td>500.0</td>\n",
       "    </tr>\n",
       "    <tr>\n",
       "      <th>1</th>\n",
       "      <td>Algeria</td>\n",
       "      <td>DZA</td>\n",
       "      <td>2001</td>\n",
       "      <td>1740.606649</td>\n",
       "      <td>-0.481508</td>\n",
       "      <td>39.288</td>\n",
       "      <td>27.299999</td>\n",
       "      <td>1.309843</td>\n",
       "      <td>47.74</td>\n",
       "      <td>513.0</td>\n",
       "    </tr>\n",
       "  </tbody>\n",
       "</table>\n",
       "</div>"
      ],
      "text/plain": [
       "  Country Name Country Code  Year   Gdp_capita  Inflation  Rural_population  \\\n",
       "0      Algeria          DZA  2000  1765.022577  22.654767            40.081   \n",
       "1      Algeria          DZA  2001  1740.606649  -0.481508            39.288   \n",
       "\n",
       "   Unemployment  Population_growth  Unemployment_youth  Education  \n",
       "0     29.770000           1.358408               52.00      500.0  \n",
       "1     27.299999           1.309843               47.74      513.0  "
      ]
     },
     "execution_count": 72,
     "metadata": {},
     "output_type": "execute_result"
    }
   ],
   "source": [
    "all_data.head(2)"
   ]
  },
  {
   "cell_type": "markdown",
   "metadata": {},
   "source": [
    "<h3>Foreign Investment</h3>"
   ]
  },
  {
   "cell_type": "code",
   "execution_count": 73,
   "metadata": {},
   "outputs": [
    {
     "data": {
      "text/html": [
       "<div>\n",
       "<style scoped>\n",
       "    .dataframe tbody tr th:only-of-type {\n",
       "        vertical-align: middle;\n",
       "    }\n",
       "\n",
       "    .dataframe tbody tr th {\n",
       "        vertical-align: top;\n",
       "    }\n",
       "\n",
       "    .dataframe thead th {\n",
       "        text-align: right;\n",
       "    }\n",
       "</style>\n",
       "<table border=\"1\" class=\"dataframe\">\n",
       "  <thead>\n",
       "    <tr style=\"text-align: right;\">\n",
       "      <th></th>\n",
       "      <th>HDI Rank (2017)</th>\n",
       "      <th>Country</th>\n",
       "      <th>1990</th>\n",
       "      <th>1995</th>\n",
       "      <th>2000</th>\n",
       "      <th>2005</th>\n",
       "      <th>2010</th>\n",
       "      <th>2011</th>\n",
       "      <th>2012</th>\n",
       "      <th>2013</th>\n",
       "      <th>2014</th>\n",
       "      <th>2015</th>\n",
       "      <th>2016</th>\n",
       "      <th>2017</th>\n",
       "    </tr>\n",
       "  </thead>\n",
       "  <tbody>\n",
       "    <tr>\n",
       "      <th>0</th>\n",
       "      <td>168</td>\n",
       "      <td>Afghanistan</td>\n",
       "      <td>NaN</td>\n",
       "      <td>NaN</td>\n",
       "      <td>NaN</td>\n",
       "      <td>4.3</td>\n",
       "      <td>1.2</td>\n",
       "      <td>0.3</td>\n",
       "      <td>0.3</td>\n",
       "      <td>0.2</td>\n",
       "      <td>0.2</td>\n",
       "      <td>0.9</td>\n",
       "      <td>0.5</td>\n",
       "      <td>0.3</td>\n",
       "    </tr>\n",
       "    <tr>\n",
       "      <th>1</th>\n",
       "      <td>68</td>\n",
       "      <td>Albania</td>\n",
       "      <td>NaN</td>\n",
       "      <td>2.9</td>\n",
       "      <td>3.9</td>\n",
       "      <td>3.2</td>\n",
       "      <td>9.1</td>\n",
       "      <td>8.1</td>\n",
       "      <td>7.5</td>\n",
       "      <td>9.8</td>\n",
       "      <td>8.7</td>\n",
       "      <td>8.7</td>\n",
       "      <td>8.8</td>\n",
       "      <td>7.9</td>\n",
       "    </tr>\n",
       "  </tbody>\n",
       "</table>\n",
       "</div>"
      ],
      "text/plain": [
       "  HDI Rank (2017)      Country  1990  1995  2000  2005  2010  2011  2012  \\\n",
       "0             168  Afghanistan   NaN   NaN   NaN   4.3   1.2   0.3   0.3   \n",
       "1              68      Albania   NaN   2.9   3.9   3.2   9.1   8.1   7.5   \n",
       "\n",
       "   2013  2014  2015  2016  2017  \n",
       "0   0.2   0.2   0.9   0.5   0.3  \n",
       "1   9.8   8.7   8.7   8.8   7.9  "
      ]
     },
     "execution_count": 73,
     "metadata": {},
     "output_type": "execute_result"
    }
   ],
   "source": [
    "Foreign_investment.head(2)"
   ]
  },
  {
   "cell_type": "code",
   "execution_count": 74,
   "metadata": {},
   "outputs": [],
   "source": [
    "Foreign_investment.drop(['HDI Rank (2017)','1990','1995'],axis=1,inplace=True)"
   ]
  },
  {
   "cell_type": "markdown",
   "metadata": {},
   "source": [
    "Fill the values and the missing Years between 2000 and 2010"
   ]
  },
  {
   "cell_type": "code",
   "execution_count": 75,
   "metadata": {},
   "outputs": [],
   "source": [
    "Foreign_investment['2001']= Foreign_investment['2000']+ ((Foreign_investment['2005']-Foreign_investment['2000'])*0.20)\n",
    "Foreign_investment['2002']= Foreign_investment['2000']+ ((Foreign_investment['2005']-Foreign_investment['2000'])*0.40)\n",
    "Foreign_investment['2003']= Foreign_investment['2000']+ ((Foreign_investment['2005']-Foreign_investment['2000'])*0.60)\n",
    "Foreign_investment['2004']= Foreign_investment['2000']+ ((Foreign_investment['2005']-Foreign_investment['2000'])*0.80)\n",
    "Foreign_investment['2006']= Foreign_investment['2005']+ ((Foreign_investment['2010']-Foreign_investment['2005'])*0.20)\n",
    "Foreign_investment['2007']= Foreign_investment['2005']+ ((Foreign_investment['2010']-Foreign_investment['2005'])*0.40)\n",
    "Foreign_investment['2008']= Foreign_investment['2005']+ ((Foreign_investment['2010']-Foreign_investment['2005'])*0.60)\n",
    "Foreign_investment['2009']= Foreign_investment['2005']+ ((Foreign_investment['2010']-Foreign_investment['2005'])*0.80)\n"
   ]
  },
  {
   "cell_type": "markdown",
   "metadata": {},
   "source": [
    "Reorder the columns"
   ]
  },
  {
   "cell_type": "code",
   "execution_count": 76,
   "metadata": {},
   "outputs": [],
   "source": [
    "Foreign_investment = Foreign_investment[['Country', '2000', '2001', '2002', '2003','2004','2005','2006',\n",
    "                            \n",
    "                            '2007','2008','2009','2010','2011','2012','2013','2014','2015','2016']]"
   ]
  },
  {
   "cell_type": "code",
   "execution_count": 77,
   "metadata": {},
   "outputs": [],
   "source": [
    "Foreign_investment = pivot_frame(Foreign_investment)\n"
   ]
  },
  {
   "cell_type": "code",
   "execution_count": 78,
   "metadata": {},
   "outputs": [],
   "source": [
    "Foreign_investment.rename({'variable':'Year','value':'Foreign_investment','Country':'Country Name'},axis = 1,inplace=True)"
   ]
  },
  {
   "cell_type": "code",
   "execution_count": 79,
   "metadata": {},
   "outputs": [],
   "source": [
    "Foreign_investment = Foreign_investment[Foreign_investment['Country Name'].isin(countries)]"
   ]
  },
  {
   "cell_type": "code",
   "execution_count": 80,
   "metadata": {},
   "outputs": [],
   "source": [
    "Foreign_investment=Foreign_investment.sort_values(by=['Country Name','Year'])"
   ]
  },
  {
   "cell_type": "code",
   "execution_count": 81,
   "metadata": {},
   "outputs": [],
   "source": [
    "all_data = all_data.merge(Foreign_investment,on=['Country Name','Year'],how='left')"
   ]
  },
  {
   "cell_type": "code",
   "execution_count": 82,
   "metadata": {},
   "outputs": [
    {
     "data": {
      "text/html": [
       "<div>\n",
       "<style scoped>\n",
       "    .dataframe tbody tr th:only-of-type {\n",
       "        vertical-align: middle;\n",
       "    }\n",
       "\n",
       "    .dataframe tbody tr th {\n",
       "        vertical-align: top;\n",
       "    }\n",
       "\n",
       "    .dataframe thead th {\n",
       "        text-align: right;\n",
       "    }\n",
       "</style>\n",
       "<table border=\"1\" class=\"dataframe\">\n",
       "  <thead>\n",
       "    <tr style=\"text-align: right;\">\n",
       "      <th></th>\n",
       "      <th>Country Name</th>\n",
       "      <th>Country Code</th>\n",
       "      <th>Year</th>\n",
       "      <th>Gdp_capita</th>\n",
       "      <th>Inflation</th>\n",
       "      <th>Rural_population</th>\n",
       "      <th>Unemployment</th>\n",
       "      <th>Population_growth</th>\n",
       "      <th>Unemployment_youth</th>\n",
       "      <th>Education</th>\n",
       "      <th>Foreign_investment</th>\n",
       "    </tr>\n",
       "  </thead>\n",
       "  <tbody>\n",
       "    <tr>\n",
       "      <th>0</th>\n",
       "      <td>Algeria</td>\n",
       "      <td>DZA</td>\n",
       "      <td>2000</td>\n",
       "      <td>1765.022577</td>\n",
       "      <td>22.654767</td>\n",
       "      <td>40.081</td>\n",
       "      <td>29.770000</td>\n",
       "      <td>1.358408</td>\n",
       "      <td>52.00</td>\n",
       "      <td>500.0</td>\n",
       "      <td>0.50</td>\n",
       "    </tr>\n",
       "    <tr>\n",
       "      <th>1</th>\n",
       "      <td>Algeria</td>\n",
       "      <td>DZA</td>\n",
       "      <td>2001</td>\n",
       "      <td>1740.606649</td>\n",
       "      <td>-0.481508</td>\n",
       "      <td>39.288</td>\n",
       "      <td>27.299999</td>\n",
       "      <td>1.309843</td>\n",
       "      <td>47.74</td>\n",
       "      <td>513.0</td>\n",
       "      <td>0.62</td>\n",
       "    </tr>\n",
       "  </tbody>\n",
       "</table>\n",
       "</div>"
      ],
      "text/plain": [
       "  Country Name Country Code  Year   Gdp_capita  Inflation  Rural_population  \\\n",
       "0      Algeria          DZA  2000  1765.022577  22.654767            40.081   \n",
       "1      Algeria          DZA  2001  1740.606649  -0.481508            39.288   \n",
       "\n",
       "   Unemployment  Population_growth  Unemployment_youth  Education  \\\n",
       "0     29.770000           1.358408               52.00      500.0   \n",
       "1     27.299999           1.309843               47.74      513.0   \n",
       "\n",
       "   Foreign_investment  \n",
       "0                0.50  \n",
       "1                0.62  "
      ]
     },
     "execution_count": 82,
     "metadata": {},
     "output_type": "execute_result"
    }
   ],
   "source": [
    "all_data.head(2)"
   ]
  },
  {
   "cell_type": "markdown",
   "metadata": {},
   "source": [
    "<h3>HDI</h3>"
   ]
  },
  {
   "cell_type": "code",
   "execution_count": 83,
   "metadata": {},
   "outputs": [],
   "source": [
    "hdi.drop(list(hdi)[2:12], axis=1,inplace=True)"
   ]
  },
  {
   "cell_type": "code",
   "execution_count": 84,
   "metadata": {},
   "outputs": [],
   "source": [
    "hdi = pivot_frame(hdi)"
   ]
  },
  {
   "cell_type": "code",
   "execution_count": 85,
   "metadata": {},
   "outputs": [],
   "source": [
    "hdi.rename({'variable':'Year','value':'Hdi','Country':'Country Name'},axis = 1,inplace=True)"
   ]
  },
  {
   "cell_type": "code",
   "execution_count": 86,
   "metadata": {},
   "outputs": [],
   "source": [
    "hdi = hdi[hdi['Country Name'].isin(countries)]"
   ]
  },
  {
   "cell_type": "code",
   "execution_count": 87,
   "metadata": {},
   "outputs": [],
   "source": [
    "hdi=hdi.sort_values(by=['Country Name','Year'])"
   ]
  },
  {
   "cell_type": "code",
   "execution_count": 88,
   "metadata": {},
   "outputs": [],
   "source": [
    "all_data = all_data.merge(hdi,on=['Country Name','Year'],how='left')"
   ]
  },
  {
   "cell_type": "code",
   "execution_count": 89,
   "metadata": {},
   "outputs": [
    {
     "data": {
      "text/html": [
       "<div>\n",
       "<style scoped>\n",
       "    .dataframe tbody tr th:only-of-type {\n",
       "        vertical-align: middle;\n",
       "    }\n",
       "\n",
       "    .dataframe tbody tr th {\n",
       "        vertical-align: top;\n",
       "    }\n",
       "\n",
       "    .dataframe thead th {\n",
       "        text-align: right;\n",
       "    }\n",
       "</style>\n",
       "<table border=\"1\" class=\"dataframe\">\n",
       "  <thead>\n",
       "    <tr style=\"text-align: right;\">\n",
       "      <th></th>\n",
       "      <th>Country Name</th>\n",
       "      <th>Country Code</th>\n",
       "      <th>Year</th>\n",
       "      <th>Gdp_capita</th>\n",
       "      <th>Inflation</th>\n",
       "      <th>Rural_population</th>\n",
       "      <th>Unemployment</th>\n",
       "      <th>Population_growth</th>\n",
       "      <th>Unemployment_youth</th>\n",
       "      <th>Education</th>\n",
       "      <th>Foreign_investment</th>\n",
       "      <th>Hdi</th>\n",
       "    </tr>\n",
       "  </thead>\n",
       "  <tbody>\n",
       "    <tr>\n",
       "      <th>0</th>\n",
       "      <td>Algeria</td>\n",
       "      <td>DZA</td>\n",
       "      <td>2000</td>\n",
       "      <td>1765.022577</td>\n",
       "      <td>22.654767</td>\n",
       "      <td>40.081</td>\n",
       "      <td>29.770000</td>\n",
       "      <td>1.358408</td>\n",
       "      <td>52.00</td>\n",
       "      <td>500.0</td>\n",
       "      <td>0.50</td>\n",
       "      <td>0.644</td>\n",
       "    </tr>\n",
       "    <tr>\n",
       "      <th>1</th>\n",
       "      <td>Algeria</td>\n",
       "      <td>DZA</td>\n",
       "      <td>2001</td>\n",
       "      <td>1740.606649</td>\n",
       "      <td>-0.481508</td>\n",
       "      <td>39.288</td>\n",
       "      <td>27.299999</td>\n",
       "      <td>1.309843</td>\n",
       "      <td>47.74</td>\n",
       "      <td>513.0</td>\n",
       "      <td>0.62</td>\n",
       "      <td>0.653</td>\n",
       "    </tr>\n",
       "    <tr>\n",
       "      <th>2</th>\n",
       "      <td>Algeria</td>\n",
       "      <td>DZA</td>\n",
       "      <td>2002</td>\n",
       "      <td>1781.826864</td>\n",
       "      <td>1.311488</td>\n",
       "      <td>38.499</td>\n",
       "      <td>25.900000</td>\n",
       "      <td>1.275066</td>\n",
       "      <td>43.48</td>\n",
       "      <td>529.0</td>\n",
       "      <td>0.74</td>\n",
       "      <td>0.664</td>\n",
       "    </tr>\n",
       "    <tr>\n",
       "      <th>3</th>\n",
       "      <td>Algeria</td>\n",
       "      <td>DZA</td>\n",
       "      <td>2003</td>\n",
       "      <td>2103.381467</td>\n",
       "      <td>8.328836</td>\n",
       "      <td>37.716</td>\n",
       "      <td>23.719999</td>\n",
       "      <td>1.275915</td>\n",
       "      <td>39.22</td>\n",
       "      <td>542.0</td>\n",
       "      <td>0.86</td>\n",
       "      <td>0.674</td>\n",
       "    </tr>\n",
       "    <tr>\n",
       "      <th>4</th>\n",
       "      <td>Algeria</td>\n",
       "      <td>DZA</td>\n",
       "      <td>2004</td>\n",
       "      <td>2609.952692</td>\n",
       "      <td>12.245876</td>\n",
       "      <td>36.939</td>\n",
       "      <td>17.650000</td>\n",
       "      <td>1.317846</td>\n",
       "      <td>34.96</td>\n",
       "      <td>557.0</td>\n",
       "      <td>0.98</td>\n",
       "      <td>0.684</td>\n",
       "    </tr>\n",
       "  </tbody>\n",
       "</table>\n",
       "</div>"
      ],
      "text/plain": [
       "  Country Name Country Code  Year   Gdp_capita  Inflation  Rural_population  \\\n",
       "0      Algeria          DZA  2000  1765.022577  22.654767            40.081   \n",
       "1      Algeria          DZA  2001  1740.606649  -0.481508            39.288   \n",
       "2      Algeria          DZA  2002  1781.826864   1.311488            38.499   \n",
       "3      Algeria          DZA  2003  2103.381467   8.328836            37.716   \n",
       "4      Algeria          DZA  2004  2609.952692  12.245876            36.939   \n",
       "\n",
       "   Unemployment  Population_growth  Unemployment_youth  Education  \\\n",
       "0     29.770000           1.358408               52.00      500.0   \n",
       "1     27.299999           1.309843               47.74      513.0   \n",
       "2     25.900000           1.275066               43.48      529.0   \n",
       "3     23.719999           1.275915               39.22      542.0   \n",
       "4     17.650000           1.317846               34.96      557.0   \n",
       "\n",
       "   Foreign_investment    Hdi  \n",
       "0                0.50  0.644  \n",
       "1                0.62  0.653  \n",
       "2                0.74  0.664  \n",
       "3                0.86  0.674  \n",
       "4                0.98  0.684  "
      ]
     },
     "execution_count": 89,
     "metadata": {},
     "output_type": "execute_result"
    }
   ],
   "source": [
    "all_data.head()"
   ]
  },
  {
   "cell_type": "markdown",
   "metadata": {},
   "source": [
    "Save the cleaned data as datafile for future use"
   ]
  },
  {
   "cell_type": "code",
   "execution_count": 90,
   "metadata": {},
   "outputs": [],
   "source": [
    "all_data.to_csv('data/outputfiles/cleaned_data_worldbank.csv')"
   ]
  },
  {
   "cell_type": "code",
   "execution_count": null,
   "metadata": {},
   "outputs": [],
   "source": []
  },
  {
   "cell_type": "markdown",
   "metadata": {},
   "source": [
    "<h3>The target variable Migration</h3>"
   ]
  },
  {
   "cell_type": "markdown",
   "metadata": {},
   "source": [
    "Most Countries from where the migrants come from do not keep track of migration numbers. So in order to find out how many migrants come from a specific country I use data from the OECD that show the number of migrants that arrived from a given developing country and take the sum acrros all the developed (OECD) countries. "
   ]
  },
  {
   "cell_type": "code",
   "execution_count": 91,
   "metadata": {},
   "outputs": [],
   "source": [
    "raw_migration_data = pd.read_csv('data/datafiles/migration_oecd.csv',low_memory=False)"
   ]
  },
  {
   "cell_type": "code",
   "execution_count": 92,
   "metadata": {},
   "outputs": [
    {
     "data": {
      "text/plain": [
       "(421899, 13)"
      ]
     },
     "execution_count": 92,
     "metadata": {},
     "output_type": "execute_result"
    }
   ],
   "source": [
    "raw_migration_data.shape"
   ]
  },
  {
   "cell_type": "code",
   "execution_count": 93,
   "metadata": {},
   "outputs": [
    {
     "data": {
      "text/html": [
       "<div>\n",
       "<style scoped>\n",
       "    .dataframe tbody tr th:only-of-type {\n",
       "        vertical-align: middle;\n",
       "    }\n",
       "\n",
       "    .dataframe tbody tr th {\n",
       "        vertical-align: top;\n",
       "    }\n",
       "\n",
       "    .dataframe thead th {\n",
       "        text-align: right;\n",
       "    }\n",
       "</style>\n",
       "<table border=\"1\" class=\"dataframe\">\n",
       "  <thead>\n",
       "    <tr style=\"text-align: right;\">\n",
       "      <th></th>\n",
       "      <th>CO2</th>\n",
       "      <th>Country of birth/nationality</th>\n",
       "      <th>VAR</th>\n",
       "      <th>Variable</th>\n",
       "      <th>GEN</th>\n",
       "      <th>Gender</th>\n",
       "      <th>COU</th>\n",
       "      <th>Country</th>\n",
       "      <th>YEA</th>\n",
       "      <th>Year</th>\n",
       "      <th>Value</th>\n",
       "      <th>Flag Codes</th>\n",
       "      <th>Flags</th>\n",
       "    </tr>\n",
       "  </thead>\n",
       "  <tbody>\n",
       "    <tr>\n",
       "      <th>0</th>\n",
       "      <td>AFG</td>\n",
       "      <td>Afghanistan</td>\n",
       "      <td>B11</td>\n",
       "      <td>Inflows of foreign population by nationality</td>\n",
       "      <td>TOT</td>\n",
       "      <td>Total</td>\n",
       "      <td>AUS</td>\n",
       "      <td>Australia</td>\n",
       "      <td>2000</td>\n",
       "      <td>2000</td>\n",
       "      <td>887.0</td>\n",
       "      <td>NaN</td>\n",
       "      <td>NaN</td>\n",
       "    </tr>\n",
       "    <tr>\n",
       "      <th>1</th>\n",
       "      <td>AFG</td>\n",
       "      <td>Afghanistan</td>\n",
       "      <td>B11</td>\n",
       "      <td>Inflows of foreign population by nationality</td>\n",
       "      <td>TOT</td>\n",
       "      <td>Total</td>\n",
       "      <td>AUS</td>\n",
       "      <td>Australia</td>\n",
       "      <td>2001</td>\n",
       "      <td>2001</td>\n",
       "      <td>456.0</td>\n",
       "      <td>NaN</td>\n",
       "      <td>NaN</td>\n",
       "    </tr>\n",
       "  </tbody>\n",
       "</table>\n",
       "</div>"
      ],
      "text/plain": [
       "   CO2 Country of birth/nationality  VAR  \\\n",
       "0  AFG                  Afghanistan  B11   \n",
       "1  AFG                  Afghanistan  B11   \n",
       "\n",
       "                                       Variable  GEN Gender  COU    Country  \\\n",
       "0  Inflows of foreign population by nationality  TOT  Total  AUS  Australia   \n",
       "1  Inflows of foreign population by nationality  TOT  Total  AUS  Australia   \n",
       "\n",
       "    YEA  Year  Value Flag Codes Flags  \n",
       "0  2000  2000  887.0        NaN   NaN  \n",
       "1  2001  2001  456.0        NaN   NaN  "
      ]
     },
     "execution_count": 93,
     "metadata": {},
     "output_type": "execute_result"
    }
   ],
   "source": [
    "raw_migration_data.head(2)"
   ]
  },
  {
   "cell_type": "code",
   "execution_count": 94,
   "metadata": {},
   "outputs": [
    {
     "data": {
      "text/plain": [
       "array(['Inflows of foreign population by nationality',\n",
       "       'Outflows of foreign population by nationality',\n",
       "       'Stock of foreign-born population by country of birth',\n",
       "       'Inflows of asylum seekers by nationality',\n",
       "       'Stock of foreign population by nationality',\n",
       "       'Acquisition of nationality by country of former nationality',\n",
       "       'Stock of foreign-born labour by country of birth',\n",
       "       'Stock of foreign labour by nationality'], dtype=object)"
      ]
     },
     "execution_count": 94,
     "metadata": {},
     "output_type": "execute_result"
    }
   ],
   "source": [
    "raw_migration_data.Variable.unique()"
   ]
  },
  {
   "cell_type": "markdown",
   "metadata": {},
   "source": [
    "The attribute variable groups the foreign population by several categories.\n",
    "\n",
    "Aproach 1) Use the variable \"Inflows of foreign population by nationality\". Take the sum from all countries that received inflows from a given country. The sum should give an aproximadion of migrants for a specific origin country for a given year.\n",
    "\n",
    "Example: Take all inflows of migrants in France that came from Algeria plus all the inflows of migrants in Germany that came from Algeria and continue through the rest of the receiving countries.\n",
    "\n",
    "Drawback: If an Algerian citicen that allready lives in France would move to Germany, he/she would count as a new imigrant. The other problem is that imigrants that return to their home country are not included the Categories."
   ]
  },
  {
   "cell_type": "code",
   "execution_count": 95,
   "metadata": {},
   "outputs": [],
   "source": [
    "#drop features that hold double information or no migration relevant information\n",
    "raw_migration_data.drop(columns=['Variable','GEN','YEA','Gender','Flag Codes','Flags'], axis=1, inplace = True)"
   ]
  },
  {
   "cell_type": "code",
   "execution_count": 96,
   "metadata": {},
   "outputs": [],
   "source": [
    "#change variable label and Value for readabilty purpose\n",
    "raw_migration_data.rename({'CO2': 'Country Code'},axis=1,inplace=True)\n",
    "#raw_migration_data.rename({'Value': 'Migration'},axis=1,inplace=True)"
   ]
  },
  {
   "cell_type": "code",
   "execution_count": null,
   "metadata": {},
   "outputs": [],
   "source": []
  },
  {
   "cell_type": "code",
   "execution_count": 97,
   "metadata": {},
   "outputs": [],
   "source": [
    "raw_migration_data = raw_migration_data[raw_migration_data['Country of birth/nationality'].isin(countries)]"
   ]
  },
  {
   "cell_type": "code",
   "execution_count": 98,
   "metadata": {},
   "outputs": [
    {
     "data": {
      "text/html": [
       "<div>\n",
       "<style scoped>\n",
       "    .dataframe tbody tr th:only-of-type {\n",
       "        vertical-align: middle;\n",
       "    }\n",
       "\n",
       "    .dataframe tbody tr th {\n",
       "        vertical-align: top;\n",
       "    }\n",
       "\n",
       "    .dataframe thead th {\n",
       "        text-align: right;\n",
       "    }\n",
       "</style>\n",
       "<table border=\"1\" class=\"dataframe\">\n",
       "  <thead>\n",
       "    <tr style=\"text-align: right;\">\n",
       "      <th></th>\n",
       "      <th>Country Code</th>\n",
       "      <th>Country of birth/nationality</th>\n",
       "      <th>VAR</th>\n",
       "      <th>COU</th>\n",
       "      <th>Country</th>\n",
       "      <th>Year</th>\n",
       "      <th>Value</th>\n",
       "    </tr>\n",
       "  </thead>\n",
       "  <tbody>\n",
       "    <tr>\n",
       "      <th>1734</th>\n",
       "      <td>DZA</td>\n",
       "      <td>Algeria</td>\n",
       "      <td>B11</td>\n",
       "      <td>AUS</td>\n",
       "      <td>Australia</td>\n",
       "      <td>2000</td>\n",
       "      <td>56.0</td>\n",
       "    </tr>\n",
       "    <tr>\n",
       "      <th>1735</th>\n",
       "      <td>DZA</td>\n",
       "      <td>Algeria</td>\n",
       "      <td>B11</td>\n",
       "      <td>AUS</td>\n",
       "      <td>Australia</td>\n",
       "      <td>2001</td>\n",
       "      <td>60.0</td>\n",
       "    </tr>\n",
       "  </tbody>\n",
       "</table>\n",
       "</div>"
      ],
      "text/plain": [
       "     Country Code Country of birth/nationality  VAR  COU    Country  Year  \\\n",
       "1734          DZA                      Algeria  B11  AUS  Australia  2000   \n",
       "1735          DZA                      Algeria  B11  AUS  Australia  2001   \n",
       "\n",
       "      Value  \n",
       "1734   56.0  \n",
       "1735   60.0  "
      ]
     },
     "execution_count": 98,
     "metadata": {},
     "output_type": "execute_result"
    }
   ],
   "source": [
    "raw_migration_data.head(2)"
   ]
  },
  {
   "cell_type": "code",
   "execution_count": 99,
   "metadata": {},
   "outputs": [],
   "source": [
    "raw_migration_data.drop(['Country Code','COU'],axis=1, inplace = True)"
   ]
  },
  {
   "cell_type": "code",
   "execution_count": 100,
   "metadata": {},
   "outputs": [],
   "source": [
    "migration =raw_migration_data[raw_migration_data.VAR== 'B11'].copy()"
   ]
  },
  {
   "cell_type": "code",
   "execution_count": 101,
   "metadata": {},
   "outputs": [
    {
     "data": {
      "text/plain": [
       "(34,)"
      ]
     },
     "execution_count": 101,
     "metadata": {},
     "output_type": "execute_result"
    }
   ],
   "source": [
    "migration.Country.unique().shape"
   ]
  },
  {
   "cell_type": "code",
   "execution_count": 102,
   "metadata": {},
   "outputs": [],
   "source": [
    "#Rename the column Value to Migration \n",
    "migration.rename({'Value':'Migration','Country of birth/nationality':'Country Name'},axis=1,inplace=True)\n"
   ]
  },
  {
   "cell_type": "code",
   "execution_count": 103,
   "metadata": {},
   "outputs": [],
   "source": [
    "migration = migration.groupby(by=['Country Name','Year'])['Migration'].sum().reset_index() "
   ]
  },
  {
   "cell_type": "code",
   "execution_count": 104,
   "metadata": {},
   "outputs": [],
   "source": [
    "migration = migration[migration['Country Name'].isin(countries)]"
   ]
  },
  {
   "cell_type": "code",
   "execution_count": 105,
   "metadata": {},
   "outputs": [
    {
     "data": {
      "text/plain": [
       "(731, 3)"
      ]
     },
     "execution_count": 105,
     "metadata": {},
     "output_type": "execute_result"
    }
   ],
   "source": [
    "migration.shape"
   ]
  },
  {
   "cell_type": "code",
   "execution_count": 106,
   "metadata": {},
   "outputs": [
    {
     "data": {
      "text/html": [
       "<div>\n",
       "<style scoped>\n",
       "    .dataframe tbody tr th:only-of-type {\n",
       "        vertical-align: middle;\n",
       "    }\n",
       "\n",
       "    .dataframe tbody tr th {\n",
       "        vertical-align: top;\n",
       "    }\n",
       "\n",
       "    .dataframe thead th {\n",
       "        text-align: right;\n",
       "    }\n",
       "</style>\n",
       "<table border=\"1\" class=\"dataframe\">\n",
       "  <thead>\n",
       "    <tr style=\"text-align: right;\">\n",
       "      <th></th>\n",
       "      <th>Country Name</th>\n",
       "      <th>Year</th>\n",
       "      <th>Migration</th>\n",
       "    </tr>\n",
       "  </thead>\n",
       "  <tbody>\n",
       "    <tr>\n",
       "      <th>0</th>\n",
       "      <td>Algeria</td>\n",
       "      <td>2000</td>\n",
       "      <td>24918.0</td>\n",
       "    </tr>\n",
       "    <tr>\n",
       "      <th>1</th>\n",
       "      <td>Algeria</td>\n",
       "      <td>2001</td>\n",
       "      <td>28388.0</td>\n",
       "    </tr>\n",
       "  </tbody>\n",
       "</table>\n",
       "</div>"
      ],
      "text/plain": [
       "  Country Name  Year  Migration\n",
       "0      Algeria  2000    24918.0\n",
       "1      Algeria  2001    28388.0"
      ]
     },
     "execution_count": 106,
     "metadata": {},
     "output_type": "execute_result"
    }
   ],
   "source": [
    "migration.head(2)"
   ]
  },
  {
   "cell_type": "code",
   "execution_count": 107,
   "metadata": {},
   "outputs": [],
   "source": [
    "migration['Year']=migration['Year'].astype(str)"
   ]
  },
  {
   "cell_type": "code",
   "execution_count": 108,
   "metadata": {},
   "outputs": [],
   "source": [
    "migration.to_csv('data/outputfiles/migration.csv')"
   ]
  },
  {
   "cell_type": "markdown",
   "metadata": {},
   "source": [
    "<h3>Merging the target variable and the predictors</h3>"
   ]
  },
  {
   "cell_type": "code",
   "execution_count": 109,
   "metadata": {},
   "outputs": [],
   "source": [
    "africa = pd.merge(all_data, migration, on=['Country Name', 'Year'],how='left')\n"
   ]
  },
  {
   "cell_type": "code",
   "execution_count": 110,
   "metadata": {},
   "outputs": [
    {
     "data": {
      "text/html": [
       "<div>\n",
       "<style scoped>\n",
       "    .dataframe tbody tr th:only-of-type {\n",
       "        vertical-align: middle;\n",
       "    }\n",
       "\n",
       "    .dataframe tbody tr th {\n",
       "        vertical-align: top;\n",
       "    }\n",
       "\n",
       "    .dataframe thead th {\n",
       "        text-align: right;\n",
       "    }\n",
       "</style>\n",
       "<table border=\"1\" class=\"dataframe\">\n",
       "  <thead>\n",
       "    <tr style=\"text-align: right;\">\n",
       "      <th></th>\n",
       "      <th>Country Name</th>\n",
       "      <th>Country Code</th>\n",
       "      <th>Year</th>\n",
       "      <th>Gdp_capita</th>\n",
       "      <th>Inflation</th>\n",
       "      <th>Rural_population</th>\n",
       "      <th>Unemployment</th>\n",
       "      <th>Population_growth</th>\n",
       "      <th>Unemployment_youth</th>\n",
       "      <th>Education</th>\n",
       "      <th>Foreign_investment</th>\n",
       "      <th>Hdi</th>\n",
       "      <th>Migration</th>\n",
       "    </tr>\n",
       "  </thead>\n",
       "  <tbody>\n",
       "    <tr>\n",
       "      <th>0</th>\n",
       "      <td>Algeria</td>\n",
       "      <td>DZA</td>\n",
       "      <td>2000</td>\n",
       "      <td>1765.022577</td>\n",
       "      <td>22.654767</td>\n",
       "      <td>40.081</td>\n",
       "      <td>29.770000</td>\n",
       "      <td>1.358408</td>\n",
       "      <td>52.00</td>\n",
       "      <td>500.0</td>\n",
       "      <td>0.50</td>\n",
       "      <td>0.644</td>\n",
       "      <td>24918.0</td>\n",
       "    </tr>\n",
       "    <tr>\n",
       "      <th>1</th>\n",
       "      <td>Algeria</td>\n",
       "      <td>DZA</td>\n",
       "      <td>2001</td>\n",
       "      <td>1740.606649</td>\n",
       "      <td>-0.481508</td>\n",
       "      <td>39.288</td>\n",
       "      <td>27.299999</td>\n",
       "      <td>1.309843</td>\n",
       "      <td>47.74</td>\n",
       "      <td>513.0</td>\n",
       "      <td>0.62</td>\n",
       "      <td>0.653</td>\n",
       "      <td>28388.0</td>\n",
       "    </tr>\n",
       "    <tr>\n",
       "      <th>2</th>\n",
       "      <td>Algeria</td>\n",
       "      <td>DZA</td>\n",
       "      <td>2002</td>\n",
       "      <td>1781.826864</td>\n",
       "      <td>1.311488</td>\n",
       "      <td>38.499</td>\n",
       "      <td>25.900000</td>\n",
       "      <td>1.275066</td>\n",
       "      <td>43.48</td>\n",
       "      <td>529.0</td>\n",
       "      <td>0.74</td>\n",
       "      <td>0.664</td>\n",
       "      <td>36637.0</td>\n",
       "    </tr>\n",
       "    <tr>\n",
       "      <th>3</th>\n",
       "      <td>Algeria</td>\n",
       "      <td>DZA</td>\n",
       "      <td>2003</td>\n",
       "      <td>2103.381467</td>\n",
       "      <td>8.328836</td>\n",
       "      <td>37.716</td>\n",
       "      <td>23.719999</td>\n",
       "      <td>1.275915</td>\n",
       "      <td>39.22</td>\n",
       "      <td>542.0</td>\n",
       "      <td>0.86</td>\n",
       "      <td>0.674</td>\n",
       "      <td>42361.0</td>\n",
       "    </tr>\n",
       "    <tr>\n",
       "      <th>4</th>\n",
       "      <td>Algeria</td>\n",
       "      <td>DZA</td>\n",
       "      <td>2004</td>\n",
       "      <td>2609.952692</td>\n",
       "      <td>12.245876</td>\n",
       "      <td>36.939</td>\n",
       "      <td>17.650000</td>\n",
       "      <td>1.317846</td>\n",
       "      <td>34.96</td>\n",
       "      <td>557.0</td>\n",
       "      <td>0.98</td>\n",
       "      <td>0.684</td>\n",
       "      <td>44840.0</td>\n",
       "    </tr>\n",
       "  </tbody>\n",
       "</table>\n",
       "</div>"
      ],
      "text/plain": [
       "  Country Name Country Code  Year   Gdp_capita  Inflation  Rural_population  \\\n",
       "0      Algeria          DZA  2000  1765.022577  22.654767            40.081   \n",
       "1      Algeria          DZA  2001  1740.606649  -0.481508            39.288   \n",
       "2      Algeria          DZA  2002  1781.826864   1.311488            38.499   \n",
       "3      Algeria          DZA  2003  2103.381467   8.328836            37.716   \n",
       "4      Algeria          DZA  2004  2609.952692  12.245876            36.939   \n",
       "\n",
       "   Unemployment  Population_growth  Unemployment_youth  Education  \\\n",
       "0     29.770000           1.358408               52.00      500.0   \n",
       "1     27.299999           1.309843               47.74      513.0   \n",
       "2     25.900000           1.275066               43.48      529.0   \n",
       "3     23.719999           1.275915               39.22      542.0   \n",
       "4     17.650000           1.317846               34.96      557.0   \n",
       "\n",
       "   Foreign_investment    Hdi  Migration  \n",
       "0                0.50  0.644    24918.0  \n",
       "1                0.62  0.653    28388.0  \n",
       "2                0.74  0.664    36637.0  \n",
       "3                0.86  0.674    42361.0  \n",
       "4                0.98  0.684    44840.0  "
      ]
     },
     "execution_count": 110,
     "metadata": {},
     "output_type": "execute_result"
    }
   ],
   "source": [
    "africa.head()"
   ]
  },
  {
   "cell_type": "code",
   "execution_count": 111,
   "metadata": {},
   "outputs": [],
   "source": [
    "#africa.isna().sum()\n",
    "africa.fillna(0.00,inplace=True)"
   ]
  },
  {
   "cell_type": "code",
   "execution_count": 112,
   "metadata": {},
   "outputs": [],
   "source": [
    "num_cols=list(africa.select_dtypes(exclude='object'))"
   ]
  },
  {
   "cell_type": "code",
   "execution_count": 113,
   "metadata": {},
   "outputs": [
    {
     "name": "stdout",
     "output_type": "stream",
     "text": [
      "0.045719609853089975   : Gdp_capita\n",
      "-0.018981790788984647   : Inflation\n",
      "-0.2282201994774082   : Rural_population\n",
      "0.0691350445869624   : Unemployment\n",
      "-0.22124117733892687   : Population_growth\n",
      "0.07944279927300549   : Unemployment_youth\n",
      "0.15880812062310995   : Education\n",
      "-0.11320760876287932   : Foreign_investment\n",
      "0.2650424295043424   : Hdi\n",
      "0.9999999999999998   : Migration\n"
     ]
    }
   ],
   "source": [
    "for col in num_cols:\n",
    "    print(africa[col].corr(africa.Migration),'  :' ,col)"
   ]
  },
  {
   "cell_type": "markdown",
   "metadata": {},
   "source": [
    "<h3>Exploratory Data Analysis</h3>"
   ]
  },
  {
   "cell_type": "markdown",
   "metadata": {},
   "source": [
    "The trap of thinking that poverty is an absolut, unfailable predictor<br>\n",
    "When we look at the top ten countries in absolute numbers, there is one country that clearly stands out. "
   ]
  },
  {
   "cell_type": "code",
   "execution_count": 114,
   "metadata": {},
   "outputs": [],
   "source": [
    "countries_migration = africa.groupby(by=['Country Name'])['Migration'].sum()"
   ]
  },
  {
   "cell_type": "code",
   "execution_count": 115,
   "metadata": {},
   "outputs": [],
   "source": [
    "top10= countries_migration.sort_values(ascending=False)[0:10]\n",
    "countries=top10.index\n",
    "values=top10.values"
   ]
  },
  {
   "cell_type": "code",
   "execution_count": 116,
   "metadata": {},
   "outputs": [
    {
     "data": {
      "image/png": "[encoded data removed]",
      "text/plain": [
       "<Figure size 1080x504 with 1 Axes>"
      ]
     },
     "metadata": {},
     "output_type": "display_data"
    }
   ],
   "source": [
    "plt.figure(figsize=(15,7))\n",
    "plt.title('Top 10 Migration by country of origin')\n",
    "sns.barplot(countries,values)\n",
    "plt.show()"
   ]
  },
  {
   "cell_type": "code",
   "execution_count": 117,
   "metadata": {},
   "outputs": [],
   "source": [
    "africa_without_morocco= africa[(africa['Country Name']!='Morocco')]"
   ]
  },
  {
   "cell_type": "code",
   "execution_count": 118,
   "metadata": {},
   "outputs": [
    {
     "name": "stdout",
     "output_type": "stream",
     "text": [
      "0.06105519487510262   : Gdp_capita\n",
      "-0.007578923232447435   : Inflation\n",
      "-0.22358053271254305   : Rural_population\n",
      "0.0908367945350324   : Unemployment\n",
      "-0.1419563612638445   : Population_growth\n",
      "0.14379628305791003   : Unemployment_youth\n",
      "0.2865972148865496   : Education\n",
      "-0.1312461871615101   : Foreign_investment\n",
      "0.30134365631167176   : Hdi\n",
      "1.0   : Migration\n"
     ]
    }
   ],
   "source": [
    "for col in num_cols:\n",
    "    print(africa_without_morocco[col].corr(africa_without_morocco.Migration),'  :' ,col)"
   ]
  },
  {
   "cell_type": "code",
   "execution_count": 119,
   "metadata": {},
   "outputs": [],
   "source": [
    "anual_migration = africa.groupby(by='Year')['Migration'].sum()"
   ]
  },
  {
   "cell_type": "code",
   "execution_count": 120,
   "metadata": {},
   "outputs": [],
   "source": [
    "anual_migration_without_morocco = africa_without_morocco.groupby(by='Year')['Migration'].sum()"
   ]
  },
  {
   "cell_type": "code",
   "execution_count": 121,
   "metadata": {},
   "outputs": [
    {
     "data": {
      "text/plain": [
       "<matplotlib.axes._subplots.AxesSubplot at 0x26c002d9080>"
      ]
     },
     "execution_count": 121,
     "metadata": {},
     "output_type": "execute_result"
    },
    {
     "data": {
      "image/png": "[encoded data removed]",
      "text/plain": [
       "<Figure size 1080x504 with 1 Axes>"
      ]
     },
     "metadata": {},
     "output_type": "display_data"
    }
   ],
   "source": [
    "\n",
    "plt.figure(figsize=(15,7))\n",
    "plt.title('Total Migration from Africa per Year')\n",
    "sns.lineplot(x=anual_migration.index, y=anual_migration.values, label='All Africa')\n",
    "sns.lineplot(x=anual_migration.index, y=anual_migration_without_morocco.values,label='Without Morocco')"
   ]
  },
  {
   "cell_type": "code",
   "execution_count": null,
   "metadata": {},
   "outputs": [],
   "source": []
  },
  {
   "cell_type": "code",
   "execution_count": null,
   "metadata": {},
   "outputs": [],
   "source": []
  },
  {
   "cell_type": "code",
   "execution_count": null,
   "metadata": {},
   "outputs": [],
   "source": [
    "\n"
   ]
  },
  {
   "cell_type": "code",
   "execution_count": null,
   "metadata": {},
   "outputs": [],
   "source": []
  },
  {
   "cell_type": "markdown",
   "metadata": {},
   "source": [
    "<h4>Migration and Gnp per capita</h4>"
   ]
  },
  {
   "cell_type": "code",
   "execution_count": 122,
   "metadata": {},
   "outputs": [],
   "source": [
    "countries_by_gdp = africa.groupby(by=['Country Name'])['Gdp_capita'].mean()"
   ]
  },
  {
   "cell_type": "code",
   "execution_count": 123,
   "metadata": {},
   "outputs": [],
   "source": [
    "top10_gdp = countries_by_gdp.sort_values(ascending=False)[0:10]"
   ]
  },
  {
   "cell_type": "code",
   "execution_count": 124,
   "metadata": {},
   "outputs": [
    {
     "data": {
      "image/png": "[encoded data removed]",
      "text/plain": [
       "<Figure size 1080x504 with 1 Axes>"
      ]
     },
     "metadata": {},
     "output_type": "display_data"
    }
   ],
   "source": [
    "plt.figure(figsize=(15,7))\n",
    "plt.title('Top 10 countries by gdp per capita')\n",
    "sns.barplot(top10_gdp.index,top10_gdp.values)\n",
    "plt.show()"
   ]
  },
  {
   "cell_type": "code",
   "execution_count": 125,
   "metadata": {},
   "outputs": [
    {
     "name": "stderr",
     "output_type": "stream",
     "text": [
      "C:\\Users\\Carlos\\Anaconda3\\lib\\site-packages\\scipy\\stats\\stats.py:1713: FutureWarning: Using a non-tuple sequence for multidimensional indexing is deprecated; use `arr[tuple(seq)]` instead of `arr[seq]`. In the future this will be interpreted as an array index, `arr[np.array(seq)]`, which will result either in an error or a different result.\n",
      "  return np.add.reduce(sorted[indexer] * weights, axis=axis) / sumval\n"
     ]
    },
    {
     "data": {
      "image/png": "[encoded data removed]",
      "text/plain": [
       "<Figure size 432x288 with 1 Axes>"
      ]
     },
     "metadata": {},
     "output_type": "display_data"
    }
   ],
   "source": [
    "sns.regplot(x=africa['Rural_population'], y=africa['Migration'], fit_reg=True)\n",
    "plt.show()"
   ]
  },
  {
   "cell_type": "code",
   "execution_count": 126,
   "metadata": {},
   "outputs": [
    {
     "data": {
      "image/png": "[encoded data removed]",
      "text/plain": [
       "<Figure size 720x720 with 2 Axes>"
      ]
     },
     "metadata": {},
     "output_type": "display_data"
    }
   ],
   "source": [
    "# most correlated features\n",
    "corrmat = africa.corr()\n",
    "top_corr_features = corrmat.index[abs(corrmat[\"Migration\"])>0.00]\n",
    "plt.figure(figsize=(10,10))\n",
    "g = sns.heatmap(africa[top_corr_features].corr(),annot=True,cmap=\"RdYlGn\")"
   ]
  },
  {
   "cell_type": "code",
   "execution_count": 127,
   "metadata": {},
   "outputs": [
    {
     "data": {
      "image/png": "[encoded data removed]",
      "text/plain": [
       "<Figure size 720x720 with 2 Axes>"
      ]
     },
     "metadata": {},
     "output_type": "display_data"
    }
   ],
   "source": [
    "\n",
    "# most correlated features\n",
    "corrmat = africa_without_morocco.corr()\n",
    "top_corr_features = corrmat.index[abs(corrmat[\"Migration\"])>0.00]\n",
    "plt.figure(figsize=(10,10))\n",
    "g = sns.heatmap(africa_without_morocco[top_corr_features].corr(),annot=True,cmap=\"RdYlGn\")"
   ]
  },
  {
   "cell_type": "code",
   "execution_count": 128,
   "metadata": {},
   "outputs": [],
   "source": [
    "\n",
    "categorical_columns= list(africa.select_dtypes(include='object'))\n",
    "\n"
   ]
  },
  {
   "cell_type": "code",
   "execution_count": 129,
   "metadata": {},
   "outputs": [
    {
     "data": {
      "text/plain": [
       "['Country Name', 'Country Code', 'Year']"
      ]
     },
     "execution_count": 129,
     "metadata": {},
     "output_type": "execute_result"
    }
   ],
   "source": [
    "categorical_columns"
   ]
  },
  {
   "cell_type": "code",
   "execution_count": null,
   "metadata": {},
   "outputs": [],
   "source": []
  },
  {
   "cell_type": "markdown",
   "metadata": {},
   "source": [
    "<h3>Data Preprocessing for Machine Learning</h3>"
   ]
  },
  {
   "cell_type": "code",
   "execution_count": 130,
   "metadata": {},
   "outputs": [
    {
     "data": {
      "text/plain": [
       "(731, 13)"
      ]
     },
     "execution_count": 130,
     "metadata": {},
     "output_type": "execute_result"
    }
   ],
   "source": [
    "africa.shape"
   ]
  },
  {
   "cell_type": "code",
   "execution_count": 131,
   "metadata": {},
   "outputs": [],
   "source": [
    "africa.drop(['Country Code'],axis=1,inplace = True)"
   ]
  },
  {
   "cell_type": "code",
   "execution_count": 132,
   "metadata": {},
   "outputs": [],
   "source": [
    "Y=africa.Migration"
   ]
  },
  {
   "cell_type": "code",
   "execution_count": 133,
   "metadata": {},
   "outputs": [],
   "source": [
    "africa_2=africa.copy()"
   ]
  },
  {
   "cell_type": "code",
   "execution_count": 134,
   "metadata": {},
   "outputs": [
    {
     "data": {
      "text/html": [
       "<div>\n",
       "<style scoped>\n",
       "    .dataframe tbody tr th:only-of-type {\n",
       "        vertical-align: middle;\n",
       "    }\n",
       "\n",
       "    .dataframe tbody tr th {\n",
       "        vertical-align: top;\n",
       "    }\n",
       "\n",
       "    .dataframe thead th {\n",
       "        text-align: right;\n",
       "    }\n",
       "</style>\n",
       "<table border=\"1\" class=\"dataframe\">\n",
       "  <thead>\n",
       "    <tr style=\"text-align: right;\">\n",
       "      <th></th>\n",
       "      <th>Country Name</th>\n",
       "      <th>Year</th>\n",
       "      <th>Gdp_capita</th>\n",
       "      <th>Inflation</th>\n",
       "      <th>Rural_population</th>\n",
       "      <th>Unemployment</th>\n",
       "      <th>Population_growth</th>\n",
       "      <th>Unemployment_youth</th>\n",
       "      <th>Education</th>\n",
       "      <th>Foreign_investment</th>\n",
       "      <th>Hdi</th>\n",
       "      <th>Migration</th>\n",
       "    </tr>\n",
       "  </thead>\n",
       "  <tbody>\n",
       "    <tr>\n",
       "      <th>0</th>\n",
       "      <td>Algeria</td>\n",
       "      <td>2000</td>\n",
       "      <td>1765.022577</td>\n",
       "      <td>22.654767</td>\n",
       "      <td>40.081</td>\n",
       "      <td>29.770000</td>\n",
       "      <td>1.358408</td>\n",
       "      <td>52.00</td>\n",
       "      <td>500.0</td>\n",
       "      <td>0.50</td>\n",
       "      <td>0.644</td>\n",
       "      <td>24918.0</td>\n",
       "    </tr>\n",
       "    <tr>\n",
       "      <th>1</th>\n",
       "      <td>Algeria</td>\n",
       "      <td>2001</td>\n",
       "      <td>1740.606649</td>\n",
       "      <td>-0.481508</td>\n",
       "      <td>39.288</td>\n",
       "      <td>27.299999</td>\n",
       "      <td>1.309843</td>\n",
       "      <td>47.74</td>\n",
       "      <td>513.0</td>\n",
       "      <td>0.62</td>\n",
       "      <td>0.653</td>\n",
       "      <td>28388.0</td>\n",
       "    </tr>\n",
       "    <tr>\n",
       "      <th>2</th>\n",
       "      <td>Algeria</td>\n",
       "      <td>2002</td>\n",
       "      <td>1781.826864</td>\n",
       "      <td>1.311488</td>\n",
       "      <td>38.499</td>\n",
       "      <td>25.900000</td>\n",
       "      <td>1.275066</td>\n",
       "      <td>43.48</td>\n",
       "      <td>529.0</td>\n",
       "      <td>0.74</td>\n",
       "      <td>0.664</td>\n",
       "      <td>36637.0</td>\n",
       "    </tr>\n",
       "    <tr>\n",
       "      <th>3</th>\n",
       "      <td>Algeria</td>\n",
       "      <td>2003</td>\n",
       "      <td>2103.381467</td>\n",
       "      <td>8.328836</td>\n",
       "      <td>37.716</td>\n",
       "      <td>23.719999</td>\n",
       "      <td>1.275915</td>\n",
       "      <td>39.22</td>\n",
       "      <td>542.0</td>\n",
       "      <td>0.86</td>\n",
       "      <td>0.674</td>\n",
       "      <td>42361.0</td>\n",
       "    </tr>\n",
       "    <tr>\n",
       "      <th>4</th>\n",
       "      <td>Algeria</td>\n",
       "      <td>2004</td>\n",
       "      <td>2609.952692</td>\n",
       "      <td>12.245876</td>\n",
       "      <td>36.939</td>\n",
       "      <td>17.650000</td>\n",
       "      <td>1.317846</td>\n",
       "      <td>34.96</td>\n",
       "      <td>557.0</td>\n",
       "      <td>0.98</td>\n",
       "      <td>0.684</td>\n",
       "      <td>44840.0</td>\n",
       "    </tr>\n",
       "  </tbody>\n",
       "</table>\n",
       "</div>"
      ],
      "text/plain": [
       "  Country Name  Year   Gdp_capita  Inflation  Rural_population  Unemployment  \\\n",
       "0      Algeria  2000  1765.022577  22.654767            40.081     29.770000   \n",
       "1      Algeria  2001  1740.606649  -0.481508            39.288     27.299999   \n",
       "2      Algeria  2002  1781.826864   1.311488            38.499     25.900000   \n",
       "3      Algeria  2003  2103.381467   8.328836            37.716     23.719999   \n",
       "4      Algeria  2004  2609.952692  12.245876            36.939     17.650000   \n",
       "\n",
       "   Population_growth  Unemployment_youth  Education  Foreign_investment  \\\n",
       "0           1.358408               52.00      500.0                0.50   \n",
       "1           1.309843               47.74      513.0                0.62   \n",
       "2           1.275066               43.48      529.0                0.74   \n",
       "3           1.275915               39.22      542.0                0.86   \n",
       "4           1.317846               34.96      557.0                0.98   \n",
       "\n",
       "     Hdi  Migration  \n",
       "0  0.644    24918.0  \n",
       "1  0.653    28388.0  \n",
       "2  0.664    36637.0  \n",
       "3  0.674    42361.0  \n",
       "4  0.684    44840.0  "
      ]
     },
     "execution_count": 134,
     "metadata": {},
     "output_type": "execute_result"
    }
   ],
   "source": [
    "africa_2.head()"
   ]
  },
  {
   "cell_type": "code",
   "execution_count": 135,
   "metadata": {},
   "outputs": [],
   "source": [
    "africa.drop('Migration',axis=1,inplace= True)"
   ]
  },
  {
   "cell_type": "markdown",
   "metadata": {},
   "source": [
    "Create Dummies for the categorical variables"
   ]
  },
  {
   "cell_type": "code",
   "execution_count": 136,
   "metadata": {},
   "outputs": [],
   "source": [
    "africa = pd.get_dummies(africa, prefix=['Year','Country Name'],\n",
    "               columns=['Year','Country Name'])"
   ]
  },
  {
   "cell_type": "code",
   "execution_count": 137,
   "metadata": {},
   "outputs": [],
   "source": [
    "all_data_num_columns = list(africa.select_dtypes(include='float'))"
   ]
  },
  {
   "cell_type": "markdown",
   "metadata": {},
   "source": [
    "Scaling the features"
   ]
  },
  {
   "cell_type": "raw",
   "metadata": {},
   "source": [
    "\n",
    "sc=StandardScaler()\n",
    "africa[all_data_num_columns] = sc.fit_transform(africa[all_data_num_columns])"
   ]
  },
  {
   "cell_type": "code",
   "execution_count": 138,
   "metadata": {},
   "outputs": [],
   "source": [
    "X_train, X_test, y_train, y_test = train_test_split(africa,Y,test_size=0.10,random_state = 0)"
   ]
  },
  {
   "cell_type": "code",
   "execution_count": 139,
   "metadata": {},
   "outputs": [
    {
     "name": "stdout",
     "output_type": "stream",
     "text": [
      "0.9603002561796532\n",
      "0.9601207428893976\n"
     ]
    },
    {
     "name": "stderr",
     "output_type": "stream",
     "text": [
      "C:\\Users\\Carlos\\Anaconda3\\lib\\site-packages\\sklearn\\linear_model\\coordinate_descent.py:491: ConvergenceWarning: Objective did not converge. You might want to increase the number of iterations. Fitting data with very small alpha may cause precision problems.\n",
      "  ConvergenceWarning)\n"
     ]
    }
   ],
   "source": [
    "lassoreg = Lasso(random_state=0)\n",
    "lasso_modell = lassoreg.fit(X_train,y_train)\n",
    "lasso_pred = lasso_modell.predict(X_test)\n",
    "print(explained_variance_score(y_test,lasso_pred))\n",
    "print(r2_score(y_test,lasso_pred))"
   ]
  },
  {
   "cell_type": "code",
   "execution_count": 140,
   "metadata": {},
   "outputs": [
    {
     "name": "stdout",
     "output_type": "stream",
     "text": [
      "0.9620175642297442\n",
      "3970.8618090185173\n"
     ]
    }
   ],
   "source": [
    "from sklearn.linear_model import Ridge\n",
    "ridgereg = Ridge(random_state = 0)\n",
    "ridgereg.fit(X_train,y_train)\n",
    "ridgepred = ridgereg.predict(X_test)\n",
    "print(explained_variance_score(y_test,ridgepred)) \n",
    "print(np.sqrt(mean_squared_error(y_test,ridgepred)))"
   ]
  },
  {
   "cell_type": "code",
   "execution_count": 141,
   "metadata": {},
   "outputs": [],
   "source": [
    "gbreg_params={'learning_rate':[0.5,0.1, 0.05, 0.01],'n_estimators':[600,800,1000],\n",
    "              'max_depth': [2,4,6],'min_samples_split':[6,8,10]}\n",
    "gbreg_opt = GradientBoostingRegressor()"
   ]
  },
  {
   "cell_type": "code",
   "execution_count": 142,
   "metadata": {
    "scrolled": true
   },
   "outputs": [
    {
     "name": "stdout",
     "output_type": "stream",
     "text": [
      "{'n_estimators': 600, 'min_samples_split': 8, 'max_depth': 6, 'learning_rate': 0.05} 0.9567981304984485\n"
     ]
    }
   ],
   "source": [
    "random_gb = RandomizedSearchCV(gbreg_opt, param_distributions=gbreg_params,\n",
    "                                  n_iter=10,cv=3,scoring='explained_variance',\n",
    "                               random_state=0)\n",
    "\n",
    "random_result_gb = random_gb.fit(X_train,y_train)\n",
    "print(random_result_gb.best_params_,random_result_gb.best_score_) "
   ]
  },
  {
   "cell_type": "code",
   "execution_count": 143,
   "metadata": {},
   "outputs": [],
   "source": [
    "pred_gb = random_gb.best_estimator_.predict(X_test)"
   ]
  },
  {
   "cell_type": "code",
   "execution_count": 144,
   "metadata": {},
   "outputs": [
    {
     "name": "stdout",
     "output_type": "stream",
     "text": [
      "0.9772186063368542\n"
     ]
    }
   ],
   "source": [
    "print(explained_variance_score(y_test,pred_gb)) "
   ]
  },
  {
   "cell_type": "code",
   "execution_count": 145,
   "metadata": {},
   "outputs": [],
   "source": [
    "rf_params={'n_estimators':[100,150,200,400,800],'min_samples_leaf': [1, 2, 4], 'max_depth': [10, 20, 30, 40, 50, 60, 70, 80],\n",
    "          'min_samples_leaf': [1, 2, 4]}\n",
    "rf_opt=RandomForestRegressor()"
   ]
  },
  {
   "cell_type": "code",
   "execution_count": 146,
   "metadata": {},
   "outputs": [
    {
     "name": "stdout",
     "output_type": "stream",
     "text": [
      "{'n_estimators': 800, 'min_samples_leaf': 1, 'max_depth': 70} 0.9602071135743576\n"
     ]
    }
   ],
   "source": [
    "random_rf = RandomizedSearchCV(rf_opt, param_distributions=rf_params,\n",
    "                                  n_iter=10,cv=3,scoring='explained_variance',\n",
    "                               random_state=0)\n",
    "\n",
    "random_result_rf = random_rf.fit(X_train,y_train)\n",
    "print(random_result_rf.best_params_,random_result_rf.best_score_) "
   ]
  },
  {
   "cell_type": "code",
   "execution_count": 147,
   "metadata": {},
   "outputs": [],
   "source": [
    "XGBreg_params={'learning_rate':[0.1, 0.05, 0.01,0.001],'n_estimators':[3400,3700,3900,4000],\n",
    "              'max_depth':[2,3,6], 'colsample_bytree':[0.2,0.3,0.4]}\n",
    "XGBreg_opt = XGBRegressor()"
   ]
  },
  {
   "cell_type": "code",
   "execution_count": 148,
   "metadata": {},
   "outputs": [
    {
     "name": "stdout",
     "output_type": "stream",
     "text": [
      "{'n_estimators': 3900, 'max_depth': 2, 'learning_rate': 0.05, 'colsample_bytree': 0.4} 0.9441956943124996\n"
     ]
    }
   ],
   "source": [
    "random_XGB = RandomizedSearchCV(XGBreg_opt, param_distributions=XGBreg_params,n_iter=15,cv=5, scoring='explained_variance',random_state=0)\n",
    "random_result_XGB = random_XGB.fit(X_train,y_train)\n",
    "print(random_result_XGB.best_params_,random_result_XGB.best_score_)"
   ]
  },
  {
   "cell_type": "code",
   "execution_count": 149,
   "metadata": {},
   "outputs": [],
   "source": [
    "pred_xgb =random_XGB.best_estimator_.predict(X_test)"
   ]
  },
  {
   "cell_type": "code",
   "execution_count": 150,
   "metadata": {},
   "outputs": [
    {
     "name": "stdout",
     "output_type": "stream",
     "text": [
      "0.9874621561525477\n"
     ]
    }
   ],
   "source": [
    "print(explained_variance_score(y_test,pred_xgb)) "
   ]
  },
  {
   "cell_type": "code",
   "execution_count": null,
   "metadata": {},
   "outputs": [],
   "source": []
  },
  {
   "cell_type": "code",
   "execution_count": 151,
   "metadata": {},
   "outputs": [],
   "source": [
    "pred_rf = random_rf.best_estimator_.predict(X_test)"
   ]
  },
  {
   "cell_type": "code",
   "execution_count": 152,
   "metadata": {},
   "outputs": [],
   "source": [
    "avg_2_pred = (pred_rf+pred_gb+pred_xgb)/3"
   ]
  },
  {
   "cell_type": "code",
   "execution_count": 153,
   "metadata": {},
   "outputs": [
    {
     "name": "stdout",
     "output_type": "stream",
     "text": [
      "0.9892883276799517\n",
      "0.9891553296264913\n"
     ]
    }
   ],
   "source": [
    "print(explained_variance_score(y_test,avg_2_pred)) \n",
    "print(r2_score(y_test,avg_2_pred)) "
   ]
  },
  {
   "cell_type": "code",
   "execution_count": 154,
   "metadata": {},
   "outputs": [
    {
     "name": "stdout",
     "output_type": "stream",
     "text": [
      "2120.0879775313288\n"
     ]
    }
   ],
   "source": [
    "print(np.sqrt(mean_squared_error(y_test,avg_2_pred)))"
   ]
  },
  {
   "cell_type": "code",
   "execution_count": 155,
   "metadata": {},
   "outputs": [],
   "source": [
    "difference = (avg_2_pred-y_test)"
   ]
  },
  {
   "cell_type": "code",
   "execution_count": 156,
   "metadata": {},
   "outputs": [],
   "source": [
    "results =pd.DataFrame({'Pred':avg_2_pred, 'Real':y_test,'Diff':difference})"
   ]
  },
  {
   "cell_type": "code",
   "execution_count": 157,
   "metadata": {},
   "outputs": [
    {
     "data": {
      "text/plain": [
       "(74, 3)"
      ]
     },
     "execution_count": 157,
     "metadata": {},
     "output_type": "execute_result"
    }
   ],
   "source": [
    "results.shape"
   ]
  },
  {
   "cell_type": "code",
   "execution_count": 158,
   "metadata": {},
   "outputs": [
    {
     "data": {
      "text/plain": [
       "<matplotlib.axes._subplots.AxesSubplot at 0x26c027ae2b0>"
      ]
     },
     "execution_count": 158,
     "metadata": {},
     "output_type": "execute_result"
    },
    {
     "data": {
      "image/png": "[encoded data removed]",
      "text/plain": [
       "<Figure size 1080x504 with 1 Axes>"
      ]
     },
     "metadata": {},
     "output_type": "display_data"
    }
   ],
   "source": [
    "results.reset_index(drop=True, inplace=True)\n",
    "plt.figure(figsize=(15,7))\n",
    "plt.title('Difference between predictions and real values',  fontsize=20)\n",
    "sns.lineplot(x=results.index, y=results.Pred.values, label='Predicted Values')\n",
    "sns.lineplot(x=results.index, y=results.Real.values, label='Real Values')"
   ]
  },
  {
   "cell_type": "markdown",
   "metadata": {},
   "source": [
    "<h3>Predicting Migration Outflows two years into the future</h3>"
   ]
  },
  {
   "cell_type": "markdown",
   "metadata": {},
   "source": [
    "The results form the modell are reasonable good, but there is a catch. We are predicting this years, or past years migration flows based on data from this year. So the next step is to find out out if we can predict next years migrations based on the data that we know from this year or past years. Taking into account that there is a timedelay between the publication of Macroeconic data and the period they are referring I will use a 2 year timeframe/difference for the learning process."
   ]
  },
  {
   "cell_type": "markdown",
   "metadata": {},
   "source": [
    "<h4>Implementation</h4>"
   ]
  },
  {
   "cell_type": "markdown",
   "metadata": {},
   "source": [
    "The idea is actually very simple. I will move all the target variables two positions up in the Dataframe so that for example, the target variable for the Year 2005 matches the attributes for the year 2007. In order to match the length of the attributes with the length of the target variable I will have to remove the last two years per country from the features during the learning process.\n",
    "The last two years will afterwards be used as the testing set.\n"
   ]
  },
  {
   "cell_type": "code",
   "execution_count": 159,
   "metadata": {},
   "outputs": [],
   "source": [
    "#Create a dataframe that holds the target variable\n",
    "Future_Migration=africa_2[['Country Name','Year','Migration']]"
   ]
  },
  {
   "cell_type": "code",
   "execution_count": 160,
   "metadata": {},
   "outputs": [],
   "source": [
    "Actual_Features = africa_2"
   ]
  },
  {
   "cell_type": "code",
   "execution_count": 161,
   "metadata": {},
   "outputs": [
    {
     "data": {
      "text/html": [
       "<div>\n",
       "<style scoped>\n",
       "    .dataframe tbody tr th:only-of-type {\n",
       "        vertical-align: middle;\n",
       "    }\n",
       "\n",
       "    .dataframe tbody tr th {\n",
       "        vertical-align: top;\n",
       "    }\n",
       "\n",
       "    .dataframe thead th {\n",
       "        text-align: right;\n",
       "    }\n",
       "</style>\n",
       "<table border=\"1\" class=\"dataframe\">\n",
       "  <thead>\n",
       "    <tr style=\"text-align: right;\">\n",
       "      <th></th>\n",
       "      <th>Country Name</th>\n",
       "      <th>Year</th>\n",
       "      <th>Gdp_capita</th>\n",
       "      <th>Inflation</th>\n",
       "      <th>Rural_population</th>\n",
       "      <th>Unemployment</th>\n",
       "      <th>Population_growth</th>\n",
       "      <th>Unemployment_youth</th>\n",
       "      <th>Education</th>\n",
       "      <th>Foreign_investment</th>\n",
       "      <th>Hdi</th>\n",
       "      <th>Migration</th>\n",
       "    </tr>\n",
       "  </thead>\n",
       "  <tbody>\n",
       "    <tr>\n",
       "      <th>0</th>\n",
       "      <td>Algeria</td>\n",
       "      <td>2000</td>\n",
       "      <td>1765.022577</td>\n",
       "      <td>22.654767</td>\n",
       "      <td>40.081</td>\n",
       "      <td>29.770000</td>\n",
       "      <td>1.358408</td>\n",
       "      <td>52.00</td>\n",
       "      <td>500.0</td>\n",
       "      <td>0.50</td>\n",
       "      <td>0.644</td>\n",
       "      <td>24918.0</td>\n",
       "    </tr>\n",
       "    <tr>\n",
       "      <th>1</th>\n",
       "      <td>Algeria</td>\n",
       "      <td>2001</td>\n",
       "      <td>1740.606649</td>\n",
       "      <td>-0.481508</td>\n",
       "      <td>39.288</td>\n",
       "      <td>27.299999</td>\n",
       "      <td>1.309843</td>\n",
       "      <td>47.74</td>\n",
       "      <td>513.0</td>\n",
       "      <td>0.62</td>\n",
       "      <td>0.653</td>\n",
       "      <td>28388.0</td>\n",
       "    </tr>\n",
       "    <tr>\n",
       "      <th>2</th>\n",
       "      <td>Algeria</td>\n",
       "      <td>2002</td>\n",
       "      <td>1781.826864</td>\n",
       "      <td>1.311488</td>\n",
       "      <td>38.499</td>\n",
       "      <td>25.900000</td>\n",
       "      <td>1.275066</td>\n",
       "      <td>43.48</td>\n",
       "      <td>529.0</td>\n",
       "      <td>0.74</td>\n",
       "      <td>0.664</td>\n",
       "      <td>36637.0</td>\n",
       "    </tr>\n",
       "    <tr>\n",
       "      <th>3</th>\n",
       "      <td>Algeria</td>\n",
       "      <td>2003</td>\n",
       "      <td>2103.381467</td>\n",
       "      <td>8.328836</td>\n",
       "      <td>37.716</td>\n",
       "      <td>23.719999</td>\n",
       "      <td>1.275915</td>\n",
       "      <td>39.22</td>\n",
       "      <td>542.0</td>\n",
       "      <td>0.86</td>\n",
       "      <td>0.674</td>\n",
       "      <td>42361.0</td>\n",
       "    </tr>\n",
       "    <tr>\n",
       "      <th>4</th>\n",
       "      <td>Algeria</td>\n",
       "      <td>2004</td>\n",
       "      <td>2609.952692</td>\n",
       "      <td>12.245876</td>\n",
       "      <td>36.939</td>\n",
       "      <td>17.650000</td>\n",
       "      <td>1.317846</td>\n",
       "      <td>34.96</td>\n",
       "      <td>557.0</td>\n",
       "      <td>0.98</td>\n",
       "      <td>0.684</td>\n",
       "      <td>44840.0</td>\n",
       "    </tr>\n",
       "  </tbody>\n",
       "</table>\n",
       "</div>"
      ],
      "text/plain": [
       "  Country Name  Year   Gdp_capita  Inflation  Rural_population  Unemployment  \\\n",
       "0      Algeria  2000  1765.022577  22.654767            40.081     29.770000   \n",
       "1      Algeria  2001  1740.606649  -0.481508            39.288     27.299999   \n",
       "2      Algeria  2002  1781.826864   1.311488            38.499     25.900000   \n",
       "3      Algeria  2003  2103.381467   8.328836            37.716     23.719999   \n",
       "4      Algeria  2004  2609.952692  12.245876            36.939     17.650000   \n",
       "\n",
       "   Population_growth  Unemployment_youth  Education  Foreign_investment  \\\n",
       "0           1.358408               52.00      500.0                0.50   \n",
       "1           1.309843               47.74      513.0                0.62   \n",
       "2           1.275066               43.48      529.0                0.74   \n",
       "3           1.275915               39.22      542.0                0.86   \n",
       "4           1.317846               34.96      557.0                0.98   \n",
       "\n",
       "     Hdi  Migration  \n",
       "0  0.644    24918.0  \n",
       "1  0.653    28388.0  \n",
       "2  0.664    36637.0  \n",
       "3  0.674    42361.0  \n",
       "4  0.684    44840.0  "
      ]
     },
     "execution_count": 161,
     "metadata": {},
     "output_type": "execute_result"
    }
   ],
   "source": [
    "africa_2.head()"
   ]
  },
  {
   "cell_type": "code",
   "execution_count": 162,
   "metadata": {},
   "outputs": [],
   "source": [
    "#Remove the two first years for each country.\n",
    "Future_Migration = Future_Migration.drop(Future_Migration[(Future_Migration.Year=='2000')].index)"
   ]
  },
  {
   "cell_type": "code",
   "execution_count": 163,
   "metadata": {},
   "outputs": [
    {
     "data": {
      "text/html": [
       "<div>\n",
       "<style scoped>\n",
       "    .dataframe tbody tr th:only-of-type {\n",
       "        vertical-align: middle;\n",
       "    }\n",
       "\n",
       "    .dataframe tbody tr th {\n",
       "        vertical-align: top;\n",
       "    }\n",
       "\n",
       "    .dataframe thead th {\n",
       "        text-align: right;\n",
       "    }\n",
       "</style>\n",
       "<table border=\"1\" class=\"dataframe\">\n",
       "  <thead>\n",
       "    <tr style=\"text-align: right;\">\n",
       "      <th></th>\n",
       "      <th>Country Name</th>\n",
       "      <th>Year</th>\n",
       "      <th>Migration</th>\n",
       "    </tr>\n",
       "  </thead>\n",
       "  <tbody>\n",
       "    <tr>\n",
       "      <th>1</th>\n",
       "      <td>Algeria</td>\n",
       "      <td>2001</td>\n",
       "      <td>28388.0</td>\n",
       "    </tr>\n",
       "    <tr>\n",
       "      <th>2</th>\n",
       "      <td>Algeria</td>\n",
       "      <td>2002</td>\n",
       "      <td>36637.0</td>\n",
       "    </tr>\n",
       "  </tbody>\n",
       "</table>\n",
       "</div>"
      ],
      "text/plain": [
       "  Country Name  Year  Migration\n",
       "1      Algeria  2001    28388.0\n",
       "2      Algeria  2002    36637.0"
      ]
     },
     "execution_count": 163,
     "metadata": {},
     "output_type": "execute_result"
    }
   ],
   "source": [
    "Future_Migration.head(2)"
   ]
  },
  {
   "cell_type": "code",
   "execution_count": null,
   "metadata": {},
   "outputs": [],
   "source": []
  },
  {
   "cell_type": "code",
   "execution_count": null,
   "metadata": {},
   "outputs": [],
   "source": []
  },
  {
   "cell_type": "code",
   "execution_count": 164,
   "metadata": {},
   "outputs": [],
   "source": [
    "#Align the features so the target variable from the future matches the data from the present\n",
    "Actual_Features = Actual_Features.drop(Actual_Features[(Actual_Features.Year=='2016')].index)"
   ]
  },
  {
   "cell_type": "code",
   "execution_count": null,
   "metadata": {},
   "outputs": [],
   "source": []
  },
  {
   "cell_type": "code",
   "execution_count": 165,
   "metadata": {},
   "outputs": [],
   "source": [
    "#reset the indices so that features and target match\n",
    "Actual_Features = Actual_Features.reset_index(drop=True, inplace=False)"
   ]
  },
  {
   "cell_type": "code",
   "execution_count": 166,
   "metadata": {},
   "outputs": [],
   "source": [
    "Future_Migration = Future_Migration.reset_index(drop=True, inplace=False)"
   ]
  },
  {
   "cell_type": "code",
   "execution_count": 167,
   "metadata": {},
   "outputs": [],
   "source": [
    "futurearray = Future_Migration.Migration.values"
   ]
  },
  {
   "cell_type": "code",
   "execution_count": 168,
   "metadata": {},
   "outputs": [],
   "source": [
    "Actual_Features['Migration'] = futurearray"
   ]
  },
  {
   "cell_type": "code",
   "execution_count": 169,
   "metadata": {},
   "outputs": [
    {
     "data": {
      "text/html": [
       "<div>\n",
       "<style scoped>\n",
       "    .dataframe tbody tr th:only-of-type {\n",
       "        vertical-align: middle;\n",
       "    }\n",
       "\n",
       "    .dataframe tbody tr th {\n",
       "        vertical-align: top;\n",
       "    }\n",
       "\n",
       "    .dataframe thead th {\n",
       "        text-align: right;\n",
       "    }\n",
       "</style>\n",
       "<table border=\"1\" class=\"dataframe\">\n",
       "  <thead>\n",
       "    <tr style=\"text-align: right;\">\n",
       "      <th></th>\n",
       "      <th>Country Name</th>\n",
       "      <th>Year</th>\n",
       "      <th>Gdp_capita</th>\n",
       "      <th>Inflation</th>\n",
       "      <th>Rural_population</th>\n",
       "      <th>Unemployment</th>\n",
       "      <th>Population_growth</th>\n",
       "      <th>Unemployment_youth</th>\n",
       "      <th>Education</th>\n",
       "      <th>Foreign_investment</th>\n",
       "      <th>Hdi</th>\n",
       "      <th>Migration</th>\n",
       "    </tr>\n",
       "  </thead>\n",
       "  <tbody>\n",
       "    <tr>\n",
       "      <th>0</th>\n",
       "      <td>Algeria</td>\n",
       "      <td>2000</td>\n",
       "      <td>1765.022577</td>\n",
       "      <td>22.654767</td>\n",
       "      <td>40.081</td>\n",
       "      <td>29.770000</td>\n",
       "      <td>1.358408</td>\n",
       "      <td>52.00</td>\n",
       "      <td>500.0</td>\n",
       "      <td>0.50</td>\n",
       "      <td>0.644</td>\n",
       "      <td>28388.0</td>\n",
       "    </tr>\n",
       "    <tr>\n",
       "      <th>1</th>\n",
       "      <td>Algeria</td>\n",
       "      <td>2001</td>\n",
       "      <td>1740.606649</td>\n",
       "      <td>-0.481508</td>\n",
       "      <td>39.288</td>\n",
       "      <td>27.299999</td>\n",
       "      <td>1.309843</td>\n",
       "      <td>47.74</td>\n",
       "      <td>513.0</td>\n",
       "      <td>0.62</td>\n",
       "      <td>0.653</td>\n",
       "      <td>36637.0</td>\n",
       "    </tr>\n",
       "  </tbody>\n",
       "</table>\n",
       "</div>"
      ],
      "text/plain": [
       "  Country Name  Year   Gdp_capita  Inflation  Rural_population  Unemployment  \\\n",
       "0      Algeria  2000  1765.022577  22.654767            40.081     29.770000   \n",
       "1      Algeria  2001  1740.606649  -0.481508            39.288     27.299999   \n",
       "\n",
       "   Population_growth  Unemployment_youth  Education  Foreign_investment  \\\n",
       "0           1.358408               52.00      500.0                0.50   \n",
       "1           1.309843               47.74      513.0                0.62   \n",
       "\n",
       "     Hdi  Migration  \n",
       "0  0.644    28388.0  \n",
       "1  0.653    36637.0  "
      ]
     },
     "execution_count": 169,
     "metadata": {},
     "output_type": "execute_result"
    }
   ],
   "source": [
    "Actual_Features.head(2)"
   ]
  },
  {
   "cell_type": "code",
   "execution_count": 170,
   "metadata": {},
   "outputs": [
    {
     "data": {
      "text/html": [
       "<div>\n",
       "<style scoped>\n",
       "    .dataframe tbody tr th:only-of-type {\n",
       "        vertical-align: middle;\n",
       "    }\n",
       "\n",
       "    .dataframe tbody tr th {\n",
       "        vertical-align: top;\n",
       "    }\n",
       "\n",
       "    .dataframe thead th {\n",
       "        text-align: right;\n",
       "    }\n",
       "</style>\n",
       "<table border=\"1\" class=\"dataframe\">\n",
       "  <thead>\n",
       "    <tr style=\"text-align: right;\">\n",
       "      <th></th>\n",
       "      <th>Country Name</th>\n",
       "      <th>Year</th>\n",
       "      <th>Gdp_capita</th>\n",
       "      <th>Inflation</th>\n",
       "      <th>Rural_population</th>\n",
       "      <th>Unemployment</th>\n",
       "      <th>Population_growth</th>\n",
       "      <th>Unemployment_youth</th>\n",
       "      <th>Education</th>\n",
       "      <th>Foreign_investment</th>\n",
       "      <th>Hdi</th>\n",
       "      <th>Migration</th>\n",
       "    </tr>\n",
       "  </thead>\n",
       "  <tbody>\n",
       "    <tr>\n",
       "      <th>686</th>\n",
       "      <td>Zimbabwe</td>\n",
       "      <td>2014</td>\n",
       "      <td>1434.899340</td>\n",
       "      <td>-0.252141</td>\n",
       "      <td>67.496</td>\n",
       "      <td>5.518</td>\n",
       "      <td>1.754692</td>\n",
       "      <td>11.4</td>\n",
       "      <td>558.0</td>\n",
       "      <td>3.0</td>\n",
       "      <td>0.525</td>\n",
       "      <td>3590.0</td>\n",
       "    </tr>\n",
       "    <tr>\n",
       "      <th>687</th>\n",
       "      <td>Zimbabwe</td>\n",
       "      <td>2015</td>\n",
       "      <td>1445.071062</td>\n",
       "      <td>0.607814</td>\n",
       "      <td>67.615</td>\n",
       "      <td>5.438</td>\n",
       "      <td>1.663813</td>\n",
       "      <td>11.4</td>\n",
       "      <td>558.0</td>\n",
       "      <td>2.4</td>\n",
       "      <td>0.529</td>\n",
       "      <td>2835.0</td>\n",
       "    </tr>\n",
       "  </tbody>\n",
       "</table>\n",
       "</div>"
      ],
      "text/plain": [
       "    Country Name  Year   Gdp_capita  Inflation  Rural_population  \\\n",
       "686     Zimbabwe  2014  1434.899340  -0.252141            67.496   \n",
       "687     Zimbabwe  2015  1445.071062   0.607814            67.615   \n",
       "\n",
       "     Unemployment  Population_growth  Unemployment_youth  Education  \\\n",
       "686         5.518           1.754692                11.4      558.0   \n",
       "687         5.438           1.663813                11.4      558.0   \n",
       "\n",
       "     Foreign_investment    Hdi  Migration  \n",
       "686                 3.0  0.525     3590.0  \n",
       "687                 2.4  0.529     2835.0  "
      ]
     },
     "execution_count": 170,
     "metadata": {},
     "output_type": "execute_result"
    }
   ],
   "source": [
    "Actual_Features.tail(2)"
   ]
  },
  {
   "cell_type": "code",
   "execution_count": 171,
   "metadata": {},
   "outputs": [],
   "source": [
    "Y_f=Actual_Features.Migration"
   ]
  },
  {
   "cell_type": "code",
   "execution_count": 172,
   "metadata": {},
   "outputs": [
    {
     "data": {
      "text/plain": [
       "(688, 12)"
      ]
     },
     "execution_count": 172,
     "metadata": {},
     "output_type": "execute_result"
    }
   ],
   "source": [
    "Actual_Features.shape"
   ]
  },
  {
   "cell_type": "code",
   "execution_count": null,
   "metadata": {},
   "outputs": [],
   "source": []
  },
  {
   "cell_type": "code",
   "execution_count": 173,
   "metadata": {},
   "outputs": [
    {
     "data": {
      "text/plain": [
       "(688,)"
      ]
     },
     "execution_count": 173,
     "metadata": {},
     "output_type": "execute_result"
    }
   ],
   "source": [
    "Y_f.shape"
   ]
  },
  {
   "cell_type": "code",
   "execution_count": 174,
   "metadata": {},
   "outputs": [],
   "source": [
    "Actual_Features.drop('Migration',axis=1,inplace= True)"
   ]
  },
  {
   "cell_type": "code",
   "execution_count": 175,
   "metadata": {},
   "outputs": [],
   "source": [
    "Actual_Features = pd.get_dummies(Actual_Features, prefix=['Year','Country Name'],\n",
    "               columns=['Year','Country Name'])"
   ]
  },
  {
   "cell_type": "code",
   "execution_count": 176,
   "metadata": {},
   "outputs": [],
   "source": [
    "all_data_num_columns = list(Actual_Features.select_dtypes(include='float'))"
   ]
  },
  {
   "cell_type": "raw",
   "metadata": {},
   "source": [
    "sc=MinMaxScaler()\n",
    "Actual_Features[all_data_num_columns] = sc.fit_transform(Actual_Features[all_data_num_columns])"
   ]
  },
  {
   "cell_type": "code",
   "execution_count": 177,
   "metadata": {},
   "outputs": [],
   "source": [
    "#Scale fetures"
   ]
  },
  {
   "cell_type": "code",
   "execution_count": 178,
   "metadata": {},
   "outputs": [],
   "source": [
    "X_train, X_test, y_train, y_test = train_test_split(Actual_Features,Y_f,test_size=0.10,random_state = 0)"
   ]
  },
  {
   "cell_type": "code",
   "execution_count": null,
   "metadata": {},
   "outputs": [],
   "source": []
  },
  {
   "cell_type": "code",
   "execution_count": null,
   "metadata": {},
   "outputs": [],
   "source": []
  },
  {
   "cell_type": "code",
   "execution_count": 179,
   "metadata": {},
   "outputs": [],
   "source": [
    "gbreg_params={'learning_rate':[0.5,0.1, 0.05, 0.01],'n_estimators':[600,800,1000,1200],\n",
    "              'max_depth': [2,4,6],'min_samples_split':[4,6,8]}\n",
    "gbreg_opt = GradientBoostingRegressor()"
   ]
  },
  {
   "cell_type": "code",
   "execution_count": 180,
   "metadata": {},
   "outputs": [
    {
     "name": "stdout",
     "output_type": "stream",
     "text": [
      "{'n_estimators': 800, 'min_samples_split': 6, 'max_depth': 4, 'learning_rate': 0.05} 0.9643991018485973\n"
     ]
    }
   ],
   "source": [
    "random_gb = RandomizedSearchCV(gbreg_opt, param_distributions=gbreg_params,\n",
    "                                  n_iter=10,cv=3,scoring='explained_variance',\n",
    "                               random_state=0)\n",
    "\n",
    "random_result_gb = random_gb.fit(X_train,y_train)\n",
    "print(random_result_gb.best_params_,random_result_gb.best_score_) "
   ]
  },
  {
   "cell_type": "code",
   "execution_count": null,
   "metadata": {},
   "outputs": [],
   "source": []
  },
  {
   "cell_type": "code",
   "execution_count": null,
   "metadata": {},
   "outputs": [],
   "source": []
  },
  {
   "cell_type": "code",
   "execution_count": 181,
   "metadata": {},
   "outputs": [],
   "source": [
    "rf_params={'n_estimators':[100,150,200,400,800],'min_samples_leaf': [1, 2, 4], 'max_depth': [4,6,10, 20, 30, 40],\n",
    "          'min_samples_leaf': [1, 2, 4]}\n",
    "rf_opt=RandomForestRegressor()"
   ]
  },
  {
   "cell_type": "code",
   "execution_count": 182,
   "metadata": {},
   "outputs": [
    {
     "name": "stdout",
     "output_type": "stream",
     "text": [
      "{'n_estimators': 100, 'min_samples_leaf': 1, 'max_depth': 20} 0.9605343570979843\n"
     ]
    }
   ],
   "source": [
    "random_rf = RandomizedSearchCV(rf_opt, param_distributions=rf_params,\n",
    "                                  n_iter=10,cv=3,scoring='explained_variance',\n",
    "                               random_state=0)\n",
    "\n",
    "random_result_rf = random_rf.fit(X_train,y_train)\n",
    "print(random_result_rf.best_params_,random_result_rf.best_score_)"
   ]
  },
  {
   "cell_type": "code",
   "execution_count": 183,
   "metadata": {},
   "outputs": [],
   "source": [
    "XGBreg_params={'learning_rate':[0.1, 0.05, 0.01,0.001],'n_estimators':[3400,3700,3900,4000],\n",
    "              'max_depth':[2,4,6,8], 'colsample_bytree':[0.2,0.3,0.4]}\n",
    "XGBreg_opt = XGBRegressor()"
   ]
  },
  {
   "cell_type": "code",
   "execution_count": 184,
   "metadata": {},
   "outputs": [
    {
     "name": "stdout",
     "output_type": "stream",
     "text": [
      "{'n_estimators': 3700, 'max_depth': 2, 'learning_rate': 0.05, 'colsample_bytree': 0.4} 0.9539718398838473\n"
     ]
    }
   ],
   "source": [
    "random_XGB = RandomizedSearchCV(XGBreg_opt, param_distributions=XGBreg_params,n_iter=15,cv=5, scoring='explained_variance',random_state=0)\n",
    "random_result_XGB = random_XGB.fit(X_train,y_train)\n",
    "print(random_result_XGB.best_params_,random_result_XGB.best_score_)"
   ]
  },
  {
   "cell_type": "code",
   "execution_count": 190,
   "metadata": {},
   "outputs": [],
   "source": [
    "pred_xgb =random_XGB.best_estimator_.predict(X_test)\n",
    "pred_gb =random_gb.best_estimator_.predict(X_test)"
   ]
  },
  {
   "cell_type": "code",
   "execution_count": 191,
   "metadata": {},
   "outputs": [
    {
     "name": "stdout",
     "output_type": "stream",
     "text": [
      "0.9686309958004266\n"
     ]
    }
   ],
   "source": [
    "print(explained_variance_score(y_test,pred_xgb)) "
   ]
  },
  {
   "cell_type": "code",
   "execution_count": 192,
   "metadata": {},
   "outputs": [
    {
     "name": "stdout",
     "output_type": "stream",
     "text": [
      "(69,) (69,) (69,)\n"
     ]
    }
   ],
   "source": [
    "print(pred_rf.shape,pred_gb.shape,pred_xgb.shape)"
   ]
  },
  {
   "cell_type": "code",
   "execution_count": 187,
   "metadata": {},
   "outputs": [],
   "source": [
    "pred_rf = random_rf.best_estimator_.predict(X_test)"
   ]
  },
  {
   "cell_type": "code",
   "execution_count": 194,
   "metadata": {},
   "outputs": [],
   "source": [
    "avg_3_pred = (pred_rf+pred_gb+pred_xgb)/3"
   ]
  },
  {
   "cell_type": "code",
   "execution_count": 195,
   "metadata": {},
   "outputs": [
    {
     "name": "stdout",
     "output_type": "stream",
     "text": [
      "0.9723290566483591\n",
      "0.9722454276117042\n"
     ]
    }
   ],
   "source": [
    "print(explained_variance_score(y_test,avg_3_pred)) \n",
    "print(r2_score(y_test,avg_3_pred)) "
   ]
  },
  {
   "cell_type": "code",
   "execution_count": 196,
   "metadata": {},
   "outputs": [
    {
     "name": "stdout",
     "output_type": "stream",
     "text": [
      "4257.874587386092\n"
     ]
    }
   ],
   "source": [
    "print(np.sqrt(mean_squared_error(y_test,avg_2_pred)))"
   ]
  },
  {
   "cell_type": "code",
   "execution_count": 197,
   "metadata": {},
   "outputs": [],
   "source": [
    "difference = (avg_2_pred-y_test)"
   ]
  },
  {
   "cell_type": "code",
   "execution_count": 198,
   "metadata": {},
   "outputs": [],
   "source": [
    "results =pd.DataFrame({'Pred':avg_2_pred, 'Real':y_test,'Diff':difference})"
   ]
  },
  {
   "cell_type": "code",
   "execution_count": 199,
   "metadata": {},
   "outputs": [
    {
     "name": "stdout",
     "output_type": "stream",
     "text": [
      "1019013.004 1002886.017108829\n"
     ]
    }
   ],
   "source": [
    "print(results.Real.sum(),results.Pred.sum())"
   ]
  },
  {
   "cell_type": "code",
   "execution_count": 200,
   "metadata": {},
   "outputs": [
    {
     "data": {
      "text/html": [
       "<div>\n",
       "<style scoped>\n",
       "    .dataframe tbody tr th:only-of-type {\n",
       "        vertical-align: middle;\n",
       "    }\n",
       "\n",
       "    .dataframe tbody tr th {\n",
       "        vertical-align: top;\n",
       "    }\n",
       "\n",
       "    .dataframe thead th {\n",
       "        text-align: right;\n",
       "    }\n",
       "</style>\n",
       "<table border=\"1\" class=\"dataframe\">\n",
       "  <thead>\n",
       "    <tr style=\"text-align: right;\">\n",
       "      <th></th>\n",
       "      <th>Pred</th>\n",
       "      <th>Real</th>\n",
       "      <th>Diff</th>\n",
       "    </tr>\n",
       "  </thead>\n",
       "  <tbody>\n",
       "    <tr>\n",
       "      <th>468</th>\n",
       "      <td>1099.393872</td>\n",
       "      <td>763.002</td>\n",
       "      <td>336.391872</td>\n",
       "    </tr>\n",
       "    <tr>\n",
       "      <th>31</th>\n",
       "      <td>3895.765422</td>\n",
       "      <td>3512.000</td>\n",
       "      <td>383.765422</td>\n",
       "    </tr>\n",
       "    <tr>\n",
       "      <th>1</th>\n",
       "      <td>36933.045931</td>\n",
       "      <td>36637.000</td>\n",
       "      <td>296.045931</td>\n",
       "    </tr>\n",
       "    <tr>\n",
       "      <th>499</th>\n",
       "      <td>1171.531559</td>\n",
       "      <td>502.000</td>\n",
       "      <td>669.531559</td>\n",
       "    </tr>\n",
       "    <tr>\n",
       "      <th>601</th>\n",
       "      <td>2876.821056</td>\n",
       "      <td>3338.000</td>\n",
       "      <td>-461.178944</td>\n",
       "    </tr>\n",
       "    <tr>\n",
       "      <th>390</th>\n",
       "      <td>558.111112</td>\n",
       "      <td>376.000</td>\n",
       "      <td>182.111112</td>\n",
       "    </tr>\n",
       "    <tr>\n",
       "      <th>616</th>\n",
       "      <td>3920.422438</td>\n",
       "      <td>4172.000</td>\n",
       "      <td>-251.577562</td>\n",
       "    </tr>\n",
       "    <tr>\n",
       "      <th>315</th>\n",
       "      <td>9957.525999</td>\n",
       "      <td>11340.000</td>\n",
       "      <td>-1382.474001</td>\n",
       "    </tr>\n",
       "    <tr>\n",
       "      <th>215</th>\n",
       "      <td>22698.639927</td>\n",
       "      <td>20783.000</td>\n",
       "      <td>1915.639927</td>\n",
       "    </tr>\n",
       "    <tr>\n",
       "      <th>331</th>\n",
       "      <td>625.223619</td>\n",
       "      <td>70.000</td>\n",
       "      <td>555.223619</td>\n",
       "    </tr>\n",
       "    <tr>\n",
       "      <th>589</th>\n",
       "      <td>914.885284</td>\n",
       "      <td>117.000</td>\n",
       "      <td>797.885284</td>\n",
       "    </tr>\n",
       "    <tr>\n",
       "      <th>14</th>\n",
       "      <td>39067.094609</td>\n",
       "      <td>44936.000</td>\n",
       "      <td>-5868.905391</td>\n",
       "    </tr>\n",
       "    <tr>\n",
       "      <th>416</th>\n",
       "      <td>1419.729033</td>\n",
       "      <td>1417.000</td>\n",
       "      <td>2.729033</td>\n",
       "    </tr>\n",
       "    <tr>\n",
       "      <th>122</th>\n",
       "      <td>9413.903744</td>\n",
       "      <td>8286.001</td>\n",
       "      <td>1127.902744</td>\n",
       "    </tr>\n",
       "    <tr>\n",
       "      <th>113</th>\n",
       "      <td>5995.347004</td>\n",
       "      <td>5117.001</td>\n",
       "      <td>878.346004</td>\n",
       "    </tr>\n",
       "    <tr>\n",
       "      <th>521</th>\n",
       "      <td>43615.684364</td>\n",
       "      <td>42566.000</td>\n",
       "      <td>1049.684364</td>\n",
       "    </tr>\n",
       "    <tr>\n",
       "      <th>193</th>\n",
       "      <td>2618.346660</td>\n",
       "      <td>2034.000</td>\n",
       "      <td>584.346660</td>\n",
       "    </tr>\n",
       "    <tr>\n",
       "      <th>363</th>\n",
       "      <td>6154.970322</td>\n",
       "      <td>6789.000</td>\n",
       "      <td>-634.029678</td>\n",
       "    </tr>\n",
       "    <tr>\n",
       "      <th>369</th>\n",
       "      <td>2446.085446</td>\n",
       "      <td>2158.000</td>\n",
       "      <td>288.085446</td>\n",
       "    </tr>\n",
       "    <tr>\n",
       "      <th>636</th>\n",
       "      <td>19658.964836</td>\n",
       "      <td>26624.000</td>\n",
       "      <td>-6965.035164</td>\n",
       "    </tr>\n",
       "    <tr>\n",
       "      <th>530</th>\n",
       "      <td>1396.916127</td>\n",
       "      <td>1011.000</td>\n",
       "      <td>385.916127</td>\n",
       "    </tr>\n",
       "    <tr>\n",
       "      <th>561</th>\n",
       "      <td>32257.443520</td>\n",
       "      <td>39909.000</td>\n",
       "      <td>-7651.556480</td>\n",
       "    </tr>\n",
       "    <tr>\n",
       "      <th>85</th>\n",
       "      <td>2280.600098</td>\n",
       "      <td>2297.000</td>\n",
       "      <td>-16.399902</td>\n",
       "    </tr>\n",
       "    <tr>\n",
       "      <th>68</th>\n",
       "      <td>1796.239568</td>\n",
       "      <td>1789.000</td>\n",
       "      <td>7.239568</td>\n",
       "    </tr>\n",
       "    <tr>\n",
       "      <th>196</th>\n",
       "      <td>3501.900201</td>\n",
       "      <td>4693.000</td>\n",
       "      <td>-1191.099799</td>\n",
       "    </tr>\n",
       "    <tr>\n",
       "      <th>422</th>\n",
       "      <td>3325.253950</td>\n",
       "      <td>2821.000</td>\n",
       "      <td>504.253950</td>\n",
       "    </tr>\n",
       "    <tr>\n",
       "      <th>242</th>\n",
       "      <td>3841.869795</td>\n",
       "      <td>1906.000</td>\n",
       "      <td>1935.869795</td>\n",
       "    </tr>\n",
       "    <tr>\n",
       "      <th>245</th>\n",
       "      <td>4287.801835</td>\n",
       "      <td>3866.000</td>\n",
       "      <td>421.801835</td>\n",
       "    </tr>\n",
       "    <tr>\n",
       "      <th>686</th>\n",
       "      <td>3157.448359</td>\n",
       "      <td>3590.000</td>\n",
       "      <td>-432.551641</td>\n",
       "    </tr>\n",
       "    <tr>\n",
       "      <th>638</th>\n",
       "      <td>23375.348115</td>\n",
       "      <td>24526.000</td>\n",
       "      <td>-1150.651885</td>\n",
       "    </tr>\n",
       "    <tr>\n",
       "      <th>497</th>\n",
       "      <td>1479.254206</td>\n",
       "      <td>1682.000</td>\n",
       "      <td>-202.745794</td>\n",
       "    </tr>\n",
       "    <tr>\n",
       "      <th>8</th>\n",
       "      <td>37741.156688</td>\n",
       "      <td>38960.000</td>\n",
       "      <td>-1218.843312</td>\n",
       "    </tr>\n",
       "    <tr>\n",
       "      <th>247</th>\n",
       "      <td>4094.484112</td>\n",
       "      <td>4438.000</td>\n",
       "      <td>-343.515888</td>\n",
       "    </tr>\n",
       "    <tr>\n",
       "      <th>635</th>\n",
       "      <td>21127.349229</td>\n",
       "      <td>24729.000</td>\n",
       "      <td>-3601.650771</td>\n",
       "    </tr>\n",
       "    <tr>\n",
       "      <th>669</th>\n",
       "      <td>2162.382024</td>\n",
       "      <td>1169.000</td>\n",
       "      <td>993.382024</td>\n",
       "    </tr>\n",
       "    <tr>\n",
       "      <th>170</th>\n",
       "      <td>32351.023396</td>\n",
       "      <td>32651.000</td>\n",
       "      <td>-299.976604</td>\n",
       "    </tr>\n",
       "    <tr>\n",
       "      <th>680</th>\n",
       "      <td>3525.331186</td>\n",
       "      <td>4053.000</td>\n",
       "      <td>-527.668814</td>\n",
       "    </tr>\n",
       "    <tr>\n",
       "      <th>436</th>\n",
       "      <td>2953.835563</td>\n",
       "      <td>3135.000</td>\n",
       "      <td>-181.164437</td>\n",
       "    </tr>\n",
       "    <tr>\n",
       "      <th>142</th>\n",
       "      <td>14897.700710</td>\n",
       "      <td>15428.000</td>\n",
       "      <td>-530.299290</td>\n",
       "    </tr>\n",
       "    <tr>\n",
       "      <th>50</th>\n",
       "      <td>1053.034429</td>\n",
       "      <td>110.000</td>\n",
       "      <td>943.034429</td>\n",
       "    </tr>\n",
       "    <tr>\n",
       "      <th>392</th>\n",
       "      <td>276.608721</td>\n",
       "      <td>450.000</td>\n",
       "      <td>-173.391279</td>\n",
       "    </tr>\n",
       "    <tr>\n",
       "      <th>463</th>\n",
       "      <td>93128.305503</td>\n",
       "      <td>89243.000</td>\n",
       "      <td>3885.305503</td>\n",
       "    </tr>\n",
       "    <tr>\n",
       "      <th>478</th>\n",
       "      <td>1931.820510</td>\n",
       "      <td>957.000</td>\n",
       "      <td>974.820510</td>\n",
       "    </tr>\n",
       "    <tr>\n",
       "      <th>75</th>\n",
       "      <td>3909.502795</td>\n",
       "      <td>3056.000</td>\n",
       "      <td>853.502795</td>\n",
       "    </tr>\n",
       "    <tr>\n",
       "      <th>175</th>\n",
       "      <td>35529.010889</td>\n",
       "      <td>37612.000</td>\n",
       "      <td>-2082.989111</td>\n",
       "    </tr>\n",
       "    <tr>\n",
       "      <th>344</th>\n",
       "      <td>6621.384106</td>\n",
       "      <td>8689.000</td>\n",
       "      <td>-2067.615894</td>\n",
       "    </tr>\n",
       "    <tr>\n",
       "      <th>319</th>\n",
       "      <td>12329.754906</td>\n",
       "      <td>10455.000</td>\n",
       "      <td>1874.754906</td>\n",
       "    </tr>\n",
       "    <tr>\n",
       "      <th>406</th>\n",
       "      <td>8385.279960</td>\n",
       "      <td>7224.000</td>\n",
       "      <td>1161.279960</td>\n",
       "    </tr>\n",
       "    <tr>\n",
       "      <th>627</th>\n",
       "      <td>19958.222186</td>\n",
       "      <td>20675.000</td>\n",
       "      <td>-716.777814</td>\n",
       "    </tr>\n",
       "    <tr>\n",
       "      <th>79</th>\n",
       "      <td>2989.772346</td>\n",
       "      <td>2980.000</td>\n",
       "      <td>9.772346</td>\n",
       "    </tr>\n",
       "    <tr>\n",
       "      <th>294</th>\n",
       "      <td>2381.790358</td>\n",
       "      <td>2941.000</td>\n",
       "      <td>-559.209642</td>\n",
       "    </tr>\n",
       "    <tr>\n",
       "      <th>451</th>\n",
       "      <td>131288.455584</td>\n",
       "      <td>155259.000</td>\n",
       "      <td>-23970.544416</td>\n",
       "    </tr>\n",
       "    <tr>\n",
       "      <th>584</th>\n",
       "      <td>703.379300</td>\n",
       "      <td>101.000</td>\n",
       "      <td>602.379300</td>\n",
       "    </tr>\n",
       "    <tr>\n",
       "      <th>536</th>\n",
       "      <td>1715.777443</td>\n",
       "      <td>2379.000</td>\n",
       "      <td>-663.222557</td>\n",
       "    </tr>\n",
       "    <tr>\n",
       "      <th>545</th>\n",
       "      <td>3260.874580</td>\n",
       "      <td>4560.000</td>\n",
       "      <td>-1299.125420</td>\n",
       "    </tr>\n",
       "    <tr>\n",
       "      <th>202</th>\n",
       "      <td>12421.755621</td>\n",
       "      <td>12084.000</td>\n",
       "      <td>337.755621</td>\n",
       "    </tr>\n",
       "    <tr>\n",
       "      <th>447</th>\n",
       "      <td>4401.274528</td>\n",
       "      <td>2628.000</td>\n",
       "      <td>1773.274528</td>\n",
       "    </tr>\n",
       "    <tr>\n",
       "      <th>682</th>\n",
       "      <td>5606.416011</td>\n",
       "      <td>4538.000</td>\n",
       "      <td>1068.416011</td>\n",
       "    </tr>\n",
       "    <tr>\n",
       "      <th>485</th>\n",
       "      <td>106.731705</td>\n",
       "      <td>317.000</td>\n",
       "      <td>-210.268295</td>\n",
       "    </tr>\n",
       "    <tr>\n",
       "      <th>449</th>\n",
       "      <td>126374.163431</td>\n",
       "      <td>105598.000</td>\n",
       "      <td>20776.163431</td>\n",
       "    </tr>\n",
       "    <tr>\n",
       "      <th>572</th>\n",
       "      <td>20013.648829</td>\n",
       "      <td>17004.000</td>\n",
       "      <td>3009.648829</td>\n",
       "    </tr>\n",
       "    <tr>\n",
       "      <th>625</th>\n",
       "      <td>18070.126853</td>\n",
       "      <td>17267.000</td>\n",
       "      <td>803.126853</td>\n",
       "    </tr>\n",
       "    <tr>\n",
       "      <th>597</th>\n",
       "      <td>2231.424624</td>\n",
       "      <td>2136.000</td>\n",
       "      <td>95.424624</td>\n",
       "    </tr>\n",
       "    <tr>\n",
       "      <th>211</th>\n",
       "      <td>15713.172754</td>\n",
       "      <td>17033.000</td>\n",
       "      <td>-1319.827246</td>\n",
       "    </tr>\n",
       "    <tr>\n",
       "      <th>165</th>\n",
       "      <td>24225.580828</td>\n",
       "      <td>28046.000</td>\n",
       "      <td>-3820.419172</td>\n",
       "    </tr>\n",
       "    <tr>\n",
       "      <th>306</th>\n",
       "      <td>6732.548816</td>\n",
       "      <td>6007.000</td>\n",
       "      <td>725.548816</td>\n",
       "    </tr>\n",
       "    <tr>\n",
       "      <th>303</th>\n",
       "      <td>3230.537780</td>\n",
       "      <td>2730.000</td>\n",
       "      <td>500.537780</td>\n",
       "    </tr>\n",
       "    <tr>\n",
       "      <th>214</th>\n",
       "      <td>23685.662815</td>\n",
       "      <td>22250.000</td>\n",
       "      <td>1435.662815</td>\n",
       "    </tr>\n",
       "    <tr>\n",
       "      <th>144</th>\n",
       "      <td>15.167978</td>\n",
       "      <td>494.000</td>\n",
       "      <td>-478.832022</td>\n",
       "    </tr>\n",
       "  </tbody>\n",
       "</table>\n",
       "</div>"
      ],
      "text/plain": [
       "              Pred        Real          Diff\n",
       "468    1099.393872     763.002    336.391872\n",
       "31     3895.765422    3512.000    383.765422\n",
       "1     36933.045931   36637.000    296.045931\n",
       "499    1171.531559     502.000    669.531559\n",
       "601    2876.821056    3338.000   -461.178944\n",
       "390     558.111112     376.000    182.111112\n",
       "616    3920.422438    4172.000   -251.577562\n",
       "315    9957.525999   11340.000  -1382.474001\n",
       "215   22698.639927   20783.000   1915.639927\n",
       "331     625.223619      70.000    555.223619\n",
       "589     914.885284     117.000    797.885284\n",
       "14    39067.094609   44936.000  -5868.905391\n",
       "416    1419.729033    1417.000      2.729033\n",
       "122    9413.903744    8286.001   1127.902744\n",
       "113    5995.347004    5117.001    878.346004\n",
       "521   43615.684364   42566.000   1049.684364\n",
       "193    2618.346660    2034.000    584.346660\n",
       "363    6154.970322    6789.000   -634.029678\n",
       "369    2446.085446    2158.000    288.085446\n",
       "636   19658.964836   26624.000  -6965.035164\n",
       "530    1396.916127    1011.000    385.916127\n",
       "561   32257.443520   39909.000  -7651.556480\n",
       "85     2280.600098    2297.000    -16.399902\n",
       "68     1796.239568    1789.000      7.239568\n",
       "196    3501.900201    4693.000  -1191.099799\n",
       "422    3325.253950    2821.000    504.253950\n",
       "242    3841.869795    1906.000   1935.869795\n",
       "245    4287.801835    3866.000    421.801835\n",
       "686    3157.448359    3590.000   -432.551641\n",
       "638   23375.348115   24526.000  -1150.651885\n",
       "497    1479.254206    1682.000   -202.745794\n",
       "8     37741.156688   38960.000  -1218.843312\n",
       "247    4094.484112    4438.000   -343.515888\n",
       "635   21127.349229   24729.000  -3601.650771\n",
       "669    2162.382024    1169.000    993.382024\n",
       "170   32351.023396   32651.000   -299.976604\n",
       "680    3525.331186    4053.000   -527.668814\n",
       "436    2953.835563    3135.000   -181.164437\n",
       "142   14897.700710   15428.000   -530.299290\n",
       "50     1053.034429     110.000    943.034429\n",
       "392     276.608721     450.000   -173.391279\n",
       "463   93128.305503   89243.000   3885.305503\n",
       "478    1931.820510     957.000    974.820510\n",
       "75     3909.502795    3056.000    853.502795\n",
       "175   35529.010889   37612.000  -2082.989111\n",
       "344    6621.384106    8689.000  -2067.615894\n",
       "319   12329.754906   10455.000   1874.754906\n",
       "406    8385.279960    7224.000   1161.279960\n",
       "627   19958.222186   20675.000   -716.777814\n",
       "79     2989.772346    2980.000      9.772346\n",
       "294    2381.790358    2941.000   -559.209642\n",
       "451  131288.455584  155259.000 -23970.544416\n",
       "584     703.379300     101.000    602.379300\n",
       "536    1715.777443    2379.000   -663.222557\n",
       "545    3260.874580    4560.000  -1299.125420\n",
       "202   12421.755621   12084.000    337.755621\n",
       "447    4401.274528    2628.000   1773.274528\n",
       "682    5606.416011    4538.000   1068.416011\n",
       "485     106.731705     317.000   -210.268295\n",
       "449  126374.163431  105598.000  20776.163431\n",
       "572   20013.648829   17004.000   3009.648829\n",
       "625   18070.126853   17267.000    803.126853\n",
       "597    2231.424624    2136.000     95.424624\n",
       "211   15713.172754   17033.000  -1319.827246\n",
       "165   24225.580828   28046.000  -3820.419172\n",
       "306    6732.548816    6007.000    725.548816\n",
       "303    3230.537780    2730.000    500.537780\n",
       "214   23685.662815   22250.000   1435.662815\n",
       "144      15.167978     494.000   -478.832022"
      ]
     },
     "execution_count": 200,
     "metadata": {},
     "output_type": "execute_result"
    }
   ],
   "source": [
    "results.head(80)"
   ]
  },
  {
   "cell_type": "code",
   "execution_count": 201,
   "metadata": {},
   "outputs": [
    {
     "data": {
      "text/plain": [
       "<matplotlib.axes._subplots.AxesSubplot at 0x26c02e3b710>"
      ]
     },
     "execution_count": 201,
     "metadata": {},
     "output_type": "execute_result"
    },
    {
     "data": {
      "image/png": "[encoded data removed]",
      "text/plain": [
       "<Figure size 1080x504 with 1 Axes>"
      ]
     },
     "metadata": {},
     "output_type": "display_data"
    }
   ],
   "source": [
    "results.reset_index(drop=True, inplace=True)\n",
    "plt.figure(figsize=(15,7))\n",
    "plt.title('Difference between predictions and real values')\n",
    "sns.lineplot(x=results.index, y=results.Pred.values, label='Predicted Values')\n",
    "sns.lineplot(x=results.index, y=results.Real.values, label='Real Values')"
   ]
  },
  {
   "cell_type": "code",
   "execution_count": null,
   "metadata": {},
   "outputs": [],
   "source": []
  }
 ],
 "metadata": {
  "kernelspec": {
   "display_name": "Python 3",
   "language": "python",
   "name": "python3"
  },
  "language_info": {
   "codemirror_mode": {
    "name": "ipython",
    "version": 3
   },
   "file_extension": ".py",
   "mimetype": "text/x-python",
   "name": "python",
   "nbconvert_exporter": "python",
   "pygments_lexer": "ipython3",
   "version": "3.6.5"
  }
 },
 "nbformat": 4,
 "nbformat_minor": 2
}
